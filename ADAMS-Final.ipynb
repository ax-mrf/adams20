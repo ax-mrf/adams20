{
 "cells": [
  {
   "cell_type": "markdown",
   "metadata": {},
   "source": [
    "# Advanced Data Analytics for Management Support\n",
    "## Assignment task\n",
    "### Abdallah Maarouf, 611063"
   ]
  },
  {
   "cell_type": "markdown",
   "metadata": {},
   "source": [
    "#### Table of Contents:\n",
    "    1. Introduction\n",
    "        1.1 Motivation\n",
    "        1.2 Our Data\n",
    "    2. Data pre-processing\n",
    "    3. Modeling Pipeline\n",
    "    4. Final Remarks"
   ]
  },
  {
   "cell_type": "markdown",
   "metadata": {},
   "source": [
    "## 1. Introduction \n",
    "### 1.1. Motivation\n",
    "It is about time to find how far NLP can take us. NLP researchers have put their effort in the past decades, only to baffle us by how a couple of processors and memory units can, with the same input, do something my brain has always been famously unique at doing seemlessly, for little explanation about how our brains actually do it. The current state of NLP can detect if you're being sarcastic, detect if someone's telling a lie, tell if these news are real or fake, figure out the sentiment or emotions behind your sentence, but these are merely classification tasks; ones that any human can easily do. Our task here today hopes to figure out whether NLP can be taken a step further, and help with what human brains can't usually do, predict a variable via machine learning. \n",
    "\n",
    "Medium.com is a great way to find that out. Its data is influenced by many factors that make it extremely difficult to predict the reactions of people on a published article; especially that the reactions are measured by the number of claps, which one can do multiple times on the same article. In our project, we explore a dataset that has various variables describing articles found on medium.com, including the text of the article, in hope of finding good use of NLP in regression to predict the number of claps. "
   ]
  },
  {
   "cell_type": "markdown",
   "metadata": {},
   "source": [
    "### 1.2 Our Data\n",
    "Data provided for our task contains extremely valuable information for the training set, but as we are bottlenecked by the limited information available on the test set, we decide to disregard most of the variables provided and stick with the info provided on the test set, with some added feature engineering to get the most out of it. Our variables include ```Author```, ```PublicationDetails```, ```Responses```, ```Header```, ```Text```, ```Length```. ```PublicationDetails``` is a bit of a special variable, including information about the publication, date and possibly author again. "
   ]
  },
  {
   "cell_type": "markdown",
   "metadata": {
    "colab_type": "text",
    "id": "1pENgkBi0smH"
   },
   "source": [
    "## 2. Data Pre-processing\n",
    "### 2.1 Taking a look at the data\n",
    "We are going to make sure our train and test sets are in the same format, so that we emit all extra information in the training set that wouldn't be helpful, since it's not available for the test set. "
   ]
  },
  {
   "cell_type": "markdown",
   "metadata": {
    "colab_type": "text",
    "id": "IZ8FaXlT1jLD"
   },
   "source": [
    "Firstly, importing the libraries."
   ]
  },
  {
   "cell_type": "code",
   "execution_count": 1,
   "metadata": {
    "colab": {
     "base_uri": "https://localhost:8080/",
     "height": 230
    },
    "colab_type": "code",
    "id": "sWS-Xkbt1j3M",
    "outputId": "405787c1-743d-4633-d3b6-970eafdfae0a"
   },
   "outputs": [
    {
     "name": "stderr",
     "output_type": "stream",
     "text": [
      "[nltk_data] Downloading package punkt to C:\\Users\\Alex\n",
      "[nltk_data]     Work\\AppData\\Roaming\\nltk_data...\n",
      "[nltk_data]   Package punkt is already up-to-date!\n",
      "[nltk_data] Downloading package stopwords to C:\\Users\\Alex\n",
      "[nltk_data]     Work\\AppData\\Roaming\\nltk_data...\n",
      "[nltk_data]   Package stopwords is already up-to-date!\n",
      "[nltk_data] Downloading package averaged_perceptron_tagger to\n",
      "[nltk_data]     C:\\Users\\Alex Work\\AppData\\Roaming\\nltk_data...\n",
      "[nltk_data]   Package averaged_perceptron_tagger is already up-to-\n",
      "[nltk_data]       date!\n",
      "[nltk_data] Downloading package wordnet to C:\\Users\\Alex\n",
      "[nltk_data]     Work\\AppData\\Roaming\\nltk_data...\n",
      "[nltk_data]   Package wordnet is already up-to-date!\n"
     ]
    }
   ],
   "source": [
    "import os\n",
    "import numpy as np \n",
    "import pandas as pd \n",
    "import seaborn as sns\n",
    "import matplotlib.pyplot as plt\n",
    "import re\n",
    "from datetime import datetime\n",
    "import time\n",
    "import pickle\n",
    "from bs4 import BeautifulSoup\n",
    "import nltk\n",
    "from nltk.tokenize import word_tokenize\n",
    "from nltk.corpus import stopwords\n",
    "from nltk.stem import WordNetLemmatizer\n",
    "from nltk.corpus import wordnet\n",
    "nltk.download('punkt')\n",
    "nltk.download('stopwords')\n",
    "nltk.download('averaged_perceptron_tagger')\n",
    "nltk.download('wordnet')\n",
    "from sklearn.model_selection import train_test_split\n",
    "from gensim.models import Word2Vec\n",
    "from gensim.models import KeyedVectors\n",
    "from keras.preprocessing.text import Tokenizer\n",
    "from keras.preprocessing.sequence import pad_sequences\n",
    "from keras.models import Sequential\n",
    "from keras.layers import Dense, Embedding,GRU, Dropout\n",
    "from keras.layers.embeddings import Embedding\n",
    "from keras.initializers import Constant\n",
    "from gensim.models.keyedvectors import Word2VecKeyedVectors\n",
    "from gensim.models import KeyedVectors\n",
    "from multi_rake import Rake"
   ]
  },
  {
   "cell_type": "markdown",
   "metadata": {
    "colab_type": "text",
    "id": "nx7588IG14yc"
   },
   "source": [
    "Then we load our data."
   ]
  },
  {
   "cell_type": "code",
   "execution_count": 2,
   "metadata": {
    "colab": {},
    "colab_type": "code",
    "id": "zv2x5R1H2SSM"
   },
   "outputs": [],
   "source": [
    "file = 'Train.csv'\n",
    "train = pd.read_csv(file)\n",
    "file1 = 'Test.csv'\n",
    "test = pd.read_csv(file1)\n",
    "file2 = 'Sample_submission.csv'\n",
    "sample = pd.read_csv(file2)"
   ]
  },
  {
   "cell_type": "markdown",
   "metadata": {
    "colab_type": "text",
    "id": "i0e9a1cr3IYE"
   },
   "source": [
    "We then take a look at our data.\n"
   ]
  },
  {
   "cell_type": "code",
   "execution_count": 3,
   "metadata": {
    "colab": {
     "base_uri": "https://localhost:8080/",
     "height": 1000
    },
    "colab_type": "code",
    "id": "23C1lYG_2YoO",
    "outputId": "607d9455-8d8c-4dc8-d92d-89c331b51f65"
   },
   "outputs": [
    {
     "data": {
      "text/html": [
       "<div>\n",
       "<style scoped>\n",
       "    .dataframe tbody tr th:only-of-type {\n",
       "        vertical-align: middle;\n",
       "    }\n",
       "\n",
       "    .dataframe tbody tr th {\n",
       "        vertical-align: top;\n",
       "    }\n",
       "\n",
       "    .dataframe thead th {\n",
       "        text-align: right;\n",
       "    }\n",
       "</style>\n",
       "<table border=\"1\" class=\"dataframe\">\n",
       "  <thead>\n",
       "    <tr style=\"text-align: right;\">\n",
       "      <th></th>\n",
       "      <th>audioVersionDurationSec</th>\n",
       "      <th>codeBlock</th>\n",
       "      <th>codeBlockCount</th>\n",
       "      <th>collectionId</th>\n",
       "      <th>createdDate</th>\n",
       "      <th>createdDatetime</th>\n",
       "      <th>firstPublishedDate</th>\n",
       "      <th>firstPublishedDatetime</th>\n",
       "      <th>imageCount</th>\n",
       "      <th>isSubscriptionLocked</th>\n",
       "      <th>...</th>\n",
       "      <th>slug</th>\n",
       "      <th>name</th>\n",
       "      <th>postCount</th>\n",
       "      <th>author</th>\n",
       "      <th>bio</th>\n",
       "      <th>userId</th>\n",
       "      <th>userName</th>\n",
       "      <th>usersFollowedByCount</th>\n",
       "      <th>usersFollowedCount</th>\n",
       "      <th>scrappedDate</th>\n",
       "    </tr>\n",
       "  </thead>\n",
       "  <tbody>\n",
       "    <tr>\n",
       "      <th>0</th>\n",
       "      <td>0</td>\n",
       "      <td>NaN</td>\n",
       "      <td>0.0</td>\n",
       "      <td>638f418c8464</td>\n",
       "      <td>2018-09-18</td>\n",
       "      <td>2018-09-18 20:55:34</td>\n",
       "      <td>2018-09-18</td>\n",
       "      <td>2018-09-18 20:57:03</td>\n",
       "      <td>1</td>\n",
       "      <td>False</td>\n",
       "      <td>...</td>\n",
       "      <td>blockchain</td>\n",
       "      <td>Blockchain</td>\n",
       "      <td>265164.0</td>\n",
       "      <td>Anar Babaev</td>\n",
       "      <td>NaN</td>\n",
       "      <td>f1ad85af0169</td>\n",
       "      <td>babaevanar</td>\n",
       "      <td>450.0</td>\n",
       "      <td>404.0</td>\n",
       "      <td>20181104</td>\n",
       "    </tr>\n",
       "    <tr>\n",
       "      <th>1</th>\n",
       "      <td>0</td>\n",
       "      <td>NaN</td>\n",
       "      <td>0.0</td>\n",
       "      <td>638f418c8464</td>\n",
       "      <td>2018-09-18</td>\n",
       "      <td>2018-09-18 20:55:34</td>\n",
       "      <td>2018-09-18</td>\n",
       "      <td>2018-09-18 20:57:03</td>\n",
       "      <td>1</td>\n",
       "      <td>False</td>\n",
       "      <td>...</td>\n",
       "      <td>samsung</td>\n",
       "      <td>Samsung</td>\n",
       "      <td>5708.0</td>\n",
       "      <td>Anar Babaev</td>\n",
       "      <td>NaN</td>\n",
       "      <td>f1ad85af0169</td>\n",
       "      <td>babaevanar</td>\n",
       "      <td>450.0</td>\n",
       "      <td>404.0</td>\n",
       "      <td>20181104</td>\n",
       "    </tr>\n",
       "    <tr>\n",
       "      <th>2</th>\n",
       "      <td>0</td>\n",
       "      <td>NaN</td>\n",
       "      <td>0.0</td>\n",
       "      <td>638f418c8464</td>\n",
       "      <td>2018-09-18</td>\n",
       "      <td>2018-09-18 20:55:34</td>\n",
       "      <td>2018-09-18</td>\n",
       "      <td>2018-09-18 20:57:03</td>\n",
       "      <td>1</td>\n",
       "      <td>False</td>\n",
       "      <td>...</td>\n",
       "      <td>it</td>\n",
       "      <td>It</td>\n",
       "      <td>3720.0</td>\n",
       "      <td>Anar Babaev</td>\n",
       "      <td>NaN</td>\n",
       "      <td>f1ad85af0169</td>\n",
       "      <td>babaevanar</td>\n",
       "      <td>450.0</td>\n",
       "      <td>404.0</td>\n",
       "      <td>20181104</td>\n",
       "    </tr>\n",
       "    <tr>\n",
       "      <th>3</th>\n",
       "      <td>0</td>\n",
       "      <td>NaN</td>\n",
       "      <td>0.0</td>\n",
       "      <td>NaN</td>\n",
       "      <td>2018-01-07</td>\n",
       "      <td>2018-01-07 17:04:37</td>\n",
       "      <td>2018-01-07</td>\n",
       "      <td>2018-01-07 17:06:29</td>\n",
       "      <td>13</td>\n",
       "      <td>False</td>\n",
       "      <td>...</td>\n",
       "      <td>technology</td>\n",
       "      <td>Technology</td>\n",
       "      <td>166125.0</td>\n",
       "      <td>George Sykes</td>\n",
       "      <td>NaN</td>\n",
       "      <td>93b9e94f08ca</td>\n",
       "      <td>tasty231</td>\n",
       "      <td>6.0</td>\n",
       "      <td>22.0</td>\n",
       "      <td>20181104</td>\n",
       "    </tr>\n",
       "    <tr>\n",
       "      <th>4</th>\n",
       "      <td>0</td>\n",
       "      <td>NaN</td>\n",
       "      <td>0.0</td>\n",
       "      <td>NaN</td>\n",
       "      <td>2018-01-07</td>\n",
       "      <td>2018-01-07 17:04:37</td>\n",
       "      <td>2018-01-07</td>\n",
       "      <td>2018-01-07 17:06:29</td>\n",
       "      <td>13</td>\n",
       "      <td>False</td>\n",
       "      <td>...</td>\n",
       "      <td>robotics</td>\n",
       "      <td>Robotics</td>\n",
       "      <td>9103.0</td>\n",
       "      <td>George Sykes</td>\n",
       "      <td>NaN</td>\n",
       "      <td>93b9e94f08ca</td>\n",
       "      <td>tasty231</td>\n",
       "      <td>6.0</td>\n",
       "      <td>22.0</td>\n",
       "      <td>20181104</td>\n",
       "    </tr>\n",
       "    <tr>\n",
       "      <th>...</th>\n",
       "      <td>...</td>\n",
       "      <td>...</td>\n",
       "      <td>...</td>\n",
       "      <td>...</td>\n",
       "      <td>...</td>\n",
       "      <td>...</td>\n",
       "      <td>...</td>\n",
       "      <td>...</td>\n",
       "      <td>...</td>\n",
       "      <td>...</td>\n",
       "      <td>...</td>\n",
       "      <td>...</td>\n",
       "      <td>...</td>\n",
       "      <td>...</td>\n",
       "      <td>...</td>\n",
       "      <td>...</td>\n",
       "      <td>...</td>\n",
       "      <td>...</td>\n",
       "      <td>...</td>\n",
       "      <td>...</td>\n",
       "      <td>...</td>\n",
       "    </tr>\n",
       "    <tr>\n",
       "      <th>279572</th>\n",
       "      <td>0</td>\n",
       "      <td>NaN</td>\n",
       "      <td>0.0</td>\n",
       "      <td>788609e3c6a7</td>\n",
       "      <td>2018-03-21</td>\n",
       "      <td>2018-03-21 15:19:32</td>\n",
       "      <td>2018-03-21</td>\n",
       "      <td>2018-03-21 15:36:37</td>\n",
       "      <td>1</td>\n",
       "      <td>False</td>\n",
       "      <td>...</td>\n",
       "      <td>privacy</td>\n",
       "      <td>Privacy</td>\n",
       "      <td>23226.0</td>\n",
       "      <td>Cities Of The Future</td>\n",
       "      <td>Provides a platform for urban experts, city le...</td>\n",
       "      <td>49bd3f381442</td>\n",
       "      <td>citiesthefuture</td>\n",
       "      <td>222.0</td>\n",
       "      <td>159.0</td>\n",
       "      <td>20181104</td>\n",
       "    </tr>\n",
       "    <tr>\n",
       "      <th>279573</th>\n",
       "      <td>0</td>\n",
       "      <td>NaN</td>\n",
       "      <td>0.0</td>\n",
       "      <td>788609e3c6a7</td>\n",
       "      <td>2018-03-21</td>\n",
       "      <td>2018-03-21 15:19:32</td>\n",
       "      <td>2018-03-21</td>\n",
       "      <td>2018-03-21 15:36:37</td>\n",
       "      <td>1</td>\n",
       "      <td>False</td>\n",
       "      <td>...</td>\n",
       "      <td>ethics</td>\n",
       "      <td>Ethics</td>\n",
       "      <td>7787.0</td>\n",
       "      <td>Cities Of The Future</td>\n",
       "      <td>Provides a platform for urban experts, city le...</td>\n",
       "      <td>49bd3f381442</td>\n",
       "      <td>citiesthefuture</td>\n",
       "      <td>222.0</td>\n",
       "      <td>159.0</td>\n",
       "      <td>20181104</td>\n",
       "    </tr>\n",
       "    <tr>\n",
       "      <th>279574</th>\n",
       "      <td>0</td>\n",
       "      <td>NaN</td>\n",
       "      <td>0.0</td>\n",
       "      <td>788609e3c6a7</td>\n",
       "      <td>2018-03-21</td>\n",
       "      <td>2018-03-21 15:19:32</td>\n",
       "      <td>2018-03-21</td>\n",
       "      <td>2018-03-21 15:36:37</td>\n",
       "      <td>1</td>\n",
       "      <td>False</td>\n",
       "      <td>...</td>\n",
       "      <td>facial-recognition</td>\n",
       "      <td>Facial Recognition</td>\n",
       "      <td>520.0</td>\n",
       "      <td>Cities Of The Future</td>\n",
       "      <td>Provides a platform for urban experts, city le...</td>\n",
       "      <td>49bd3f381442</td>\n",
       "      <td>citiesthefuture</td>\n",
       "      <td>222.0</td>\n",
       "      <td>159.0</td>\n",
       "      <td>20181104</td>\n",
       "    </tr>\n",
       "    <tr>\n",
       "      <th>279575</th>\n",
       "      <td>0</td>\n",
       "      <td>NaN</td>\n",
       "      <td>0.0</td>\n",
       "      <td>788609e3c6a7</td>\n",
       "      <td>2018-03-21</td>\n",
       "      <td>2018-03-21 15:19:32</td>\n",
       "      <td>2018-03-21</td>\n",
       "      <td>2018-03-21 15:36:37</td>\n",
       "      <td>1</td>\n",
       "      <td>False</td>\n",
       "      <td>...</td>\n",
       "      <td>smart-cities</td>\n",
       "      <td>Smart Cities</td>\n",
       "      <td>5072.0</td>\n",
       "      <td>Cities Of The Future</td>\n",
       "      <td>Provides a platform for urban experts, city le...</td>\n",
       "      <td>49bd3f381442</td>\n",
       "      <td>citiesthefuture</td>\n",
       "      <td>222.0</td>\n",
       "      <td>159.0</td>\n",
       "      <td>20181104</td>\n",
       "    </tr>\n",
       "    <tr>\n",
       "      <th>279576</th>\n",
       "      <td>0</td>\n",
       "      <td>NaN</td>\n",
       "      <td>0.0</td>\n",
       "      <td>788609e3c6a7</td>\n",
       "      <td>2018-03-21</td>\n",
       "      <td>2018-03-21 15:19:32</td>\n",
       "      <td>2018-03-21</td>\n",
       "      <td>2018-03-21 15:36:37</td>\n",
       "      <td>1</td>\n",
       "      <td>False</td>\n",
       "      <td>...</td>\n",
       "      <td>artificial-intelligence</td>\n",
       "      <td>Artificial Intelligence</td>\n",
       "      <td>66154.0</td>\n",
       "      <td>Cities Of The Future</td>\n",
       "      <td>Provides a platform for urban experts, city le...</td>\n",
       "      <td>49bd3f381442</td>\n",
       "      <td>citiesthefuture</td>\n",
       "      <td>222.0</td>\n",
       "      <td>159.0</td>\n",
       "      <td>20181104</td>\n",
       "    </tr>\n",
       "  </tbody>\n",
       "</table>\n",
       "<p>279577 rows × 50 columns</p>\n",
       "</div>"
      ],
      "text/plain": [
       "        audioVersionDurationSec codeBlock  codeBlockCount  collectionId  \\\n",
       "0                             0       NaN             0.0  638f418c8464   \n",
       "1                             0       NaN             0.0  638f418c8464   \n",
       "2                             0       NaN             0.0  638f418c8464   \n",
       "3                             0       NaN             0.0           NaN   \n",
       "4                             0       NaN             0.0           NaN   \n",
       "...                         ...       ...             ...           ...   \n",
       "279572                        0       NaN             0.0  788609e3c6a7   \n",
       "279573                        0       NaN             0.0  788609e3c6a7   \n",
       "279574                        0       NaN             0.0  788609e3c6a7   \n",
       "279575                        0       NaN             0.0  788609e3c6a7   \n",
       "279576                        0       NaN             0.0  788609e3c6a7   \n",
       "\n",
       "       createdDate      createdDatetime firstPublishedDate  \\\n",
       "0       2018-09-18  2018-09-18 20:55:34         2018-09-18   \n",
       "1       2018-09-18  2018-09-18 20:55:34         2018-09-18   \n",
       "2       2018-09-18  2018-09-18 20:55:34         2018-09-18   \n",
       "3       2018-01-07  2018-01-07 17:04:37         2018-01-07   \n",
       "4       2018-01-07  2018-01-07 17:04:37         2018-01-07   \n",
       "...            ...                  ...                ...   \n",
       "279572  2018-03-21  2018-03-21 15:19:32         2018-03-21   \n",
       "279573  2018-03-21  2018-03-21 15:19:32         2018-03-21   \n",
       "279574  2018-03-21  2018-03-21 15:19:32         2018-03-21   \n",
       "279575  2018-03-21  2018-03-21 15:19:32         2018-03-21   \n",
       "279576  2018-03-21  2018-03-21 15:19:32         2018-03-21   \n",
       "\n",
       "       firstPublishedDatetime  imageCount  isSubscriptionLocked  ...  \\\n",
       "0         2018-09-18 20:57:03           1                 False  ...   \n",
       "1         2018-09-18 20:57:03           1                 False  ...   \n",
       "2         2018-09-18 20:57:03           1                 False  ...   \n",
       "3         2018-01-07 17:06:29          13                 False  ...   \n",
       "4         2018-01-07 17:06:29          13                 False  ...   \n",
       "...                       ...         ...                   ...  ...   \n",
       "279572    2018-03-21 15:36:37           1                 False  ...   \n",
       "279573    2018-03-21 15:36:37           1                 False  ...   \n",
       "279574    2018-03-21 15:36:37           1                 False  ...   \n",
       "279575    2018-03-21 15:36:37           1                 False  ...   \n",
       "279576    2018-03-21 15:36:37           1                 False  ...   \n",
       "\n",
       "                           slug                     name postCount  \\\n",
       "0                    blockchain               Blockchain  265164.0   \n",
       "1                       samsung                  Samsung    5708.0   \n",
       "2                            it                       It    3720.0   \n",
       "3                    technology               Technology  166125.0   \n",
       "4                      robotics                 Robotics    9103.0   \n",
       "...                         ...                      ...       ...   \n",
       "279572                  privacy                  Privacy   23226.0   \n",
       "279573                   ethics                   Ethics    7787.0   \n",
       "279574       facial-recognition       Facial Recognition     520.0   \n",
       "279575             smart-cities             Smart Cities    5072.0   \n",
       "279576  artificial-intelligence  Artificial Intelligence   66154.0   \n",
       "\n",
       "                      author  \\\n",
       "0                Anar Babaev   \n",
       "1                Anar Babaev   \n",
       "2                Anar Babaev   \n",
       "3               George Sykes   \n",
       "4               George Sykes   \n",
       "...                      ...   \n",
       "279572  Cities Of The Future   \n",
       "279573  Cities Of The Future   \n",
       "279574  Cities Of The Future   \n",
       "279575  Cities Of The Future   \n",
       "279576  Cities Of The Future   \n",
       "\n",
       "                                                      bio        userId  \\\n",
       "0                                                     NaN  f1ad85af0169   \n",
       "1                                                     NaN  f1ad85af0169   \n",
       "2                                                     NaN  f1ad85af0169   \n",
       "3                                                     NaN  93b9e94f08ca   \n",
       "4                                                     NaN  93b9e94f08ca   \n",
       "...                                                   ...           ...   \n",
       "279572  Provides a platform for urban experts, city le...  49bd3f381442   \n",
       "279573  Provides a platform for urban experts, city le...  49bd3f381442   \n",
       "279574  Provides a platform for urban experts, city le...  49bd3f381442   \n",
       "279575  Provides a platform for urban experts, city le...  49bd3f381442   \n",
       "279576  Provides a platform for urban experts, city le...  49bd3f381442   \n",
       "\n",
       "               userName  usersFollowedByCount  usersFollowedCount scrappedDate  \n",
       "0            babaevanar                 450.0               404.0     20181104  \n",
       "1            babaevanar                 450.0               404.0     20181104  \n",
       "2            babaevanar                 450.0               404.0     20181104  \n",
       "3              tasty231                   6.0                22.0     20181104  \n",
       "4              tasty231                   6.0                22.0     20181104  \n",
       "...                 ...                   ...                 ...          ...  \n",
       "279572  citiesthefuture                 222.0               159.0     20181104  \n",
       "279573  citiesthefuture                 222.0               159.0     20181104  \n",
       "279574  citiesthefuture                 222.0               159.0     20181104  \n",
       "279575  citiesthefuture                 222.0               159.0     20181104  \n",
       "279576  citiesthefuture                 222.0               159.0     20181104  \n",
       "\n",
       "[279577 rows x 50 columns]"
      ]
     },
     "execution_count": 3,
     "metadata": {},
     "output_type": "execute_result"
    }
   ],
   "source": [
    "train"
   ]
  },
  {
   "cell_type": "code",
   "execution_count": 4,
   "metadata": {
    "colab": {
     "base_uri": "https://localhost:8080/",
     "height": 406
    },
    "colab_type": "code",
    "id": "CQMhZyfJ3NLx",
    "outputId": "1defc126-ca5d-419f-bba2-7088135c0c3e"
   },
   "outputs": [
    {
     "data": {
      "text/html": [
       "<div>\n",
       "<style scoped>\n",
       "    .dataframe tbody tr th:only-of-type {\n",
       "        vertical-align: middle;\n",
       "    }\n",
       "\n",
       "    .dataframe tbody tr th {\n",
       "        vertical-align: top;\n",
       "    }\n",
       "\n",
       "    .dataframe thead th {\n",
       "        text-align: right;\n",
       "    }\n",
       "</style>\n",
       "<table border=\"1\" class=\"dataframe\">\n",
       "  <thead>\n",
       "    <tr style=\"text-align: right;\">\n",
       "      <th></th>\n",
       "      <th>Unnamed: 0</th>\n",
       "      <th>index</th>\n",
       "      <th>Author</th>\n",
       "      <th>PublicationDetails</th>\n",
       "      <th>Responses</th>\n",
       "      <th>Header</th>\n",
       "      <th>Text</th>\n",
       "      <th>Length</th>\n",
       "    </tr>\n",
       "  </thead>\n",
       "  <tbody>\n",
       "    <tr>\n",
       "      <th>0</th>\n",
       "      <td>0</td>\n",
       "      <td>0</td>\n",
       "      <td>Daniel Jeffries</td>\n",
       "      <td>Daniel Jeffries in HackerNoon.comJul 31, 2017</td>\n",
       "      <td>627 responses</td>\n",
       "      <td>Why Everyone Missed the Most Mind-Blowing Feat...</td>\n",
       "      <td>There’s one incredible feature of cryptocurren...</td>\n",
       "      <td>23401</td>\n",
       "    </tr>\n",
       "    <tr>\n",
       "      <th>1</th>\n",
       "      <td>1</td>\n",
       "      <td>1</td>\n",
       "      <td>Noam Levenson</td>\n",
       "      <td>Noam Levenson in HackerNoon.comDec 6, 2017</td>\n",
       "      <td>156 responses</td>\n",
       "      <td>NEO versus Ethereum: Why NEO might be 2018’s s...</td>\n",
       "      <td>&lt;img class=\"progressiveMedia-noscript js-progr...</td>\n",
       "      <td>23972</td>\n",
       "    </tr>\n",
       "    <tr>\n",
       "      <th>2</th>\n",
       "      <td>2</td>\n",
       "      <td>2</td>\n",
       "      <td>Daniel Jeffries</td>\n",
       "      <td>Daniel Jeffries in HackerNoon.comJul 21, 2017</td>\n",
       "      <td>176 responses</td>\n",
       "      <td>The Cryptocurrency Trading Bible</td>\n",
       "      <td>So you want to trade cryptocurrency?You’ve see...</td>\n",
       "      <td>402</td>\n",
       "    </tr>\n",
       "    <tr>\n",
       "      <th>3</th>\n",
       "      <td>3</td>\n",
       "      <td>5</td>\n",
       "      <td>Haseeb Qureshi</td>\n",
       "      <td>Haseeb Qureshi in HackerNoon.comFeb 19, 2018</td>\n",
       "      <td>72 responses</td>\n",
       "      <td>Stablecoins: designing a price-stable cryptocu...</td>\n",
       "      <td>A useful currency should be a medium of exchan...</td>\n",
       "      <td>19730</td>\n",
       "    </tr>\n",
       "    <tr>\n",
       "      <th>4</th>\n",
       "      <td>4</td>\n",
       "      <td>7</td>\n",
       "      <td>William Belk</td>\n",
       "      <td>William Belk in HackerNoon.comJan 28, 2018</td>\n",
       "      <td>19 responses</td>\n",
       "      <td>Chaos vs. Order — The Cryptocurrency Dilemma</td>\n",
       "      <td>Crypto crypto crypto crypto. It’s here. It’s h...</td>\n",
       "      <td>5324</td>\n",
       "    </tr>\n",
       "    <tr>\n",
       "      <th>...</th>\n",
       "      <td>...</td>\n",
       "      <td>...</td>\n",
       "      <td>...</td>\n",
       "      <td>...</td>\n",
       "      <td>...</td>\n",
       "      <td>...</td>\n",
       "      <td>...</td>\n",
       "      <td>...</td>\n",
       "    </tr>\n",
       "    <tr>\n",
       "      <th>509</th>\n",
       "      <td>509</td>\n",
       "      <td>598</td>\n",
       "      <td>Jun 9, 2016</td>\n",
       "      <td>Tim Romero in Startup Lessons LearnedJun 9, 2016</td>\n",
       "      <td>181 responses</td>\n",
       "      <td>Why I turned down $500K, Pissed off my investo...</td>\n",
       "      <td>I just did what no startup founder is ever sup...</td>\n",
       "      <td>9025</td>\n",
       "    </tr>\n",
       "    <tr>\n",
       "      <th>510</th>\n",
       "      <td>510</td>\n",
       "      <td>599</td>\n",
       "      <td>Jun 10, 2016</td>\n",
       "      <td>Product HuntJun 10, 2016</td>\n",
       "      <td>24 responses</td>\n",
       "      <td>These Tools Will Help You Launch Your Startup</td>\n",
       "      <td>If you’re embarking on the startup journey and...</td>\n",
       "      <td>5571</td>\n",
       "    </tr>\n",
       "    <tr>\n",
       "      <th>511</th>\n",
       "      <td>511</td>\n",
       "      <td>600</td>\n",
       "      <td>Mar-19</td>\n",
       "      <td>Joe ProcopioMar 19</td>\n",
       "      <td>24 responses</td>\n",
       "      <td>Why Startups Fall Apart at 50 Employees</td>\n",
       "      <td>Fuck you startups with your extravagant partie...</td>\n",
       "      <td>475</td>\n",
       "    </tr>\n",
       "    <tr>\n",
       "      <th>512</th>\n",
       "      <td>512</td>\n",
       "      <td>601</td>\n",
       "      <td>Mar 18, 2016</td>\n",
       "      <td>Winerist in Be YourselfMar 18, 2016</td>\n",
       "      <td>116 responses</td>\n",
       "      <td>Beware of Startup Prostitution</td>\n",
       "      <td>Note: This is not a post to glorify prostituti...</td>\n",
       "      <td>13483</td>\n",
       "    </tr>\n",
       "    <tr>\n",
       "      <th>513</th>\n",
       "      <td>513</td>\n",
       "      <td>602</td>\n",
       "      <td>Jan 11, 2018</td>\n",
       "      <td>Aytekin Tank in The StartupJan 11, 2018</td>\n",
       "      <td>34 responses</td>\n",
       "      <td>How to build a startup — without quitting your...</td>\n",
       "      <td>Question: What do Craigslist and Albert Einste...</td>\n",
       "      <td>8736</td>\n",
       "    </tr>\n",
       "  </tbody>\n",
       "</table>\n",
       "<p>514 rows × 8 columns</p>\n",
       "</div>"
      ],
      "text/plain": [
       "     Unnamed: 0  index           Author  \\\n",
       "0             0      0  Daniel Jeffries   \n",
       "1             1      1    Noam Levenson   \n",
       "2             2      2  Daniel Jeffries   \n",
       "3             3      5   Haseeb Qureshi   \n",
       "4             4      7     William Belk   \n",
       "..          ...    ...              ...   \n",
       "509         509    598      Jun 9, 2016   \n",
       "510         510    599     Jun 10, 2016   \n",
       "511         511    600           Mar-19   \n",
       "512         512    601     Mar 18, 2016   \n",
       "513         513    602     Jan 11, 2018   \n",
       "\n",
       "                                   PublicationDetails      Responses  \\\n",
       "0       Daniel Jeffries in HackerNoon.comJul 31, 2017  627 responses   \n",
       "1          Noam Levenson in HackerNoon.comDec 6, 2017  156 responses   \n",
       "2       Daniel Jeffries in HackerNoon.comJul 21, 2017  176 responses   \n",
       "3        Haseeb Qureshi in HackerNoon.comFeb 19, 2018   72 responses   \n",
       "4          William Belk in HackerNoon.comJan 28, 2018   19 responses   \n",
       "..                                                ...            ...   \n",
       "509  Tim Romero in Startup Lessons LearnedJun 9, 2016  181 responses   \n",
       "510                          Product HuntJun 10, 2016   24 responses   \n",
       "511                                Joe ProcopioMar 19   24 responses   \n",
       "512               Winerist in Be YourselfMar 18, 2016  116 responses   \n",
       "513           Aytekin Tank in The StartupJan 11, 2018   34 responses   \n",
       "\n",
       "                                                Header  \\\n",
       "0    Why Everyone Missed the Most Mind-Blowing Feat...   \n",
       "1    NEO versus Ethereum: Why NEO might be 2018’s s...   \n",
       "2                     The Cryptocurrency Trading Bible   \n",
       "3    Stablecoins: designing a price-stable cryptocu...   \n",
       "4         Chaos vs. Order — The Cryptocurrency Dilemma   \n",
       "..                                                 ...   \n",
       "509  Why I turned down $500K, Pissed off my investo...   \n",
       "510      These Tools Will Help You Launch Your Startup   \n",
       "511            Why Startups Fall Apart at 50 Employees   \n",
       "512                     Beware of Startup Prostitution   \n",
       "513  How to build a startup — without quitting your...   \n",
       "\n",
       "                                                  Text  Length  \n",
       "0    There’s one incredible feature of cryptocurren...   23401  \n",
       "1    <img class=\"progressiveMedia-noscript js-progr...   23972  \n",
       "2    So you want to trade cryptocurrency?You’ve see...     402  \n",
       "3    A useful currency should be a medium of exchan...   19730  \n",
       "4    Crypto crypto crypto crypto. It’s here. It’s h...    5324  \n",
       "..                                                 ...     ...  \n",
       "509  I just did what no startup founder is ever sup...    9025  \n",
       "510  If you’re embarking on the startup journey and...    5571  \n",
       "511  Fuck you startups with your extravagant partie...     475  \n",
       "512  Note: This is not a post to glorify prostituti...   13483  \n",
       "513  Question: What do Craigslist and Albert Einste...    8736  \n",
       "\n",
       "[514 rows x 8 columns]"
      ]
     },
     "execution_count": 4,
     "metadata": {},
     "output_type": "execute_result"
    }
   ],
   "source": [
    "test"
   ]
  },
  {
   "cell_type": "code",
   "execution_count": 5,
   "metadata": {
    "colab": {
     "base_uri": "https://localhost:8080/",
     "height": 406
    },
    "colab_type": "code",
    "id": "Y43Z64v23Nru",
    "outputId": "8475c0bf-0e4a-4596-aa41-f5c51ee97859",
    "scrolled": true
   },
   "outputs": [
    {
     "data": {
      "text/html": [
       "<div>\n",
       "<style scoped>\n",
       "    .dataframe tbody tr th:only-of-type {\n",
       "        vertical-align: middle;\n",
       "    }\n",
       "\n",
       "    .dataframe tbody tr th {\n",
       "        vertical-align: top;\n",
       "    }\n",
       "\n",
       "    .dataframe thead th {\n",
       "        text-align: right;\n",
       "    }\n",
       "</style>\n",
       "<table border=\"1\" class=\"dataframe\">\n",
       "  <thead>\n",
       "    <tr style=\"text-align: right;\">\n",
       "      <th></th>\n",
       "      <th>index</th>\n",
       "      <th>Claps</th>\n",
       "    </tr>\n",
       "  </thead>\n",
       "  <tbody>\n",
       "    <tr>\n",
       "      <th>0</th>\n",
       "      <td>0</td>\n",
       "      <td>4708.880317</td>\n",
       "    </tr>\n",
       "    <tr>\n",
       "      <th>1</th>\n",
       "      <td>1</td>\n",
       "      <td>4925.785997</td>\n",
       "    </tr>\n",
       "    <tr>\n",
       "      <th>2</th>\n",
       "      <td>2</td>\n",
       "      <td>4399.108583</td>\n",
       "    </tr>\n",
       "    <tr>\n",
       "      <th>3</th>\n",
       "      <td>5</td>\n",
       "      <td>4091.812227</td>\n",
       "    </tr>\n",
       "    <tr>\n",
       "      <th>4</th>\n",
       "      <td>7</td>\n",
       "      <td>3838.688318</td>\n",
       "    </tr>\n",
       "    <tr>\n",
       "      <th>...</th>\n",
       "      <td>...</td>\n",
       "      <td>...</td>\n",
       "    </tr>\n",
       "    <tr>\n",
       "      <th>509</th>\n",
       "      <td>598</td>\n",
       "      <td>4252.526621</td>\n",
       "    </tr>\n",
       "    <tr>\n",
       "      <th>510</th>\n",
       "      <td>599</td>\n",
       "      <td>4345.427884</td>\n",
       "    </tr>\n",
       "    <tr>\n",
       "      <th>511</th>\n",
       "      <td>600</td>\n",
       "      <td>3549.152001</td>\n",
       "    </tr>\n",
       "    <tr>\n",
       "      <th>512</th>\n",
       "      <td>601</td>\n",
       "      <td>3315.544889</td>\n",
       "    </tr>\n",
       "    <tr>\n",
       "      <th>513</th>\n",
       "      <td>602</td>\n",
       "      <td>3637.687514</td>\n",
       "    </tr>\n",
       "  </tbody>\n",
       "</table>\n",
       "<p>514 rows × 2 columns</p>\n",
       "</div>"
      ],
      "text/plain": [
       "     index        Claps\n",
       "0        0  4708.880317\n",
       "1        1  4925.785997\n",
       "2        2  4399.108583\n",
       "3        5  4091.812227\n",
       "4        7  3838.688318\n",
       "..     ...          ...\n",
       "509    598  4252.526621\n",
       "510    599  4345.427884\n",
       "511    600  3549.152001\n",
       "512    601  3315.544889\n",
       "513    602  3637.687514\n",
       "\n",
       "[514 rows x 2 columns]"
      ]
     },
     "execution_count": 5,
     "metadata": {},
     "output_type": "execute_result"
    }
   ],
   "source": [
    "sample"
   ]
  },
  {
   "cell_type": "markdown",
   "metadata": {},
   "source": [
    "### 2.2 Data Cleaning"
   ]
  },
  {
   "cell_type": "markdown",
   "metadata": {
    "colab_type": "text",
    "id": "ILyLLdn33TWi"
   },
   "source": [
    "We then here create a dataframe (df) for training data that has the same columns as the test set, and put in the select data we want from the training set. "
   ]
  },
  {
   "cell_type": "code",
   "execution_count": 6,
   "metadata": {
    "colab": {},
    "colab_type": "code",
    "id": "PXIsK1Qb3OYZ"
   },
   "outputs": [],
   "source": [
    "df = pd.DataFrame(columns=test.columns)\n",
    "df['Author'] = train.author\n",
    "df['Header'] = train.title\n",
    "df['Text'] = train.text\n",
    "df['Responses'] = train.responsesCreatedCount.apply(lambda x: f'{x} responses')"
   ]
  },
  {
   "cell_type": "markdown",
   "metadata": {
    "colab_type": "text",
    "id": "NFlWBn8w3pbj"
   },
   "source": [
    "We here remove the extra header from the text, with the added /n representing new line, to make it close to matching the text format of the test set."
   ]
  },
  {
   "cell_type": "code",
   "execution_count": 7,
   "metadata": {
    "colab": {},
    "colab_type": "code",
    "id": "w6ndKPHd3oes"
   },
   "outputs": [],
   "source": [
    "def RemoveHeader(r) :\n",
    "  if type(r.Header) is str :\n",
    "    return r.Text[len(r.Header)+2:] \n",
    "  else : \n",
    "    return r.Text"
   ]
  },
  {
   "cell_type": "code",
   "execution_count": 8,
   "metadata": {
    "colab": {},
    "colab_type": "code",
    "id": "L-Hob1O-33va"
   },
   "outputs": [],
   "source": [
    "df['Text'] = df.apply(RemoveHeader, axis=1)"
   ]
  },
  {
   "cell_type": "markdown",
   "metadata": {
    "colab_type": "text",
    "id": "IAvIHLzK37Nc"
   },
   "source": [
    "We then fill the 'Length' variable with the character length of the reduced text."
   ]
  },
  {
   "cell_type": "code",
   "execution_count": 9,
   "metadata": {
    "colab": {},
    "colab_type": "code",
    "id": "gmeyCrl935Hz"
   },
   "outputs": [],
   "source": [
    "df['Length'] = df.Text.apply(lambda r: len(r)) "
   ]
  },
  {
   "cell_type": "markdown",
   "metadata": {
    "colab_type": "text",
    "id": "JAst0HN64F3z"
   },
   "source": [
    "We then add the target variable (total claps) to the new dataframe."
   ]
  },
  {
   "cell_type": "code",
   "execution_count": 10,
   "metadata": {
    "colab": {},
    "colab_type": "code",
    "id": "4bYCQLGX4Db_"
   },
   "outputs": [],
   "source": [
    "df['Claps'] = train.totalClapCount"
   ]
  },
  {
   "cell_type": "markdown",
   "metadata": {
    "colab_type": "text",
    "id": "eNUSh8iuWDi9"
   },
   "source": [
    "We noticed non english observations that we think would be best to be taken into account in the training set for now, so we could drop them before training.\n"
   ]
  },
  {
   "cell_type": "code",
   "execution_count": 11,
   "metadata": {
    "colab": {},
    "colab_type": "code",
    "id": "yZ5SXnjVWBqN"
   },
   "outputs": [],
   "source": [
    "df['Language'] = train.language"
   ]
  },
  {
   "cell_type": "markdown",
   "metadata": {
    "colab_type": "text",
    "id": "I1Djuyul80_E"
   },
   "source": [
    "We then add publication name and date, and drop duplicates and extra variables.\n"
   ]
  },
  {
   "cell_type": "code",
   "execution_count": 12,
   "metadata": {
    "colab": {},
    "colab_type": "code",
    "id": "UrITm73b8_am"
   },
   "outputs": [],
   "source": [
    "df['Publication'] = train.publicationname\n",
    "df = df.drop_duplicates()\n",
    "df = df.drop(columns=['PublicationDetails'])\n",
    "df['Date'] = train.firstPublishedDate\n",
    "df['Date'] = df['Date'].astype('datetime64[ns]')"
   ]
  },
  {
   "cell_type": "markdown",
   "metadata": {
    "colab_type": "text",
    "id": "6HIJ7oYU-GaB"
   },
   "source": [
    "Now that we have no use for train, we delete that."
   ]
  },
  {
   "cell_type": "code",
   "execution_count": 13,
   "metadata": {
    "colab": {},
    "colab_type": "code",
    "id": "yUTJ0UgF-J90"
   },
   "outputs": [],
   "source": [
    "del train"
   ]
  },
  {
   "cell_type": "markdown",
   "metadata": {
    "colab_type": "text",
    "id": "t8oc2x444Tfz"
   },
   "source": [
    "For the variable \"Publication Details\", we noticed that it doesn't follow a consistent format in the test set to encourage us to replicate the same format  for the training set, so we decided to alter that in the test set, to bring them both to a new, usable format.\n",
    "\n",
    "After taking a look on a few examples over the set, we noticed that it shows the following format:\n",
    "\n",
    "(Author)(?) ('in' Publication)(?) (Month Day)(Year)(?)\n",
    "\n",
    "(?) indicates that the previous element might or might not occur. \n",
    "\n",
    "We then used regular expression to extract the desired info from this variable using the following code."
   ]
  },
  {
   "cell_type": "code",
   "execution_count": 14,
   "metadata": {
    "colab": {},
    "colab_type": "code",
    "id": "wxTerMPh4N6f"
   },
   "outputs": [],
   "source": [
    "expr = re.compile('((?!in).+?)?(in .+?)?([A-Z][a-z]{2}\\s\\d\\d?),?(\\s\\d{4})?')\n",
    "\n",
    "def SplitPubDet(r) :\n",
    "    txt = r.PublicationDetails\n",
    "    return expr.findall(txt)[0]"
   ]
  },
  {
   "cell_type": "code",
   "execution_count": 15,
   "metadata": {
    "colab": {},
    "colab_type": "code",
    "id": "XFdmp8iW7jB9"
   },
   "outputs": [],
   "source": [
    "test[['Author1', 'Publication', 'Date', 'Year']] = test.apply(SplitPubDet, axis=1, result_type='expand')"
   ]
  },
  {
   "cell_type": "markdown",
   "metadata": {
    "colab_type": "text",
    "id": "eR6ghfU_7ogL"
   },
   "source": [
    "After noticing some Authors being replaced by dates in the 'Author' variable, and the author being available from the data we extracted from 'PublicationDetails', we clean that variable in the following code."
   ]
  },
  {
   "cell_type": "code",
   "execution_count": 16,
   "metadata": {
    "colab": {},
    "colab_type": "code",
    "id": "OqDuyOvB7n5r"
   },
   "outputs": [],
   "source": [
    "def CleanAuthor(r):\n",
    "  if r.Author.strip() == r.Author1.strip() :\n",
    "    return r.Author.strip()\n",
    "  elif len(r.Author1) == 0:\n",
    "    return r.Author.strip()\n",
    "  else :    \n",
    "    return r.Author1.strip()"
   ]
  },
  {
   "cell_type": "code",
   "execution_count": 17,
   "metadata": {
    "colab": {},
    "colab_type": "code",
    "id": "99SWGHPq79hb"
   },
   "outputs": [],
   "source": [
    "test['Author'] = test.apply(CleanAuthor, axis=1)"
   ]
  },
  {
   "cell_type": "code",
   "execution_count": 18,
   "metadata": {
    "colab": {},
    "colab_type": "code",
    "id": "U2D4xTNj8Afb"
   },
   "outputs": [],
   "source": [
    "test = test.drop(columns=['Author1','PublicationDetails'])"
   ]
  },
  {
   "cell_type": "markdown",
   "metadata": {
    "colab_type": "text",
    "id": "7d1I1ox38DCs"
   },
   "source": [
    "We then remove the extra 'in', previously used to identify that the info afterwards is in fact the publication name rather than author.\n"
   ]
  },
  {
   "cell_type": "code",
   "execution_count": 19,
   "metadata": {
    "colab": {},
    "colab_type": "code",
    "id": "gqQkrsia8Cz8"
   },
   "outputs": [],
   "source": [
    "def RemoveIn(r) :\n",
    "  if len(r.Publication)>0 :\n",
    "    return r.Publication[3:]\n",
    "  else : \n",
    "    return None\n"
   ]
  },
  {
   "cell_type": "code",
   "execution_count": 20,
   "metadata": {
    "colab": {},
    "colab_type": "code",
    "id": "RLFUrNcs8PKU"
   },
   "outputs": [],
   "source": [
    "test['Publication'] = test.apply(RemoveIn, axis=1)"
   ]
  },
  {
   "cell_type": "markdown",
   "metadata": {
    "colab_type": "text",
    "id": "-KsDjF4s8Rml"
   },
   "source": [
    "We then clean the missing values of Year by placing None values instead.\n"
   ]
  },
  {
   "cell_type": "code",
   "execution_count": 21,
   "metadata": {
    "colab": {},
    "colab_type": "code",
    "id": "wUUkDlWI8Yi5"
   },
   "outputs": [],
   "source": [
    "def YearClean(r):\n",
    "  if len(r.Year)>0 :\n",
    "    return r.Year\n",
    "  else :\n",
    "    return None    "
   ]
  },
  {
   "cell_type": "code",
   "execution_count": 22,
   "metadata": {
    "colab": {},
    "colab_type": "code",
    "id": "mBTksqjZ8a6M"
   },
   "outputs": [],
   "source": [
    "test['Year'] = test.apply(YearClean, axis=1)"
   ]
  },
  {
   "cell_type": "markdown",
   "metadata": {
    "colab_type": "text",
    "id": "cstxTPhU8e3E"
   },
   "source": [
    "Our final test set would then look like this."
   ]
  },
  {
   "cell_type": "code",
   "execution_count": 23,
   "metadata": {
    "colab": {
     "base_uri": "https://localhost:8080/",
     "height": 406
    },
    "colab_type": "code",
    "id": "L9C1ZPbQ8dHU",
    "outputId": "b151b8e0-0d77-4d2b-a459-e94a64ac1849",
    "scrolled": true
   },
   "outputs": [
    {
     "data": {
      "text/html": [
       "<div>\n",
       "<style scoped>\n",
       "    .dataframe tbody tr th:only-of-type {\n",
       "        vertical-align: middle;\n",
       "    }\n",
       "\n",
       "    .dataframe tbody tr th {\n",
       "        vertical-align: top;\n",
       "    }\n",
       "\n",
       "    .dataframe thead th {\n",
       "        text-align: right;\n",
       "    }\n",
       "</style>\n",
       "<table border=\"1\" class=\"dataframe\">\n",
       "  <thead>\n",
       "    <tr style=\"text-align: right;\">\n",
       "      <th></th>\n",
       "      <th>Unnamed: 0</th>\n",
       "      <th>index</th>\n",
       "      <th>Author</th>\n",
       "      <th>Responses</th>\n",
       "      <th>Header</th>\n",
       "      <th>Text</th>\n",
       "      <th>Length</th>\n",
       "      <th>Publication</th>\n",
       "      <th>Date</th>\n",
       "      <th>Year</th>\n",
       "    </tr>\n",
       "  </thead>\n",
       "  <tbody>\n",
       "    <tr>\n",
       "      <th>0</th>\n",
       "      <td>0</td>\n",
       "      <td>0</td>\n",
       "      <td>Daniel Jeffries</td>\n",
       "      <td>627 responses</td>\n",
       "      <td>Why Everyone Missed the Most Mind-Blowing Feat...</td>\n",
       "      <td>There’s one incredible feature of cryptocurren...</td>\n",
       "      <td>23401</td>\n",
       "      <td>HackerNoon.com</td>\n",
       "      <td>Jul 31</td>\n",
       "      <td>2017</td>\n",
       "    </tr>\n",
       "    <tr>\n",
       "      <th>1</th>\n",
       "      <td>1</td>\n",
       "      <td>1</td>\n",
       "      <td>Noam Levenson</td>\n",
       "      <td>156 responses</td>\n",
       "      <td>NEO versus Ethereum: Why NEO might be 2018’s s...</td>\n",
       "      <td>&lt;img class=\"progressiveMedia-noscript js-progr...</td>\n",
       "      <td>23972</td>\n",
       "      <td>HackerNoon.com</td>\n",
       "      <td>Dec 6</td>\n",
       "      <td>2017</td>\n",
       "    </tr>\n",
       "    <tr>\n",
       "      <th>2</th>\n",
       "      <td>2</td>\n",
       "      <td>2</td>\n",
       "      <td>Daniel Jeffries</td>\n",
       "      <td>176 responses</td>\n",
       "      <td>The Cryptocurrency Trading Bible</td>\n",
       "      <td>So you want to trade cryptocurrency?You’ve see...</td>\n",
       "      <td>402</td>\n",
       "      <td>HackerNoon.com</td>\n",
       "      <td>Jul 21</td>\n",
       "      <td>2017</td>\n",
       "    </tr>\n",
       "    <tr>\n",
       "      <th>3</th>\n",
       "      <td>3</td>\n",
       "      <td>5</td>\n",
       "      <td>Haseeb Qureshi</td>\n",
       "      <td>72 responses</td>\n",
       "      <td>Stablecoins: designing a price-stable cryptocu...</td>\n",
       "      <td>A useful currency should be a medium of exchan...</td>\n",
       "      <td>19730</td>\n",
       "      <td>HackerNoon.com</td>\n",
       "      <td>Feb 19</td>\n",
       "      <td>2018</td>\n",
       "    </tr>\n",
       "    <tr>\n",
       "      <th>4</th>\n",
       "      <td>4</td>\n",
       "      <td>7</td>\n",
       "      <td>William Belk</td>\n",
       "      <td>19 responses</td>\n",
       "      <td>Chaos vs. Order — The Cryptocurrency Dilemma</td>\n",
       "      <td>Crypto crypto crypto crypto. It’s here. It’s h...</td>\n",
       "      <td>5324</td>\n",
       "      <td>HackerNoon.com</td>\n",
       "      <td>Jan 28</td>\n",
       "      <td>2018</td>\n",
       "    </tr>\n",
       "    <tr>\n",
       "      <th>...</th>\n",
       "      <td>...</td>\n",
       "      <td>...</td>\n",
       "      <td>...</td>\n",
       "      <td>...</td>\n",
       "      <td>...</td>\n",
       "      <td>...</td>\n",
       "      <td>...</td>\n",
       "      <td>...</td>\n",
       "      <td>...</td>\n",
       "      <td>...</td>\n",
       "    </tr>\n",
       "    <tr>\n",
       "      <th>509</th>\n",
       "      <td>509</td>\n",
       "      <td>598</td>\n",
       "      <td>Tim Romero</td>\n",
       "      <td>181 responses</td>\n",
       "      <td>Why I turned down $500K, Pissed off my investo...</td>\n",
       "      <td>I just did what no startup founder is ever sup...</td>\n",
       "      <td>9025</td>\n",
       "      <td>Startup Lessons Learned</td>\n",
       "      <td>Jun 9</td>\n",
       "      <td>2016</td>\n",
       "    </tr>\n",
       "    <tr>\n",
       "      <th>510</th>\n",
       "      <td>510</td>\n",
       "      <td>599</td>\n",
       "      <td>Product Hunt</td>\n",
       "      <td>24 responses</td>\n",
       "      <td>These Tools Will Help You Launch Your Startup</td>\n",
       "      <td>If you’re embarking on the startup journey and...</td>\n",
       "      <td>5571</td>\n",
       "      <td>None</td>\n",
       "      <td>Jun 10</td>\n",
       "      <td>2016</td>\n",
       "    </tr>\n",
       "    <tr>\n",
       "      <th>511</th>\n",
       "      <td>511</td>\n",
       "      <td>600</td>\n",
       "      <td>Joe Procopio</td>\n",
       "      <td>24 responses</td>\n",
       "      <td>Why Startups Fall Apart at 50 Employees</td>\n",
       "      <td>Fuck you startups with your extravagant partie...</td>\n",
       "      <td>475</td>\n",
       "      <td>None</td>\n",
       "      <td>Mar 19</td>\n",
       "      <td>None</td>\n",
       "    </tr>\n",
       "    <tr>\n",
       "      <th>512</th>\n",
       "      <td>512</td>\n",
       "      <td>601</td>\n",
       "      <td>Winerist</td>\n",
       "      <td>116 responses</td>\n",
       "      <td>Beware of Startup Prostitution</td>\n",
       "      <td>Note: This is not a post to glorify prostituti...</td>\n",
       "      <td>13483</td>\n",
       "      <td>Be Yourself</td>\n",
       "      <td>Mar 18</td>\n",
       "      <td>2016</td>\n",
       "    </tr>\n",
       "    <tr>\n",
       "      <th>513</th>\n",
       "      <td>513</td>\n",
       "      <td>602</td>\n",
       "      <td>Aytek</td>\n",
       "      <td>34 responses</td>\n",
       "      <td>How to build a startup — without quitting your...</td>\n",
       "      <td>Question: What do Craigslist and Albert Einste...</td>\n",
       "      <td>8736</td>\n",
       "      <td>Tank in The Startup</td>\n",
       "      <td>Jan 11</td>\n",
       "      <td>2018</td>\n",
       "    </tr>\n",
       "  </tbody>\n",
       "</table>\n",
       "<p>514 rows × 10 columns</p>\n",
       "</div>"
      ],
      "text/plain": [
       "     Unnamed: 0  index           Author      Responses  \\\n",
       "0             0      0  Daniel Jeffries  627 responses   \n",
       "1             1      1    Noam Levenson  156 responses   \n",
       "2             2      2  Daniel Jeffries  176 responses   \n",
       "3             3      5   Haseeb Qureshi   72 responses   \n",
       "4             4      7     William Belk   19 responses   \n",
       "..          ...    ...              ...            ...   \n",
       "509         509    598       Tim Romero  181 responses   \n",
       "510         510    599     Product Hunt   24 responses   \n",
       "511         511    600     Joe Procopio   24 responses   \n",
       "512         512    601         Winerist  116 responses   \n",
       "513         513    602            Aytek   34 responses   \n",
       "\n",
       "                                                Header  \\\n",
       "0    Why Everyone Missed the Most Mind-Blowing Feat...   \n",
       "1    NEO versus Ethereum: Why NEO might be 2018’s s...   \n",
       "2                     The Cryptocurrency Trading Bible   \n",
       "3    Stablecoins: designing a price-stable cryptocu...   \n",
       "4         Chaos vs. Order — The Cryptocurrency Dilemma   \n",
       "..                                                 ...   \n",
       "509  Why I turned down $500K, Pissed off my investo...   \n",
       "510      These Tools Will Help You Launch Your Startup   \n",
       "511            Why Startups Fall Apart at 50 Employees   \n",
       "512                     Beware of Startup Prostitution   \n",
       "513  How to build a startup — without quitting your...   \n",
       "\n",
       "                                                  Text  Length  \\\n",
       "0    There’s one incredible feature of cryptocurren...   23401   \n",
       "1    <img class=\"progressiveMedia-noscript js-progr...   23972   \n",
       "2    So you want to trade cryptocurrency?You’ve see...     402   \n",
       "3    A useful currency should be a medium of exchan...   19730   \n",
       "4    Crypto crypto crypto crypto. It’s here. It’s h...    5324   \n",
       "..                                                 ...     ...   \n",
       "509  I just did what no startup founder is ever sup...    9025   \n",
       "510  If you’re embarking on the startup journey and...    5571   \n",
       "511  Fuck you startups with your extravagant partie...     475   \n",
       "512  Note: This is not a post to glorify prostituti...   13483   \n",
       "513  Question: What do Craigslist and Albert Einste...    8736   \n",
       "\n",
       "                 Publication    Date   Year  \n",
       "0             HackerNoon.com  Jul 31   2017  \n",
       "1             HackerNoon.com   Dec 6   2017  \n",
       "2             HackerNoon.com  Jul 21   2017  \n",
       "3             HackerNoon.com  Feb 19   2018  \n",
       "4             HackerNoon.com  Jan 28   2018  \n",
       "..                       ...     ...    ...  \n",
       "509  Startup Lessons Learned   Jun 9   2016  \n",
       "510                     None  Jun 10   2016  \n",
       "511                     None  Mar 19   None  \n",
       "512              Be Yourself  Mar 18   2016  \n",
       "513      Tank in The Startup  Jan 11   2018  \n",
       "\n",
       "[514 rows x 10 columns]"
      ]
     },
     "execution_count": 23,
     "metadata": {},
     "output_type": "execute_result"
    }
   ],
   "source": [
    "test"
   ]
  },
  {
   "cell_type": "markdown",
   "metadata": {
    "colab_type": "text",
    "id": "WmsnQ-DK8rG9"
   },
   "source": [
    "We clean the formatting of our date variable.\n"
   ]
  },
  {
   "cell_type": "code",
   "execution_count": 24,
   "metadata": {
    "colab": {},
    "colab_type": "code",
    "id": "6vCqbPg08qp9"
   },
   "outputs": [],
   "source": [
    "def DateCombine(r):\n",
    "  if r.Year == None :\n",
    "    return r.Date.strip()\n",
    "  else :\n",
    "    return f'{r.Date.strip()}, {r.Year.strip()}'     "
   ]
  },
  {
   "cell_type": "code",
   "execution_count": 25,
   "metadata": {
    "colab": {},
    "colab_type": "code",
    "id": "AsgYvIjN92w-"
   },
   "outputs": [],
   "source": [
    "test['Date1'] = test.apply(DateCombine, axis=1)"
   ]
  },
  {
   "cell_type": "code",
   "execution_count": 26,
   "metadata": {
    "colab": {},
    "colab_type": "code",
    "id": "niXROutQ96LM"
   },
   "outputs": [],
   "source": [
    "def Date1Clean(r):\n",
    "  split_date = r.Date1.strip().split(\" \")\n",
    "  if (len(split_date[1]) == 2 and split_date[1].endswith(',')) or len(split_date[1]) == 1:\n",
    "    split_date[1] = f'0{split_date[1]}'\n",
    "  return ' '.join(split_date)"
   ]
  },
  {
   "cell_type": "code",
   "execution_count": 27,
   "metadata": {
    "colab": {},
    "colab_type": "code",
    "id": "6lzNXx_V98sJ"
   },
   "outputs": [],
   "source": [
    "test['Date1'] = test.apply(Date1Clean, axis=1)"
   ]
  },
  {
   "cell_type": "code",
   "execution_count": 28,
   "metadata": {
    "colab": {},
    "colab_type": "code",
    "id": "lMrFebNe9-lU"
   },
   "outputs": [],
   "source": [
    "from datetime import datetime\n",
    "def toDatetime(r):\n",
    "  if ',' in r.Date1:\n",
    "    format = \"%b %d, %Y\"\n",
    "  else:\n",
    "    format = \"%b %d\"\n",
    "  return datetime.strptime(r.Date1, format)"
   ]
  },
  {
   "cell_type": "code",
   "execution_count": 29,
   "metadata": {
    "colab": {},
    "colab_type": "code",
    "id": "YLORYPSG-AVF"
   },
   "outputs": [],
   "source": [
    "test['Date1'] = test.apply(toDatetime, axis=1)"
   ]
  },
  {
   "cell_type": "code",
   "execution_count": 30,
   "metadata": {
    "colab": {},
    "colab_type": "code",
    "id": "FFAx-PwUnWs4"
   },
   "outputs": [],
   "source": [
    "test = test.drop(columns=['Date','Year'])"
   ]
  },
  {
   "cell_type": "code",
   "execution_count": 31,
   "metadata": {
    "colab": {},
    "colab_type": "code",
    "id": "wgBqP5NEnvQa"
   },
   "outputs": [],
   "source": [
    "test = test.rename(columns={'Date1': 'Date'})"
   ]
  },
  {
   "cell_type": "markdown",
   "metadata": {
    "colab_type": "text",
    "id": "fN6D0Dsomu7s"
   },
   "source": [
    "Now we take a look at ```df``` and ```test```.\n"
   ]
  },
  {
   "cell_type": "code",
   "execution_count": 32,
   "metadata": {
    "colab": {
     "base_uri": "https://localhost:8080/",
     "height": 406
    },
    "colab_type": "code",
    "id": "yG6YbDzNmt0R",
    "outputId": "a1858576-dbaf-4f97-f134-69d22e771e2e"
   },
   "outputs": [
    {
     "data": {
      "text/html": [
       "<div>\n",
       "<style scoped>\n",
       "    .dataframe tbody tr th:only-of-type {\n",
       "        vertical-align: middle;\n",
       "    }\n",
       "\n",
       "    .dataframe tbody tr th {\n",
       "        vertical-align: top;\n",
       "    }\n",
       "\n",
       "    .dataframe thead th {\n",
       "        text-align: right;\n",
       "    }\n",
       "</style>\n",
       "<table border=\"1\" class=\"dataframe\">\n",
       "  <thead>\n",
       "    <tr style=\"text-align: right;\">\n",
       "      <th></th>\n",
       "      <th>Unnamed: 0</th>\n",
       "      <th>index</th>\n",
       "      <th>Author</th>\n",
       "      <th>Responses</th>\n",
       "      <th>Header</th>\n",
       "      <th>Text</th>\n",
       "      <th>Length</th>\n",
       "      <th>Claps</th>\n",
       "      <th>Language</th>\n",
       "      <th>Publication</th>\n",
       "      <th>Date</th>\n",
       "    </tr>\n",
       "  </thead>\n",
       "  <tbody>\n",
       "    <tr>\n",
       "      <th>0</th>\n",
       "      <td>NaN</td>\n",
       "      <td>NaN</td>\n",
       "      <td>Anar Babaev</td>\n",
       "      <td>0 responses</td>\n",
       "      <td>Private Business, Government and Blockchain</td>\n",
       "      <td>A major private IT company implements blockcha...</td>\n",
       "      <td>1199</td>\n",
       "      <td>100</td>\n",
       "      <td>en</td>\n",
       "      <td>ICOBox</td>\n",
       "      <td>2018-09-18</td>\n",
       "    </tr>\n",
       "    <tr>\n",
       "      <th>3</th>\n",
       "      <td>NaN</td>\n",
       "      <td>NaN</td>\n",
       "      <td>George Sykes</td>\n",
       "      <td>0 responses</td>\n",
       "      <td>EPQ draft 1 (4844 words)</td>\n",
       "      <td>ttps://upload.wikimedia.org/wikipedia/commons/...</td>\n",
       "      <td>30047</td>\n",
       "      <td>0</td>\n",
       "      <td>en</td>\n",
       "      <td>NaN</td>\n",
       "      <td>2018-01-07</td>\n",
       "    </tr>\n",
       "    <tr>\n",
       "      <th>7</th>\n",
       "      <td>NaN</td>\n",
       "      <td>NaN</td>\n",
       "      <td>tech data</td>\n",
       "      <td>0 responses</td>\n",
       "      <td>Ascent of data Science, SAS and Big data Analy...</td>\n",
       "      <td>Various associations in the present days are o...</td>\n",
       "      <td>3384</td>\n",
       "      <td>0</td>\n",
       "      <td>en</td>\n",
       "      <td>NaN</td>\n",
       "      <td>2018-03-08</td>\n",
       "    </tr>\n",
       "    <tr>\n",
       "      <th>11</th>\n",
       "      <td>NaN</td>\n",
       "      <td>NaN</td>\n",
       "      <td>Stewart Alsop</td>\n",
       "      <td>0 responses</td>\n",
       "      <td>Can a robot love us better than another human ...</td>\n",
       "      <td>I discussed this with Michelle Tsng on my Podc...</td>\n",
       "      <td>968</td>\n",
       "      <td>50</td>\n",
       "      <td>en</td>\n",
       "      <td>Crazy Wisdom</td>\n",
       "      <td>2018-04-16</td>\n",
       "    </tr>\n",
       "    <tr>\n",
       "      <th>16</th>\n",
       "      <td>NaN</td>\n",
       "      <td>NaN</td>\n",
       "      <td>Melody Ucros</td>\n",
       "      <td>0 responses</td>\n",
       "      <td>2017 Big Data, AI and IOT Use Cases</td>\n",
       "      <td>n Active List of Interesting Use Cases Mention...</td>\n",
       "      <td>10944</td>\n",
       "      <td>27</td>\n",
       "      <td>en</td>\n",
       "      <td>NaN</td>\n",
       "      <td>2017-10-22</td>\n",
       "    </tr>\n",
       "    <tr>\n",
       "      <th>...</th>\n",
       "      <td>...</td>\n",
       "      <td>...</td>\n",
       "      <td>...</td>\n",
       "      <td>...</td>\n",
       "      <td>...</td>\n",
       "      <td>...</td>\n",
       "      <td>...</td>\n",
       "      <td>...</td>\n",
       "      <td>...</td>\n",
       "      <td>...</td>\n",
       "      <td>...</td>\n",
       "    </tr>\n",
       "    <tr>\n",
       "      <th>279557</th>\n",
       "      <td>NaN</td>\n",
       "      <td>NaN</td>\n",
       "      <td>Matt.0</td>\n",
       "      <td>1 responses</td>\n",
       "      <td>Analyzing extreme skiing and snowboarding in R...</td>\n",
       "      <td>he Freeride World Tour (FWT) has been hosting ...</td>\n",
       "      <td>5634</td>\n",
       "      <td>4</td>\n",
       "      <td>en</td>\n",
       "      <td>Towards Data Science</td>\n",
       "      <td>2018-05-08</td>\n",
       "    </tr>\n",
       "    <tr>\n",
       "      <th>279562</th>\n",
       "      <td>NaN</td>\n",
       "      <td>NaN</td>\n",
       "      <td>Edgar Talledos</td>\n",
       "      <td>2 responses</td>\n",
       "      <td>Desarrollo de una aplicación de ChatBot con Re...</td>\n",
       "      <td>arte 3. Utilizando el SDK de DialogFlow en Rea...</td>\n",
       "      <td>3017</td>\n",
       "      <td>21</td>\n",
       "      <td>es</td>\n",
       "      <td>Aleph Zero Estudio Digital</td>\n",
       "      <td>2018-04-20</td>\n",
       "    </tr>\n",
       "    <tr>\n",
       "      <th>279567</th>\n",
       "      <td>NaN</td>\n",
       "      <td>NaN</td>\n",
       "      <td>Syed Ahmed</td>\n",
       "      <td>0 responses</td>\n",
       "      <td>How to Build a Smart Chatbot Assistant with Ch...</td>\n",
       "      <td>ubnub coupled with IBM Watson can enable devel...</td>\n",
       "      <td>9442</td>\n",
       "      <td>567</td>\n",
       "      <td>en</td>\n",
       "      <td>Hacker Noon</td>\n",
       "      <td>2018-06-12</td>\n",
       "    </tr>\n",
       "    <tr>\n",
       "      <th>279570</th>\n",
       "      <td>NaN</td>\n",
       "      <td>NaN</td>\n",
       "      <td>Kan Nishida</td>\n",
       "      <td>0 responses</td>\n",
       "      <td>ggrepel — When Things Get Too Crowded</td>\n",
       "      <td>ometimes it’s useful to always show the label ...</td>\n",
       "      <td>1634</td>\n",
       "      <td>42</td>\n",
       "      <td>en</td>\n",
       "      <td>learn data science</td>\n",
       "      <td>2017-11-27</td>\n",
       "    </tr>\n",
       "    <tr>\n",
       "      <th>279572</th>\n",
       "      <td>NaN</td>\n",
       "      <td>NaN</td>\n",
       "      <td>Cities Of The Future</td>\n",
       "      <td>0 responses</td>\n",
       "      <td>London Creates Ethics Panel to Evaluate Use of...</td>\n",
       "      <td>n independent panel that advises City Hall on ...</td>\n",
       "      <td>4720</td>\n",
       "      <td>0</td>\n",
       "      <td>en</td>\n",
       "      <td>Cities of the Future</td>\n",
       "      <td>2018-03-21</td>\n",
       "    </tr>\n",
       "  </tbody>\n",
       "</table>\n",
       "<p>72288 rows × 11 columns</p>\n",
       "</div>"
      ],
      "text/plain": [
       "       Unnamed: 0 index                Author    Responses  \\\n",
       "0             NaN   NaN           Anar Babaev  0 responses   \n",
       "3             NaN   NaN          George Sykes  0 responses   \n",
       "7             NaN   NaN             tech data  0 responses   \n",
       "11            NaN   NaN         Stewart Alsop  0 responses   \n",
       "16            NaN   NaN          Melody Ucros  0 responses   \n",
       "...           ...   ...                   ...          ...   \n",
       "279557        NaN   NaN                Matt.0  1 responses   \n",
       "279562        NaN   NaN        Edgar Talledos  2 responses   \n",
       "279567        NaN   NaN            Syed Ahmed  0 responses   \n",
       "279570        NaN   NaN           Kan Nishida  0 responses   \n",
       "279572        NaN   NaN  Cities Of The Future  0 responses   \n",
       "\n",
       "                                                   Header  \\\n",
       "0             Private Business, Government and Blockchain   \n",
       "3                                EPQ draft 1 (4844 words)   \n",
       "7       Ascent of data Science, SAS and Big data Analy...   \n",
       "11      Can a robot love us better than another human ...   \n",
       "16                    2017 Big Data, AI and IOT Use Cases   \n",
       "...                                                   ...   \n",
       "279557  Analyzing extreme skiing and snowboarding in R...   \n",
       "279562  Desarrollo de una aplicación de ChatBot con Re...   \n",
       "279567  How to Build a Smart Chatbot Assistant with Ch...   \n",
       "279570              ggrepel — When Things Get Too Crowded   \n",
       "279572  London Creates Ethics Panel to Evaluate Use of...   \n",
       "\n",
       "                                                     Text  Length  Claps  \\\n",
       "0       A major private IT company implements blockcha...    1199    100   \n",
       "3       ttps://upload.wikimedia.org/wikipedia/commons/...   30047      0   \n",
       "7       Various associations in the present days are o...    3384      0   \n",
       "11      I discussed this with Michelle Tsng on my Podc...     968     50   \n",
       "16      n Active List of Interesting Use Cases Mention...   10944     27   \n",
       "...                                                   ...     ...    ...   \n",
       "279557  he Freeride World Tour (FWT) has been hosting ...    5634      4   \n",
       "279562  arte 3. Utilizando el SDK de DialogFlow en Rea...    3017     21   \n",
       "279567  ubnub coupled with IBM Watson can enable devel...    9442    567   \n",
       "279570  ometimes it’s useful to always show the label ...    1634     42   \n",
       "279572  n independent panel that advises City Hall on ...    4720      0   \n",
       "\n",
       "       Language                 Publication       Date  \n",
       "0            en                      ICOBox 2018-09-18  \n",
       "3            en                         NaN 2018-01-07  \n",
       "7            en                         NaN 2018-03-08  \n",
       "11           en                Crazy Wisdom 2018-04-16  \n",
       "16           en                         NaN 2017-10-22  \n",
       "...         ...                         ...        ...  \n",
       "279557       en        Towards Data Science 2018-05-08  \n",
       "279562       es  Aleph Zero Estudio Digital 2018-04-20  \n",
       "279567       en                 Hacker Noon 2018-06-12  \n",
       "279570       en          learn data science 2017-11-27  \n",
       "279572       en        Cities of the Future 2018-03-21  \n",
       "\n",
       "[72288 rows x 11 columns]"
      ]
     },
     "execution_count": 32,
     "metadata": {},
     "output_type": "execute_result"
    }
   ],
   "source": [
    "df"
   ]
  },
  {
   "cell_type": "code",
   "execution_count": 33,
   "metadata": {
    "colab": {
     "base_uri": "https://localhost:8080/",
     "height": 406
    },
    "colab_type": "code",
    "id": "ovQ0E4H0m7sf",
    "outputId": "f2173b07-5e87-45ff-98b0-05ff26caf6aa",
    "scrolled": true
   },
   "outputs": [
    {
     "data": {
      "text/html": [
       "<div>\n",
       "<style scoped>\n",
       "    .dataframe tbody tr th:only-of-type {\n",
       "        vertical-align: middle;\n",
       "    }\n",
       "\n",
       "    .dataframe tbody tr th {\n",
       "        vertical-align: top;\n",
       "    }\n",
       "\n",
       "    .dataframe thead th {\n",
       "        text-align: right;\n",
       "    }\n",
       "</style>\n",
       "<table border=\"1\" class=\"dataframe\">\n",
       "  <thead>\n",
       "    <tr style=\"text-align: right;\">\n",
       "      <th></th>\n",
       "      <th>Unnamed: 0</th>\n",
       "      <th>index</th>\n",
       "      <th>Author</th>\n",
       "      <th>Responses</th>\n",
       "      <th>Header</th>\n",
       "      <th>Text</th>\n",
       "      <th>Length</th>\n",
       "      <th>Publication</th>\n",
       "      <th>Date</th>\n",
       "    </tr>\n",
       "  </thead>\n",
       "  <tbody>\n",
       "    <tr>\n",
       "      <th>0</th>\n",
       "      <td>0</td>\n",
       "      <td>0</td>\n",
       "      <td>Daniel Jeffries</td>\n",
       "      <td>627 responses</td>\n",
       "      <td>Why Everyone Missed the Most Mind-Blowing Feat...</td>\n",
       "      <td>There’s one incredible feature of cryptocurren...</td>\n",
       "      <td>23401</td>\n",
       "      <td>HackerNoon.com</td>\n",
       "      <td>2017-07-31</td>\n",
       "    </tr>\n",
       "    <tr>\n",
       "      <th>1</th>\n",
       "      <td>1</td>\n",
       "      <td>1</td>\n",
       "      <td>Noam Levenson</td>\n",
       "      <td>156 responses</td>\n",
       "      <td>NEO versus Ethereum: Why NEO might be 2018’s s...</td>\n",
       "      <td>&lt;img class=\"progressiveMedia-noscript js-progr...</td>\n",
       "      <td>23972</td>\n",
       "      <td>HackerNoon.com</td>\n",
       "      <td>2017-12-06</td>\n",
       "    </tr>\n",
       "    <tr>\n",
       "      <th>2</th>\n",
       "      <td>2</td>\n",
       "      <td>2</td>\n",
       "      <td>Daniel Jeffries</td>\n",
       "      <td>176 responses</td>\n",
       "      <td>The Cryptocurrency Trading Bible</td>\n",
       "      <td>So you want to trade cryptocurrency?You’ve see...</td>\n",
       "      <td>402</td>\n",
       "      <td>HackerNoon.com</td>\n",
       "      <td>2017-07-21</td>\n",
       "    </tr>\n",
       "    <tr>\n",
       "      <th>3</th>\n",
       "      <td>3</td>\n",
       "      <td>5</td>\n",
       "      <td>Haseeb Qureshi</td>\n",
       "      <td>72 responses</td>\n",
       "      <td>Stablecoins: designing a price-stable cryptocu...</td>\n",
       "      <td>A useful currency should be a medium of exchan...</td>\n",
       "      <td>19730</td>\n",
       "      <td>HackerNoon.com</td>\n",
       "      <td>2018-02-19</td>\n",
       "    </tr>\n",
       "    <tr>\n",
       "      <th>4</th>\n",
       "      <td>4</td>\n",
       "      <td>7</td>\n",
       "      <td>William Belk</td>\n",
       "      <td>19 responses</td>\n",
       "      <td>Chaos vs. Order — The Cryptocurrency Dilemma</td>\n",
       "      <td>Crypto crypto crypto crypto. It’s here. It’s h...</td>\n",
       "      <td>5324</td>\n",
       "      <td>HackerNoon.com</td>\n",
       "      <td>2018-01-28</td>\n",
       "    </tr>\n",
       "    <tr>\n",
       "      <th>...</th>\n",
       "      <td>...</td>\n",
       "      <td>...</td>\n",
       "      <td>...</td>\n",
       "      <td>...</td>\n",
       "      <td>...</td>\n",
       "      <td>...</td>\n",
       "      <td>...</td>\n",
       "      <td>...</td>\n",
       "      <td>...</td>\n",
       "    </tr>\n",
       "    <tr>\n",
       "      <th>509</th>\n",
       "      <td>509</td>\n",
       "      <td>598</td>\n",
       "      <td>Tim Romero</td>\n",
       "      <td>181 responses</td>\n",
       "      <td>Why I turned down $500K, Pissed off my investo...</td>\n",
       "      <td>I just did what no startup founder is ever sup...</td>\n",
       "      <td>9025</td>\n",
       "      <td>Startup Lessons Learned</td>\n",
       "      <td>2016-06-09</td>\n",
       "    </tr>\n",
       "    <tr>\n",
       "      <th>510</th>\n",
       "      <td>510</td>\n",
       "      <td>599</td>\n",
       "      <td>Product Hunt</td>\n",
       "      <td>24 responses</td>\n",
       "      <td>These Tools Will Help You Launch Your Startup</td>\n",
       "      <td>If you’re embarking on the startup journey and...</td>\n",
       "      <td>5571</td>\n",
       "      <td>None</td>\n",
       "      <td>2016-06-10</td>\n",
       "    </tr>\n",
       "    <tr>\n",
       "      <th>511</th>\n",
       "      <td>511</td>\n",
       "      <td>600</td>\n",
       "      <td>Joe Procopio</td>\n",
       "      <td>24 responses</td>\n",
       "      <td>Why Startups Fall Apart at 50 Employees</td>\n",
       "      <td>Fuck you startups with your extravagant partie...</td>\n",
       "      <td>475</td>\n",
       "      <td>None</td>\n",
       "      <td>1900-03-19</td>\n",
       "    </tr>\n",
       "    <tr>\n",
       "      <th>512</th>\n",
       "      <td>512</td>\n",
       "      <td>601</td>\n",
       "      <td>Winerist</td>\n",
       "      <td>116 responses</td>\n",
       "      <td>Beware of Startup Prostitution</td>\n",
       "      <td>Note: This is not a post to glorify prostituti...</td>\n",
       "      <td>13483</td>\n",
       "      <td>Be Yourself</td>\n",
       "      <td>2016-03-18</td>\n",
       "    </tr>\n",
       "    <tr>\n",
       "      <th>513</th>\n",
       "      <td>513</td>\n",
       "      <td>602</td>\n",
       "      <td>Aytek</td>\n",
       "      <td>34 responses</td>\n",
       "      <td>How to build a startup — without quitting your...</td>\n",
       "      <td>Question: What do Craigslist and Albert Einste...</td>\n",
       "      <td>8736</td>\n",
       "      <td>Tank in The Startup</td>\n",
       "      <td>2018-01-11</td>\n",
       "    </tr>\n",
       "  </tbody>\n",
       "</table>\n",
       "<p>514 rows × 9 columns</p>\n",
       "</div>"
      ],
      "text/plain": [
       "     Unnamed: 0  index           Author      Responses  \\\n",
       "0             0      0  Daniel Jeffries  627 responses   \n",
       "1             1      1    Noam Levenson  156 responses   \n",
       "2             2      2  Daniel Jeffries  176 responses   \n",
       "3             3      5   Haseeb Qureshi   72 responses   \n",
       "4             4      7     William Belk   19 responses   \n",
       "..          ...    ...              ...            ...   \n",
       "509         509    598       Tim Romero  181 responses   \n",
       "510         510    599     Product Hunt   24 responses   \n",
       "511         511    600     Joe Procopio   24 responses   \n",
       "512         512    601         Winerist  116 responses   \n",
       "513         513    602            Aytek   34 responses   \n",
       "\n",
       "                                                Header  \\\n",
       "0    Why Everyone Missed the Most Mind-Blowing Feat...   \n",
       "1    NEO versus Ethereum: Why NEO might be 2018’s s...   \n",
       "2                     The Cryptocurrency Trading Bible   \n",
       "3    Stablecoins: designing a price-stable cryptocu...   \n",
       "4         Chaos vs. Order — The Cryptocurrency Dilemma   \n",
       "..                                                 ...   \n",
       "509  Why I turned down $500K, Pissed off my investo...   \n",
       "510      These Tools Will Help You Launch Your Startup   \n",
       "511            Why Startups Fall Apart at 50 Employees   \n",
       "512                     Beware of Startup Prostitution   \n",
       "513  How to build a startup — without quitting your...   \n",
       "\n",
       "                                                  Text  Length  \\\n",
       "0    There’s one incredible feature of cryptocurren...   23401   \n",
       "1    <img class=\"progressiveMedia-noscript js-progr...   23972   \n",
       "2    So you want to trade cryptocurrency?You’ve see...     402   \n",
       "3    A useful currency should be a medium of exchan...   19730   \n",
       "4    Crypto crypto crypto crypto. It’s here. It’s h...    5324   \n",
       "..                                                 ...     ...   \n",
       "509  I just did what no startup founder is ever sup...    9025   \n",
       "510  If you’re embarking on the startup journey and...    5571   \n",
       "511  Fuck you startups with your extravagant partie...     475   \n",
       "512  Note: This is not a post to glorify prostituti...   13483   \n",
       "513  Question: What do Craigslist and Albert Einste...    8736   \n",
       "\n",
       "                 Publication       Date  \n",
       "0             HackerNoon.com 2017-07-31  \n",
       "1             HackerNoon.com 2017-12-06  \n",
       "2             HackerNoon.com 2017-07-21  \n",
       "3             HackerNoon.com 2018-02-19  \n",
       "4             HackerNoon.com 2018-01-28  \n",
       "..                       ...        ...  \n",
       "509  Startup Lessons Learned 2016-06-09  \n",
       "510                     None 2016-06-10  \n",
       "511                     None 1900-03-19  \n",
       "512              Be Yourself 2016-03-18  \n",
       "513      Tank in The Startup 2018-01-11  \n",
       "\n",
       "[514 rows x 9 columns]"
      ]
     },
     "execution_count": 33,
     "metadata": {},
     "output_type": "execute_result"
    }
   ],
   "source": [
    "test"
   ]
  },
  {
   "cell_type": "markdown",
   "metadata": {},
   "source": [
    "Noticing that the language is an important variable, we then add it to the test set using the package [langdetect](https://pypi.org/project/langdetect/)."
   ]
  },
  {
   "cell_type": "code",
   "execution_count": 34,
   "metadata": {
    "colab": {
     "base_uri": "https://localhost:8080/",
     "height": 52
    },
    "colab_type": "code",
    "id": "kh4gcpoR-TzD",
    "outputId": "7bb7d6ac-f4d9-4661-c91c-990f06a1825c"
   },
   "outputs": [
    {
     "name": "stdout",
     "output_type": "stream",
     "text": [
      "Requirement already satisfied: langdetect in c:\\users\\alex work\\pycharmprojects\\adams\\venv2\\lib\\site-packages (1.0.8)\n",
      "Requirement already satisfied: six in c:\\users\\alex work\\pycharmprojects\\adams\\venv2\\lib\\site-packages (from langdetect) (1.15.0)\n"
     ]
    }
   ],
   "source": [
    "!pip install langdetect\n"
   ]
  },
  {
   "cell_type": "code",
   "execution_count": 35,
   "metadata": {
    "colab": {},
    "colab_type": "code",
    "id": "u5zCI7Idgghf"
   },
   "outputs": [],
   "source": [
    "from langdetect import detect"
   ]
  },
  {
   "cell_type": "code",
   "execution_count": 36,
   "metadata": {
    "colab": {},
    "colab_type": "code",
    "id": "VKjZ_GjDghS3"
   },
   "outputs": [],
   "source": [
    "test['Language'] = test.Text.apply(detect)"
   ]
  },
  {
   "cell_type": "code",
   "execution_count": 37,
   "metadata": {
    "colab": {
     "base_uri": "https://localhost:8080/",
     "height": 406
    },
    "colab_type": "code",
    "id": "nyKXK7S5hKtV",
    "outputId": "abacbd97-b70b-46df-c0fc-235248790710"
   },
   "outputs": [
    {
     "data": {
      "text/html": [
       "<div>\n",
       "<style scoped>\n",
       "    .dataframe tbody tr th:only-of-type {\n",
       "        vertical-align: middle;\n",
       "    }\n",
       "\n",
       "    .dataframe tbody tr th {\n",
       "        vertical-align: top;\n",
       "    }\n",
       "\n",
       "    .dataframe thead th {\n",
       "        text-align: right;\n",
       "    }\n",
       "</style>\n",
       "<table border=\"1\" class=\"dataframe\">\n",
       "  <thead>\n",
       "    <tr style=\"text-align: right;\">\n",
       "      <th></th>\n",
       "      <th>Unnamed: 0</th>\n",
       "      <th>index</th>\n",
       "      <th>Author</th>\n",
       "      <th>Responses</th>\n",
       "      <th>Header</th>\n",
       "      <th>Text</th>\n",
       "      <th>Length</th>\n",
       "      <th>Publication</th>\n",
       "      <th>Date</th>\n",
       "      <th>Language</th>\n",
       "    </tr>\n",
       "  </thead>\n",
       "  <tbody>\n",
       "    <tr>\n",
       "      <th>0</th>\n",
       "      <td>0</td>\n",
       "      <td>0</td>\n",
       "      <td>Daniel Jeffries</td>\n",
       "      <td>627 responses</td>\n",
       "      <td>Why Everyone Missed the Most Mind-Blowing Feat...</td>\n",
       "      <td>There’s one incredible feature of cryptocurren...</td>\n",
       "      <td>23401</td>\n",
       "      <td>HackerNoon.com</td>\n",
       "      <td>2017-07-31</td>\n",
       "      <td>en</td>\n",
       "    </tr>\n",
       "    <tr>\n",
       "      <th>1</th>\n",
       "      <td>1</td>\n",
       "      <td>1</td>\n",
       "      <td>Noam Levenson</td>\n",
       "      <td>156 responses</td>\n",
       "      <td>NEO versus Ethereum: Why NEO might be 2018’s s...</td>\n",
       "      <td>&lt;img class=\"progressiveMedia-noscript js-progr...</td>\n",
       "      <td>23972</td>\n",
       "      <td>HackerNoon.com</td>\n",
       "      <td>2017-12-06</td>\n",
       "      <td>en</td>\n",
       "    </tr>\n",
       "    <tr>\n",
       "      <th>2</th>\n",
       "      <td>2</td>\n",
       "      <td>2</td>\n",
       "      <td>Daniel Jeffries</td>\n",
       "      <td>176 responses</td>\n",
       "      <td>The Cryptocurrency Trading Bible</td>\n",
       "      <td>So you want to trade cryptocurrency?You’ve see...</td>\n",
       "      <td>402</td>\n",
       "      <td>HackerNoon.com</td>\n",
       "      <td>2017-07-21</td>\n",
       "      <td>en</td>\n",
       "    </tr>\n",
       "    <tr>\n",
       "      <th>3</th>\n",
       "      <td>3</td>\n",
       "      <td>5</td>\n",
       "      <td>Haseeb Qureshi</td>\n",
       "      <td>72 responses</td>\n",
       "      <td>Stablecoins: designing a price-stable cryptocu...</td>\n",
       "      <td>A useful currency should be a medium of exchan...</td>\n",
       "      <td>19730</td>\n",
       "      <td>HackerNoon.com</td>\n",
       "      <td>2018-02-19</td>\n",
       "      <td>en</td>\n",
       "    </tr>\n",
       "    <tr>\n",
       "      <th>4</th>\n",
       "      <td>4</td>\n",
       "      <td>7</td>\n",
       "      <td>William Belk</td>\n",
       "      <td>19 responses</td>\n",
       "      <td>Chaos vs. Order — The Cryptocurrency Dilemma</td>\n",
       "      <td>Crypto crypto crypto crypto. It’s here. It’s h...</td>\n",
       "      <td>5324</td>\n",
       "      <td>HackerNoon.com</td>\n",
       "      <td>2018-01-28</td>\n",
       "      <td>en</td>\n",
       "    </tr>\n",
       "    <tr>\n",
       "      <th>...</th>\n",
       "      <td>...</td>\n",
       "      <td>...</td>\n",
       "      <td>...</td>\n",
       "      <td>...</td>\n",
       "      <td>...</td>\n",
       "      <td>...</td>\n",
       "      <td>...</td>\n",
       "      <td>...</td>\n",
       "      <td>...</td>\n",
       "      <td>...</td>\n",
       "    </tr>\n",
       "    <tr>\n",
       "      <th>509</th>\n",
       "      <td>509</td>\n",
       "      <td>598</td>\n",
       "      <td>Tim Romero</td>\n",
       "      <td>181 responses</td>\n",
       "      <td>Why I turned down $500K, Pissed off my investo...</td>\n",
       "      <td>I just did what no startup founder is ever sup...</td>\n",
       "      <td>9025</td>\n",
       "      <td>Startup Lessons Learned</td>\n",
       "      <td>2016-06-09</td>\n",
       "      <td>en</td>\n",
       "    </tr>\n",
       "    <tr>\n",
       "      <th>510</th>\n",
       "      <td>510</td>\n",
       "      <td>599</td>\n",
       "      <td>Product Hunt</td>\n",
       "      <td>24 responses</td>\n",
       "      <td>These Tools Will Help You Launch Your Startup</td>\n",
       "      <td>If you’re embarking on the startup journey and...</td>\n",
       "      <td>5571</td>\n",
       "      <td>None</td>\n",
       "      <td>2016-06-10</td>\n",
       "      <td>en</td>\n",
       "    </tr>\n",
       "    <tr>\n",
       "      <th>511</th>\n",
       "      <td>511</td>\n",
       "      <td>600</td>\n",
       "      <td>Joe Procopio</td>\n",
       "      <td>24 responses</td>\n",
       "      <td>Why Startups Fall Apart at 50 Employees</td>\n",
       "      <td>Fuck you startups with your extravagant partie...</td>\n",
       "      <td>475</td>\n",
       "      <td>None</td>\n",
       "      <td>1900-03-19</td>\n",
       "      <td>en</td>\n",
       "    </tr>\n",
       "    <tr>\n",
       "      <th>512</th>\n",
       "      <td>512</td>\n",
       "      <td>601</td>\n",
       "      <td>Winerist</td>\n",
       "      <td>116 responses</td>\n",
       "      <td>Beware of Startup Prostitution</td>\n",
       "      <td>Note: This is not a post to glorify prostituti...</td>\n",
       "      <td>13483</td>\n",
       "      <td>Be Yourself</td>\n",
       "      <td>2016-03-18</td>\n",
       "      <td>en</td>\n",
       "    </tr>\n",
       "    <tr>\n",
       "      <th>513</th>\n",
       "      <td>513</td>\n",
       "      <td>602</td>\n",
       "      <td>Aytek</td>\n",
       "      <td>34 responses</td>\n",
       "      <td>How to build a startup — without quitting your...</td>\n",
       "      <td>Question: What do Craigslist and Albert Einste...</td>\n",
       "      <td>8736</td>\n",
       "      <td>Tank in The Startup</td>\n",
       "      <td>2018-01-11</td>\n",
       "      <td>en</td>\n",
       "    </tr>\n",
       "  </tbody>\n",
       "</table>\n",
       "<p>514 rows × 10 columns</p>\n",
       "</div>"
      ],
      "text/plain": [
       "     Unnamed: 0  index           Author      Responses  \\\n",
       "0             0      0  Daniel Jeffries  627 responses   \n",
       "1             1      1    Noam Levenson  156 responses   \n",
       "2             2      2  Daniel Jeffries  176 responses   \n",
       "3             3      5   Haseeb Qureshi   72 responses   \n",
       "4             4      7     William Belk   19 responses   \n",
       "..          ...    ...              ...            ...   \n",
       "509         509    598       Tim Romero  181 responses   \n",
       "510         510    599     Product Hunt   24 responses   \n",
       "511         511    600     Joe Procopio   24 responses   \n",
       "512         512    601         Winerist  116 responses   \n",
       "513         513    602            Aytek   34 responses   \n",
       "\n",
       "                                                Header  \\\n",
       "0    Why Everyone Missed the Most Mind-Blowing Feat...   \n",
       "1    NEO versus Ethereum: Why NEO might be 2018’s s...   \n",
       "2                     The Cryptocurrency Trading Bible   \n",
       "3    Stablecoins: designing a price-stable cryptocu...   \n",
       "4         Chaos vs. Order — The Cryptocurrency Dilemma   \n",
       "..                                                 ...   \n",
       "509  Why I turned down $500K, Pissed off my investo...   \n",
       "510      These Tools Will Help You Launch Your Startup   \n",
       "511            Why Startups Fall Apart at 50 Employees   \n",
       "512                     Beware of Startup Prostitution   \n",
       "513  How to build a startup — without quitting your...   \n",
       "\n",
       "                                                  Text  Length  \\\n",
       "0    There’s one incredible feature of cryptocurren...   23401   \n",
       "1    <img class=\"progressiveMedia-noscript js-progr...   23972   \n",
       "2    So you want to trade cryptocurrency?You’ve see...     402   \n",
       "3    A useful currency should be a medium of exchan...   19730   \n",
       "4    Crypto crypto crypto crypto. It’s here. It’s h...    5324   \n",
       "..                                                 ...     ...   \n",
       "509  I just did what no startup founder is ever sup...    9025   \n",
       "510  If you’re embarking on the startup journey and...    5571   \n",
       "511  Fuck you startups with your extravagant partie...     475   \n",
       "512  Note: This is not a post to glorify prostituti...   13483   \n",
       "513  Question: What do Craigslist and Albert Einste...    8736   \n",
       "\n",
       "                 Publication       Date Language  \n",
       "0             HackerNoon.com 2017-07-31       en  \n",
       "1             HackerNoon.com 2017-12-06       en  \n",
       "2             HackerNoon.com 2017-07-21       en  \n",
       "3             HackerNoon.com 2018-02-19       en  \n",
       "4             HackerNoon.com 2018-01-28       en  \n",
       "..                       ...        ...      ...  \n",
       "509  Startup Lessons Learned 2016-06-09       en  \n",
       "510                     None 2016-06-10       en  \n",
       "511                     None 1900-03-19       en  \n",
       "512              Be Yourself 2016-03-18       en  \n",
       "513      Tank in The Startup 2018-01-11       en  \n",
       "\n",
       "[514 rows x 10 columns]"
      ]
     },
     "execution_count": 37,
     "metadata": {},
     "output_type": "execute_result"
    }
   ],
   "source": [
    "test"
   ]
  },
  {
   "cell_type": "code",
   "execution_count": 38,
   "metadata": {
    "colab": {
     "base_uri": "https://localhost:8080/",
     "height": 105
    },
    "colab_type": "code",
    "id": "UjyJ5VJ4hMfl",
    "outputId": "45430081-5ded-4a7e-c10e-44f8634ef563",
    "scrolled": false
   },
   "outputs": [
    {
     "data": {
      "text/plain": [
       "en       511\n",
       "ja         1\n",
       "zh-tw      1\n",
       "pt         1\n",
       "Name: Language, dtype: int64"
      ]
     },
     "execution_count": 38,
     "metadata": {},
     "output_type": "execute_result"
    }
   ],
   "source": [
    "test.Language.value_counts()"
   ]
  },
  {
   "cell_type": "markdown",
   "metadata": {},
   "source": [
    "We then here plot some scatterplots and histograms to show how our data is structured."
   ]
  },
  {
   "cell_type": "code",
   "execution_count": 39,
   "metadata": {},
   "outputs": [
    {
     "data": {
      "image/png": "[encoded data removed]",
      "text/plain": [
       "<Figure size 432x288 with 1 Axes>"
      ]
     },
     "metadata": {
      "needs_background": "light"
     },
     "output_type": "display_data"
    }
   ],
   "source": [
    "import matplotlib.pyplot as plt\n",
    "import numpy as np\n",
    "%matplotlib inline\n",
    "plt.hist(df.Claps, density=False, bins=300)  # `density=False` would make counts\n",
    "plt.ylabel('Probability')\n",
    "plt.xlabel('Data');"
   ]
  },
  {
   "cell_type": "markdown",
   "metadata": {},
   "source": [
    "We can obviously mark the great skew of data towards zero clap count."
   ]
  },
  {
   "cell_type": "code",
   "execution_count": 40,
   "metadata": {},
   "outputs": [
    {
     "data": {
      "image/png": "[encoded data removed]",
      "text/plain": [
       "<Figure size 432x288 with 1 Axes>"
      ]
     },
     "metadata": {
      "needs_background": "light"
     },
     "output_type": "display_data"
    }
   ],
   "source": [
    "plt.scatter(df.Responses, df.Claps, alpha=0.5)\n",
    "plt.title('Scatter plot pythonspot.com')\n",
    "plt.xlabel('x')\n",
    "plt.ylabel('y')\n",
    "plt.show()"
   ]
  },
  {
   "cell_type": "code",
   "execution_count": 41,
   "metadata": {},
   "outputs": [
    {
     "data": {
      "image/png": "[encoded data removed]",
      "text/plain": [
       "<Figure size 432x288 with 1 Axes>"
      ]
     },
     "metadata": {
      "needs_background": "light"
     },
     "output_type": "display_data"
    }
   ],
   "source": [
    "plt.scatter(df.Length, df.Claps, alpha=0.5)\n",
    "plt.title('Scatter plot pythonspot.com')\n",
    "plt.xlabel('x')\n",
    "plt.ylabel('y')\n",
    "plt.show()"
   ]
  },
  {
   "cell_type": "markdown",
   "metadata": {},
   "source": [
    "### 2.3 Feature Engineering and Preprocessing"
   ]
  },
  {
   "cell_type": "markdown",
   "metadata": {},
   "source": [
    "In attempt to feature engineer extra useful variables, we use the [Vader Sentiment Package](https://pypi.org/project/vaderSentiment/) to get a sentiment value for every header, ranging between -1 (most negative sentiment) to 1 (most positive)."
   ]
  },
  {
   "cell_type": "code",
   "execution_count": 42,
   "metadata": {},
   "outputs": [],
   "source": [
    "from vaderSentiment.vaderSentiment import SentimentIntensityAnalyzer\n",
    "analyzer = SentimentIntensityAnalyzer()"
   ]
  },
  {
   "cell_type": "code",
   "execution_count": 43,
   "metadata": {},
   "outputs": [
    {
     "data": {
      "text/plain": [
       "{'neg': 0.0, 'neu': 0.53, 'pos': 0.47, 'compound': 0.7964}"
      ]
     },
     "execution_count": 43,
     "metadata": {},
     "output_type": "execute_result"
    }
   ],
   "source": [
    "analyzer.polarity_scores(df.Header.iloc[3])"
   ]
  },
  {
   "cell_type": "code",
   "execution_count": 44,
   "metadata": {},
   "outputs": [],
   "source": [
    "df['sentiment_header'] = df.Header.apply(lambda x: analyzer.polarity_scores(str(x))['compound'])"
   ]
  },
  {
   "cell_type": "code",
   "execution_count": 45,
   "metadata": {
    "scrolled": true
   },
   "outputs": [
    {
     "data": {
      "text/plain": [
       "count    72288.000000\n",
       "mean         0.090972\n",
       "std          0.258945\n",
       "min         -0.921700\n",
       "25%          0.000000\n",
       "50%          0.000000\n",
       "75%          0.202300\n",
       "max          0.951700\n",
       "Name: sentiment_header, dtype: float64"
      ]
     },
     "execution_count": 45,
     "metadata": {},
     "output_type": "execute_result"
    }
   ],
   "source": [
    "df.sentiment_header.describe()"
   ]
  },
  {
   "cell_type": "code",
   "execution_count": 46,
   "metadata": {},
   "outputs": [
    {
     "data": {
      "image/png": "[encoded data removed]",
      "text/plain": [
       "<Figure size 432x288 with 1 Axes>"
      ]
     },
     "metadata": {
      "needs_background": "light"
     },
     "output_type": "display_data"
    }
   ],
   "source": [
    "plt.scatter(df.sentiment_header, df.Claps, alpha=0.5)\n",
    "plt.title('Scatter plot pythonspot.com')\n",
    "plt.xlabel('x')\n",
    "plt.ylabel('y')\n",
    "plt.show()"
   ]
  },
  {
   "cell_type": "markdown",
   "metadata": {},
   "source": [
    "To take this a step further, we attempt to get the readibility level out of the text article. This is done using the Flesch Kincaid Grade function provided by [textstat package](https://pypi.org/project/textstat/)."
   ]
  },
  {
   "cell_type": "code",
   "execution_count": 47,
   "metadata": {},
   "outputs": [
    {
     "data": {
      "text/plain": [
       "6.0"
      ]
     },
     "execution_count": 47,
     "metadata": {},
     "output_type": "execute_result"
    }
   ],
   "source": [
    "import textstat as ts\n",
    "\n",
    "ts.flesch_kincaid_grade(df.Header.iloc[3])"
   ]
  },
  {
   "cell_type": "code",
   "execution_count": 48,
   "metadata": {},
   "outputs": [],
   "source": [
    "df['readibility_level'] = df.Text.apply(lambda x: ts.flesch_kincaid_grade(str(x)))"
   ]
  },
  {
   "cell_type": "markdown",
   "metadata": {},
   "source": [
    "Now removing the word \"responses\" from every response values we have in our test set."
   ]
  },
  {
   "cell_type": "code",
   "execution_count": 49,
   "metadata": {},
   "outputs": [],
   "source": [
    "df['Responses'] = df['Responses'].apply(lambda x: int(x.split(' ')[0]))"
   ]
  },
  {
   "cell_type": "markdown",
   "metadata": {},
   "source": [
    "We then clean our texts from any hyperlinks, non alphabetic characters using this ```clean texts``` function. "
   ]
  },
  {
   "cell_type": "code",
   "execution_count": 50,
   "metadata": {},
   "outputs": [],
   "source": [
    "def clean_texts(df):\n",
    "    \"\"\" Standard NLP pre-processing chain including removal of html tags, non-alphanumeric characters, and stopwords.\n",
    "        Words are subject to lemmatization using their POS tags, which are determind using WordNet. \n",
    "    \"\"\"\n",
    "    texts = []\n",
    "\n",
    "    lemmatizer = WordNetLemmatizer()\n",
    "    \n",
    "    print('*' * 40)\n",
    "    print('Cleaning {} article texts.'.format(df.shape[0]))\n",
    "    counter = 0\n",
    "    for text in df:\n",
    "        text = re.sub(r'(h?t?t?p?s?)?(:\\/\\/)?(www\\.)?[-a-zA-Z0-9@:%._\\+~#=]{1,256}\\.[a-zA-Z0-9()]{1,6}\\b([-a-zA-Z0-9()@:%_\\+.~#?&//=]*)', '', text, flags=re.MULTILINE)\n",
    "                \n",
    "#         # remove html content\n",
    "        article_text = BeautifulSoup(text).get_text()\n",
    "        \n",
    "#         # remove non-alphabetic characters\n",
    "        article_text = re.sub(\"[^a-zA-Z]\",\" \", article_text)\n",
    "    \n",
    "        # tokenize the sentences\n",
    "#         words = word_tokenize(article_text.lower())\n",
    "  \n",
    "        # # filter stopwords\n",
    "        # words = [w for w in words if w not in stopwords.words(\"english\")]\n",
    "        \n",
    "        # lemmatize each word to its lemma\n",
    "#         lemma_words =[lemmatizer.lemmatize(i, get_wordnet_pos(i)) for i in text]\n",
    "    \n",
    "#         texts.append(lemma_words)\n",
    "        texts.append(article_text)    \n",
    "        if (counter > 0 and counter % 500 == 0):\n",
    "            print('Processed {} texts'.format(counter))\n",
    "            \n",
    "        counter += 1\n",
    "        \n",
    "    print('DONE')\n",
    "    print('*' * 40)\n",
    "\n",
    "    return(texts)"
   ]
  },
  {
   "cell_type": "code",
   "execution_count": 51,
   "metadata": {
    "scrolled": true
   },
   "outputs": [
    {
     "name": "stdout",
     "output_type": "stream",
     "text": [
      "****************************************\n",
      "Cleaning 72288 article texts.\n",
      "Processed 500 texts\n",
      "Processed 1000 texts\n",
      "Processed 1500 texts\n",
      "Processed 2000 texts\n",
      "Processed 2500 texts\n",
      "Processed 3000 texts\n",
      "Processed 3500 texts\n",
      "Processed 4000 texts\n",
      "Processed 4500 texts\n",
      "Processed 5000 texts\n",
      "Processed 5500 texts\n",
      "Processed 6000 texts\n",
      "Processed 6500 texts\n",
      "Processed 7000 texts\n",
      "Processed 7500 texts\n",
      "Processed 8000 texts\n",
      "Processed 8500 texts\n",
      "Processed 9000 texts\n",
      "Processed 9500 texts\n",
      "Processed 10000 texts\n",
      "Processed 10500 texts\n",
      "Processed 11000 texts\n",
      "Processed 11500 texts\n",
      "Processed 12000 texts\n",
      "Processed 12500 texts\n",
      "Processed 13000 texts\n",
      "Processed 13500 texts\n",
      "Processed 14000 texts\n",
      "Processed 14500 texts\n",
      "Processed 15000 texts\n",
      "Processed 15500 texts\n",
      "Processed 16000 texts\n",
      "Processed 16500 texts\n",
      "Processed 17000 texts\n",
      "Processed 17500 texts\n",
      "Processed 18000 texts\n",
      "Processed 18500 texts\n",
      "Processed 19000 texts\n",
      "Processed 19500 texts\n",
      "Processed 20000 texts\n",
      "Processed 20500 texts\n",
      "Processed 21000 texts\n",
      "Processed 21500 texts\n",
      "Processed 22000 texts\n",
      "Processed 22500 texts\n",
      "Processed 23000 texts\n",
      "Processed 23500 texts\n",
      "Processed 24000 texts\n",
      "Processed 24500 texts\n",
      "Processed 25000 texts\n",
      "Processed 25500 texts\n",
      "Processed 26000 texts\n",
      "Processed 26500 texts\n",
      "Processed 27000 texts\n",
      "Processed 27500 texts\n",
      "Processed 28000 texts\n",
      "Processed 28500 texts\n",
      "Processed 29000 texts\n",
      "Processed 29500 texts\n",
      "Processed 30000 texts\n",
      "Processed 30500 texts\n",
      "Processed 31000 texts\n",
      "Processed 31500 texts\n",
      "Processed 32000 texts\n",
      "Processed 32500 texts\n",
      "Processed 33000 texts\n",
      "Processed 33500 texts\n",
      "Processed 34000 texts\n",
      "Processed 34500 texts\n",
      "Processed 35000 texts\n",
      "Processed 35500 texts\n",
      "Processed 36000 texts\n",
      "Processed 36500 texts\n",
      "Processed 37000 texts\n",
      "Processed 37500 texts\n",
      "Processed 38000 texts\n",
      "Processed 38500 texts\n",
      "Processed 39000 texts\n",
      "Processed 39500 texts\n",
      "Processed 40000 texts\n",
      "Processed 40500 texts\n",
      "Processed 41000 texts\n",
      "Processed 41500 texts\n",
      "Processed 42000 texts\n",
      "Processed 42500 texts\n",
      "Processed 43000 texts\n",
      "Processed 43500 texts\n",
      "Processed 44000 texts\n",
      "Processed 44500 texts\n",
      "Processed 45000 texts\n",
      "Processed 45500 texts\n",
      "Processed 46000 texts\n",
      "Processed 46500 texts\n",
      "Processed 47000 texts\n",
      "Processed 47500 texts\n",
      "Processed 48000 texts\n",
      "Processed 48500 texts\n",
      "Processed 49000 texts\n",
      "Processed 49500 texts\n",
      "Processed 50000 texts\n",
      "Processed 50500 texts\n",
      "Processed 51000 texts\n",
      "Processed 51500 texts\n",
      "Processed 52000 texts\n",
      "Processed 52500 texts\n",
      "Processed 53000 texts\n",
      "Processed 53500 texts\n",
      "Processed 54000 texts\n",
      "Processed 54500 texts\n",
      "Processed 55000 texts\n",
      "Processed 55500 texts\n",
      "Processed 56000 texts\n",
      "Processed 56500 texts\n",
      "Processed 57000 texts\n",
      "Processed 57500 texts\n",
      "Processed 58000 texts\n",
      "Processed 58500 texts\n",
      "Processed 59000 texts\n",
      "Processed 59500 texts\n",
      "Processed 60000 texts\n",
      "Processed 60500 texts\n",
      "Processed 61000 texts\n",
      "Processed 61500 texts\n",
      "Processed 62000 texts\n",
      "Processed 62500 texts\n",
      "Processed 63000 texts\n",
      "Processed 63500 texts\n",
      "Processed 64000 texts\n",
      "Processed 64500 texts\n",
      "Processed 65000 texts\n",
      "Processed 65500 texts\n",
      "Processed 66000 texts\n",
      "Processed 66500 texts\n",
      "Processed 67000 texts\n",
      "Processed 67500 texts\n",
      "Processed 68000 texts\n",
      "Processed 68500 texts\n",
      "Processed 69000 texts\n",
      "Processed 69500 texts\n",
      "Processed 70000 texts\n",
      "Processed 70500 texts\n",
      "Processed 71000 texts\n",
      "Processed 71500 texts\n",
      "Processed 72000 texts\n",
      "DONE\n",
      "****************************************\n"
     ]
    }
   ],
   "source": [
    "df.Text = clean_texts(df.Text)"
   ]
  },
  {
   "cell_type": "markdown",
   "metadata": {},
   "source": [
    "After experimenting with the text data for quite some time, we decided to use this [Rapid Automatic Keyword Extraction](https://github.com/fabianvf/python-rake) to extract keywords that we hope will have a value in feeding our models for prediction."
   ]
  },
  {
   "cell_type": "code",
   "execution_count": 52,
   "metadata": {},
   "outputs": [],
   "source": [
    "SUPPORTED_LANG = ['bg', 'cs', 'da', 'de', 'el', 'en', 'es', 'fi', 'fr', 'ga', 'hr', 'hu', 'id', 'it', 'lt', 'lv', 'nl', 'no', 'pl', 'pt', 'ro', 'ru', 'sk', 'sv', 'tr', 'uk', 'bs']\n",
    "def rake_fn(row):\n",
    "    language = row.Language if row.Language in SUPPORTED_LANG else None\n",
    "    rake = Rake(\n",
    "        min_chars=3,\n",
    "        max_words=1,\n",
    "        min_freq=1,\n",
    "        language_code=language,  # 'en'\n",
    "        stopwords=None,  # {'and', 'of'}\n",
    "        lang_detect_threshold=50,\n",
    "        max_words_unknown_lang=2,\n",
    "        generated_stopwords_percentile=80,\n",
    "        generated_stopwords_max_len=3,\n",
    "        generated_stopwords_min_freq=2,\n",
    "    )\n",
    "    return rake.apply(row.Text)"
   ]
  },
  {
   "cell_type": "code",
   "execution_count": 53,
   "metadata": {},
   "outputs": [],
   "source": [
    "df['Rake'] = df.apply(rake_fn, axis=1)"
   ]
  },
  {
   "cell_type": "markdown",
   "metadata": {},
   "source": [
    "As we will need the vocab list and the number of keywords extracted, we extract some feature like ```Keyword_no``` and ```words```, which then is padded to the number 44, the number of words found at 25th percentile of the data. After experimenting, we thought this was the most adequate."
   ]
  },
  {
   "cell_type": "code",
   "execution_count": 54,
   "metadata": {},
   "outputs": [],
   "source": [
    "df['Keyword_no'] = df.Rake.apply(lambda r: len(r)) "
   ]
  },
  {
   "cell_type": "code",
   "execution_count": 55,
   "metadata": {},
   "outputs": [
    {
     "data": {
      "text/plain": [
       "count    72288.000000\n",
       "mean       100.946243\n",
       "std         85.510172\n",
       "min          0.000000\n",
       "25%         44.000000\n",
       "50%         84.000000\n",
       "75%        135.000000\n",
       "max       1582.000000\n",
       "Name: Keyword_no, dtype: float64"
      ]
     },
     "execution_count": 55,
     "metadata": {},
     "output_type": "execute_result"
    }
   ],
   "source": [
    "df.Keyword_no.describe()"
   ]
  },
  {
   "cell_type": "code",
   "execution_count": 56,
   "metadata": {},
   "outputs": [],
   "source": [
    "def extract_words(rake):\n",
    "    words = [x[0] for x in rake]\n",
    "    return words"
   ]
  },
  {
   "cell_type": "code",
   "execution_count": 57,
   "metadata": {},
   "outputs": [],
   "source": [
    "df['words'] = df.Rake.apply(extract_words)"
   ]
  },
  {
   "cell_type": "code",
   "execution_count": 58,
   "metadata": {},
   "outputs": [],
   "source": [
    "df['words_short'] = df.words.apply(lambda x: x[:44])"
   ]
  },
  {
   "cell_type": "code",
   "execution_count": 59,
   "metadata": {},
   "outputs": [],
   "source": [
    "vocablist = df['words_short']"
   ]
  },
  {
   "cell_type": "code",
   "execution_count": 60,
   "metadata": {},
   "outputs": [
    {
     "data": {
      "text/plain": [
       "0         [internet, things, optimize, representatives, ...\n",
       "3         [set, scale, rate, nature, mitigate, impact, p...\n",
       "7         [associations, open, capacity, driving, plenty...\n",
       "11        [discussed, robot, love, human, traumatized, j...\n",
       "16        [interesting, cases, days, start, post, compil...\n",
       "                                ...                        \n",
       "279557    [wrapped, season, march, analysis, rankings, h...\n",
       "279562    [sdk, dialogflow, creado, peque, reactnative, ...\n",
       "279567    [streamline, frontlines, answers, chatbots, co...\n",
       "279570    [ometimes, show, showing, move, top, presentin...\n",
       "279572    [ethics, policing, capital, examine, mayor, ch...\n",
       "Name: words_short, Length: 72288, dtype: object"
      ]
     },
     "execution_count": 60,
     "metadata": {},
     "output_type": "execute_result"
    }
   ],
   "source": [
    "vocablist"
   ]
  },
  {
   "cell_type": "code",
   "execution_count": 61,
   "metadata": {},
   "outputs": [],
   "source": [
    "vocablist1 = []\n",
    "for sublist in vocablist:\n",
    "    for item in sublist:\n",
    "        vocablist1.append(item)"
   ]
  },
  {
   "cell_type": "code",
   "execution_count": 62,
   "metadata": {},
   "outputs": [],
   "source": [
    "vocablist1 = list(set(vocablist1))"
   ]
  },
  {
   "cell_type": "code",
   "execution_count": 63,
   "metadata": {
    "scrolled": true
   },
   "outputs": [
    {
     "data": {
      "text/plain": [
       "94281"
      ]
     },
     "execution_count": 63,
     "metadata": {},
     "output_type": "execute_result"
    }
   ],
   "source": [
    "len(vocablist1)"
   ]
  },
  {
   "cell_type": "markdown",
   "metadata": {},
   "source": [
    "We then lemmatize our words for further use in NLP."
   ]
  },
  {
   "cell_type": "code",
   "execution_count": 64,
   "metadata": {},
   "outputs": [],
   "source": [
    "def get_wordnet_pos(word):\n",
    "    \"\"\"Map POS tag to first character for lemmatization\"\"\"\n",
    "    tag = nltk.pos_tag([word])[0][1][0].upper()\n",
    "    tag_dict = {\"J\": wordnet.ADJ,\n",
    "                \"N\": wordnet.NOUN,\n",
    "                \"V\": wordnet.VERB,\n",
    "                \"R\": wordnet.ADV}\n",
    "\n",
    "    return tag_dict.get(tag, wordnet.NOUN)"
   ]
  },
  {
   "cell_type": "code",
   "execution_count": 65,
   "metadata": {},
   "outputs": [],
   "source": [
    "def lemma_texts(df):\n",
    "    \"\"\" Standard NLP pre-processing chain including removal of html tags, non-alphanumeric characters, and stopwords.\n",
    "        Words are subject to lemmatization using their POS tags, which are determind using WordNet. \n",
    "    \"\"\"\n",
    "    texts = []\n",
    "\n",
    "    lemmatizer = WordNetLemmatizer()\n",
    "    \n",
    "    print('*' * 40)\n",
    "    print('Cleaning {} article texts.'.format(df.shape[0]))\n",
    "    counter = 0\n",
    "    for text in df:\n",
    "#         text = re.sub(r'(h?t?t?p?s?)?(:\\/\\/)?(www\\.)?[-a-zA-Z0-9@:%._\\+~#=]{1,256}\\.[a-zA-Z0-9()]{1,6}\\b([-a-zA-Z0-9()@:%_\\+.~#?&//=]*)', '', text, flags=re.MULTILINE)\n",
    "                \n",
    "#         # remove html content\n",
    "#         article_text = BeautifulSoup(text).get_text()\n",
    "        \n",
    "#         # remove non-alphabetic characters\n",
    "#         article_text = re.sub(\"[^a-zA-Z]\",\" \", article_text)\n",
    "    \n",
    "        # tokenize the sentences\n",
    "#         words = word_tokenize(article_text.lower())\n",
    "  \n",
    "        # # filter stopwords\n",
    "        # words = [w for w in words if w not in stopwords.words(\"english\")]\n",
    "        \n",
    "        # lemmatize each word to its lemma\n",
    "        lemma_words =[lemmatizer.lemmatize(i, get_wordnet_pos(i)) for i in text]\n",
    "    \n",
    "        texts.append(lemma_words)\n",
    "#         texts.append(article_text)    \n",
    "        if (counter > 0 and counter % 500 == 0):\n",
    "            print('Processed {} texts'.format(counter))\n",
    "            \n",
    "        counter += 1\n",
    "        \n",
    "    print('DONE')\n",
    "    print('*' * 40)\n",
    "\n",
    "    return(texts)"
   ]
  },
  {
   "cell_type": "code",
   "execution_count": 66,
   "metadata": {},
   "outputs": [
    {
     "data": {
      "text/plain": [
       "['associations',\n",
       " 'open',\n",
       " 'capacity',\n",
       " 'driving',\n",
       " 'plenty',\n",
       " 'data',\n",
       " 'foundation',\n",
       " 'helpful',\n",
       " 'dissecting',\n",
       " 'accomplished',\n",
       " 'business',\n",
       " 'fill',\n",
       " 'confided',\n",
       " 'counselor',\n",
       " 'administration',\n",
       " 'ensure',\n",
       " 'correspondence',\n",
       " 'exhibit',\n",
       " 'estimation',\n",
       " 'investigation',\n",
       " 'phases',\n",
       " 'estimating',\n",
       " 'motivation',\n",
       " 'make',\n",
       " 'mumbai',\n",
       " 'individuals',\n",
       " 'put',\n",
       " 'gathering',\n",
       " 'major',\n",
       " 'module',\n",
       " 'comprehend',\n",
       " 'passed',\n",
       " 'wannabes',\n",
       " 'complete',\n",
       " 'puts',\n",
       " 'secure',\n",
       " 'work',\n",
       " 'arrive',\n",
       " 'position',\n",
       " 'understand',\n",
       " 'lay',\n",
       " 'arrangement',\n",
       " 'perceiving',\n",
       " 'bits']"
      ]
     },
     "execution_count": 66,
     "metadata": {},
     "output_type": "execute_result"
    }
   ],
   "source": [
    "df.words_short.iloc[2]"
   ]
  },
  {
   "cell_type": "code",
   "execution_count": 67,
   "metadata": {},
   "outputs": [
    {
     "name": "stdout",
     "output_type": "stream",
     "text": [
      "****************************************\n",
      "Cleaning 72288 article texts.\n",
      "Processed 500 texts\n",
      "Processed 1000 texts\n",
      "Processed 1500 texts\n",
      "Processed 2000 texts\n",
      "Processed 2500 texts\n",
      "Processed 3000 texts\n",
      "Processed 3500 texts\n",
      "Processed 4000 texts\n",
      "Processed 4500 texts\n",
      "Processed 5000 texts\n",
      "Processed 5500 texts\n",
      "Processed 6000 texts\n",
      "Processed 6500 texts\n",
      "Processed 7000 texts\n",
      "Processed 7500 texts\n",
      "Processed 8000 texts\n",
      "Processed 8500 texts\n",
      "Processed 9000 texts\n",
      "Processed 9500 texts\n",
      "Processed 10000 texts\n",
      "Processed 10500 texts\n",
      "Processed 11000 texts\n",
      "Processed 11500 texts\n",
      "Processed 12000 texts\n",
      "Processed 12500 texts\n",
      "Processed 13000 texts\n",
      "Processed 13500 texts\n",
      "Processed 14000 texts\n",
      "Processed 14500 texts\n",
      "Processed 15000 texts\n",
      "Processed 15500 texts\n",
      "Processed 16000 texts\n",
      "Processed 16500 texts\n",
      "Processed 17000 texts\n",
      "Processed 17500 texts\n",
      "Processed 18000 texts\n",
      "Processed 18500 texts\n",
      "Processed 19000 texts\n",
      "Processed 19500 texts\n",
      "Processed 20000 texts\n",
      "Processed 20500 texts\n",
      "Processed 21000 texts\n",
      "Processed 21500 texts\n",
      "Processed 22000 texts\n",
      "Processed 22500 texts\n",
      "Processed 23000 texts\n",
      "Processed 23500 texts\n",
      "Processed 24000 texts\n",
      "Processed 24500 texts\n",
      "Processed 25000 texts\n",
      "Processed 25500 texts\n",
      "Processed 26000 texts\n",
      "Processed 26500 texts\n",
      "Processed 27000 texts\n",
      "Processed 27500 texts\n",
      "Processed 28000 texts\n",
      "Processed 28500 texts\n",
      "Processed 29000 texts\n",
      "Processed 29500 texts\n",
      "Processed 30000 texts\n",
      "Processed 30500 texts\n",
      "Processed 31000 texts\n",
      "Processed 31500 texts\n",
      "Processed 32000 texts\n",
      "Processed 32500 texts\n",
      "Processed 33000 texts\n",
      "Processed 33500 texts\n",
      "Processed 34000 texts\n",
      "Processed 34500 texts\n",
      "Processed 35000 texts\n",
      "Processed 35500 texts\n",
      "Processed 36000 texts\n",
      "Processed 36500 texts\n",
      "Processed 37000 texts\n",
      "Processed 37500 texts\n",
      "Processed 38000 texts\n",
      "Processed 38500 texts\n",
      "Processed 39000 texts\n",
      "Processed 39500 texts\n",
      "Processed 40000 texts\n",
      "Processed 40500 texts\n",
      "Processed 41000 texts\n",
      "Processed 41500 texts\n",
      "Processed 42000 texts\n",
      "Processed 42500 texts\n",
      "Processed 43000 texts\n",
      "Processed 43500 texts\n",
      "Processed 44000 texts\n",
      "Processed 44500 texts\n",
      "Processed 45000 texts\n",
      "Processed 45500 texts\n",
      "Processed 46000 texts\n",
      "Processed 46500 texts\n",
      "Processed 47000 texts\n",
      "Processed 47500 texts\n",
      "Processed 48000 texts\n",
      "Processed 48500 texts\n",
      "Processed 49000 texts\n",
      "Processed 49500 texts\n",
      "Processed 50000 texts\n",
      "Processed 50500 texts\n",
      "Processed 51000 texts\n",
      "Processed 51500 texts\n",
      "Processed 52000 texts\n",
      "Processed 52500 texts\n",
      "Processed 53000 texts\n",
      "Processed 53500 texts\n",
      "Processed 54000 texts\n",
      "Processed 54500 texts\n",
      "Processed 55000 texts\n",
      "Processed 55500 texts\n",
      "Processed 56000 texts\n",
      "Processed 56500 texts\n",
      "Processed 57000 texts\n",
      "Processed 57500 texts\n",
      "Processed 58000 texts\n",
      "Processed 58500 texts\n",
      "Processed 59000 texts\n",
      "Processed 59500 texts\n",
      "Processed 60000 texts\n",
      "Processed 60500 texts\n",
      "Processed 61000 texts\n",
      "Processed 61500 texts\n",
      "Processed 62000 texts\n",
      "Processed 62500 texts\n",
      "Processed 63000 texts\n",
      "Processed 63500 texts\n",
      "Processed 64000 texts\n",
      "Processed 64500 texts\n",
      "Processed 65000 texts\n",
      "Processed 65500 texts\n",
      "Processed 66000 texts\n",
      "Processed 66500 texts\n",
      "Processed 67000 texts\n",
      "Processed 67500 texts\n",
      "Processed 68000 texts\n",
      "Processed 68500 texts\n",
      "Processed 69000 texts\n",
      "Processed 69500 texts\n",
      "Processed 70000 texts\n",
      "Processed 70500 texts\n",
      "Processed 71000 texts\n",
      "Processed 71500 texts\n",
      "Processed 72000 texts\n",
      "DONE\n",
      "****************************************\n"
     ]
    }
   ],
   "source": [
    "df.words_short = lemma_texts(df.words_short)"
   ]
  },
  {
   "cell_type": "code",
   "execution_count": 68,
   "metadata": {
    "scrolled": true
   },
   "outputs": [
    {
     "data": {
      "text/plain": [
       "['association',\n",
       " 'open',\n",
       " 'capacity',\n",
       " 'drive',\n",
       " 'plenty',\n",
       " 'data',\n",
       " 'foundation',\n",
       " 'helpful',\n",
       " 'dissect',\n",
       " 'accomplish',\n",
       " 'business',\n",
       " 'fill',\n",
       " 'confide',\n",
       " 'counselor',\n",
       " 'administration',\n",
       " 'ensure',\n",
       " 'correspondence',\n",
       " 'exhibit',\n",
       " 'estimation',\n",
       " 'investigation',\n",
       " 'phase',\n",
       " 'estimate',\n",
       " 'motivation',\n",
       " 'make',\n",
       " 'mumbai',\n",
       " 'individual',\n",
       " 'put',\n",
       " 'gathering',\n",
       " 'major',\n",
       " 'module',\n",
       " 'comprehend',\n",
       " 'pass',\n",
       " 'wannabe',\n",
       " 'complete',\n",
       " 'put',\n",
       " 'secure',\n",
       " 'work',\n",
       " 'arrive',\n",
       " 'position',\n",
       " 'understand',\n",
       " 'lay',\n",
       " 'arrangement',\n",
       " 'perceive',\n",
       " 'bit']"
      ]
     },
     "execution_count": 68,
     "metadata": {},
     "output_type": "execute_result"
    }
   ],
   "source": [
    "df.words_short.iloc[2]"
   ]
  },
  {
   "cell_type": "markdown",
   "metadata": {},
   "source": [
    "At this point, after trying to find regressive value from the text variable, and finding difficulty in that, we decide to go for the classification approach. Binning the claps into 3 bins, first having 0 claps, second having 1 to 100 claps, third having more than 100 claps (which only represents 20% of the data)."
   ]
  },
  {
   "cell_type": "code",
   "execution_count": 69,
   "metadata": {},
   "outputs": [],
   "source": [
    "def ClapLev(row):\n",
    "    if row.Claps >= 100:\n",
    "        return 'High'\n",
    "    elif row.Claps > 0:\n",
    "        return 'Low'\n",
    "    else : \n",
    "        return 'No'"
   ]
  },
  {
   "cell_type": "code",
   "execution_count": 70,
   "metadata": {},
   "outputs": [],
   "source": [
    "df['Clap_level'] = df.apply(ClapLev, axis=1)"
   ]
  },
  {
   "cell_type": "code",
   "execution_count": 71,
   "metadata": {},
   "outputs": [],
   "source": [
    "dummies = pd.get_dummies(df.Clap_level)\n",
    "df['High'], df['Low'], df['No'] = dummies.High, dummies.Low, dummies.No"
   ]
  },
  {
   "cell_type": "code",
   "execution_count": 72,
   "metadata": {
    "scrolled": true
   },
   "outputs": [
    {
     "data": {
      "text/html": [
       "<div>\n",
       "<style scoped>\n",
       "    .dataframe tbody tr th:only-of-type {\n",
       "        vertical-align: middle;\n",
       "    }\n",
       "\n",
       "    .dataframe tbody tr th {\n",
       "        vertical-align: top;\n",
       "    }\n",
       "\n",
       "    .dataframe thead th {\n",
       "        text-align: right;\n",
       "    }\n",
       "</style>\n",
       "<table border=\"1\" class=\"dataframe\">\n",
       "  <thead>\n",
       "    <tr style=\"text-align: right;\">\n",
       "      <th></th>\n",
       "      <th>Unnamed: 0</th>\n",
       "      <th>index</th>\n",
       "      <th>Author</th>\n",
       "      <th>Responses</th>\n",
       "      <th>Header</th>\n",
       "      <th>Text</th>\n",
       "      <th>Length</th>\n",
       "      <th>Claps</th>\n",
       "      <th>Language</th>\n",
       "      <th>Publication</th>\n",
       "      <th>...</th>\n",
       "      <th>sentiment_header</th>\n",
       "      <th>readibility_level</th>\n",
       "      <th>Rake</th>\n",
       "      <th>Keyword_no</th>\n",
       "      <th>words</th>\n",
       "      <th>words_short</th>\n",
       "      <th>Clap_level</th>\n",
       "      <th>High</th>\n",
       "      <th>Low</th>\n",
       "      <th>No</th>\n",
       "    </tr>\n",
       "  </thead>\n",
       "  <tbody>\n",
       "    <tr>\n",
       "      <th>0</th>\n",
       "      <td>NaN</td>\n",
       "      <td>NaN</td>\n",
       "      <td>Anar Babaev</td>\n",
       "      <td>0</td>\n",
       "      <td>Private Business, Government and Blockchain</td>\n",
       "      <td>A major private IT company implements blockcha...</td>\n",
       "      <td>1199</td>\n",
       "      <td>100</td>\n",
       "      <td>en</td>\n",
       "      <td>ICOBox</td>\n",
       "      <td>...</td>\n",
       "      <td>0.0000</td>\n",
       "      <td>12.4</td>\n",
       "      <td>[(internet, 1.0), (things, 1.0), (optimize, 1....</td>\n",
       "      <td>36</td>\n",
       "      <td>[internet, things, optimize, representatives, ...</td>\n",
       "      <td>[internet, thing, optimize, representative, co...</td>\n",
       "      <td>High</td>\n",
       "      <td>1</td>\n",
       "      <td>0</td>\n",
       "      <td>0</td>\n",
       "    </tr>\n",
       "    <tr>\n",
       "      <th>3</th>\n",
       "      <td>NaN</td>\n",
       "      <td>NaN</td>\n",
       "      <td>George Sykes</td>\n",
       "      <td>0</td>\n",
       "      <td>EPQ draft 1 (4844 words)</td>\n",
       "      <td>Introduction Automation is set to un employ p...</td>\n",
       "      <td>30047</td>\n",
       "      <td>0</td>\n",
       "      <td>en</td>\n",
       "      <td>NaN</td>\n",
       "      <td>...</td>\n",
       "      <td>0.0000</td>\n",
       "      <td>10.2</td>\n",
       "      <td>[(set, 1.0), (scale, 1.0), (rate, 1.0), (natur...</td>\n",
       "      <td>467</td>\n",
       "      <td>[set, scale, rate, nature, mitigate, impact, p...</td>\n",
       "      <td>[set, scale, rate, nature, mitigate, impact, p...</td>\n",
       "      <td>No</td>\n",
       "      <td>0</td>\n",
       "      <td>0</td>\n",
       "      <td>1</td>\n",
       "    </tr>\n",
       "    <tr>\n",
       "      <th>7</th>\n",
       "      <td>NaN</td>\n",
       "      <td>NaN</td>\n",
       "      <td>tech data</td>\n",
       "      <td>0</td>\n",
       "      <td>Ascent of data Science, SAS and Big data Analy...</td>\n",
       "      <td>Various associations in the present days are o...</td>\n",
       "      <td>3384</td>\n",
       "      <td>0</td>\n",
       "      <td>en</td>\n",
       "      <td>NaN</td>\n",
       "      <td>...</td>\n",
       "      <td>0.0000</td>\n",
       "      <td>15.8</td>\n",
       "      <td>[(associations, 1.0), (open, 1.0), (capacity, ...</td>\n",
       "      <td>64</td>\n",
       "      <td>[associations, open, capacity, driving, plenty...</td>\n",
       "      <td>[association, open, capacity, drive, plenty, d...</td>\n",
       "      <td>No</td>\n",
       "      <td>0</td>\n",
       "      <td>0</td>\n",
       "      <td>1</td>\n",
       "    </tr>\n",
       "    <tr>\n",
       "      <th>11</th>\n",
       "      <td>NaN</td>\n",
       "      <td>NaN</td>\n",
       "      <td>Stewart Alsop</td>\n",
       "      <td>0</td>\n",
       "      <td>Can a robot love us better than another human ...</td>\n",
       "      <td>I discussed this with Michelle Tsng on my Podc...</td>\n",
       "      <td>968</td>\n",
       "      <td>50</td>\n",
       "      <td>en</td>\n",
       "      <td>Crazy Wisdom</td>\n",
       "      <td>...</td>\n",
       "      <td>0.7964</td>\n",
       "      <td>7.3</td>\n",
       "      <td>[(discussed, 1.0), (robot, 1.0), (love, 1.0), ...</td>\n",
       "      <td>18</td>\n",
       "      <td>[discussed, robot, love, human, traumatized, j...</td>\n",
       "      <td>[discuss, robot, love, human, traumatize, judg...</td>\n",
       "      <td>Low</td>\n",
       "      <td>0</td>\n",
       "      <td>1</td>\n",
       "      <td>0</td>\n",
       "    </tr>\n",
       "    <tr>\n",
       "      <th>16</th>\n",
       "      <td>NaN</td>\n",
       "      <td>NaN</td>\n",
       "      <td>Melody Ucros</td>\n",
       "      <td>0</td>\n",
       "      <td>2017 Big Data, AI and IOT Use Cases</td>\n",
       "      <td>n Active List of Interesting Use Cases Mention...</td>\n",
       "      <td>10944</td>\n",
       "      <td>27</td>\n",
       "      <td>en</td>\n",
       "      <td>NaN</td>\n",
       "      <td>...</td>\n",
       "      <td>0.0000</td>\n",
       "      <td>14.8</td>\n",
       "      <td>[(interesting, 1.0), (cases, 1.0), (days, 1.0)...</td>\n",
       "      <td>213</td>\n",
       "      <td>[interesting, cases, days, start, post, compil...</td>\n",
       "      <td>[interest, case, day, start, post, compile, ex...</td>\n",
       "      <td>Low</td>\n",
       "      <td>0</td>\n",
       "      <td>1</td>\n",
       "      <td>0</td>\n",
       "    </tr>\n",
       "    <tr>\n",
       "      <th>...</th>\n",
       "      <td>...</td>\n",
       "      <td>...</td>\n",
       "      <td>...</td>\n",
       "      <td>...</td>\n",
       "      <td>...</td>\n",
       "      <td>...</td>\n",
       "      <td>...</td>\n",
       "      <td>...</td>\n",
       "      <td>...</td>\n",
       "      <td>...</td>\n",
       "      <td>...</td>\n",
       "      <td>...</td>\n",
       "      <td>...</td>\n",
       "      <td>...</td>\n",
       "      <td>...</td>\n",
       "      <td>...</td>\n",
       "      <td>...</td>\n",
       "      <td>...</td>\n",
       "      <td>...</td>\n",
       "      <td>...</td>\n",
       "      <td>...</td>\n",
       "    </tr>\n",
       "    <tr>\n",
       "      <th>279557</th>\n",
       "      <td>NaN</td>\n",
       "      <td>NaN</td>\n",
       "      <td>Matt.0</td>\n",
       "      <td>1</td>\n",
       "      <td>Analyzing extreme skiing and snowboarding in R...</td>\n",
       "      <td>he Freeride World Tour  FWT  has been hosting ...</td>\n",
       "      <td>5634</td>\n",
       "      <td>4</td>\n",
       "      <td>en</td>\n",
       "      <td>Towards Data Science</td>\n",
       "      <td>...</td>\n",
       "      <td>0.0000</td>\n",
       "      <td>10.0</td>\n",
       "      <td>[(wrapped, 1.0), (season, 1.0), (march, 1.0), ...</td>\n",
       "      <td>138</td>\n",
       "      <td>[wrapped, season, march, analysis, rankings, h...</td>\n",
       "      <td>[wrap, season, march, analysis, ranking, haven...</td>\n",
       "      <td>Low</td>\n",
       "      <td>0</td>\n",
       "      <td>1</td>\n",
       "      <td>0</td>\n",
       "    </tr>\n",
       "    <tr>\n",
       "      <th>279562</th>\n",
       "      <td>NaN</td>\n",
       "      <td>NaN</td>\n",
       "      <td>Edgar Talledos</td>\n",
       "      <td>2</td>\n",
       "      <td>Desarrollo de una aplicación de ChatBot con Re...</td>\n",
       "      <td>arte    Utilizando el SDK de DialogFlow en Rea...</td>\n",
       "      <td>3017</td>\n",
       "      <td>21</td>\n",
       "      <td>es</td>\n",
       "      <td>Aleph Zero Estudio Digital</td>\n",
       "      <td>...</td>\n",
       "      <td>0.0000</td>\n",
       "      <td>11.8</td>\n",
       "      <td>[(sdk, 1.0), (dialogflow, 1.0), (creado, 1.0),...</td>\n",
       "      <td>61</td>\n",
       "      <td>[sdk, dialogflow, creado, peque, reactnative, ...</td>\n",
       "      <td>[sdk, dialogflow, creado, peque, reactnative, ...</td>\n",
       "      <td>Low</td>\n",
       "      <td>0</td>\n",
       "      <td>1</td>\n",
       "      <td>0</td>\n",
       "    </tr>\n",
       "    <tr>\n",
       "      <th>279567</th>\n",
       "      <td>NaN</td>\n",
       "      <td>NaN</td>\n",
       "      <td>Syed Ahmed</td>\n",
       "      <td>0</td>\n",
       "      <td>How to Build a Smart Chatbot Assistant with Ch...</td>\n",
       "      <td>ubnub coupled with IBM Watson can enable devel...</td>\n",
       "      <td>9442</td>\n",
       "      <td>567</td>\n",
       "      <td>en</td>\n",
       "      <td>Hacker Noon</td>\n",
       "      <td>...</td>\n",
       "      <td>0.4019</td>\n",
       "      <td>8.2</td>\n",
       "      <td>[(streamline, 1.0), (frontlines, 1.0), (answer...</td>\n",
       "      <td>199</td>\n",
       "      <td>[streamline, frontlines, answers, chatbots, co...</td>\n",
       "      <td>[streamline, frontlines, answer, chatbots, com...</td>\n",
       "      <td>High</td>\n",
       "      <td>1</td>\n",
       "      <td>0</td>\n",
       "      <td>0</td>\n",
       "    </tr>\n",
       "    <tr>\n",
       "      <th>279570</th>\n",
       "      <td>NaN</td>\n",
       "      <td>NaN</td>\n",
       "      <td>Kan Nishida</td>\n",
       "      <td>0</td>\n",
       "      <td>ggrepel — When Things Get Too Crowded</td>\n",
       "      <td>ometimes it s useful to always show the label ...</td>\n",
       "      <td>1634</td>\n",
       "      <td>42</td>\n",
       "      <td>en</td>\n",
       "      <td>learn data science</td>\n",
       "      <td>...</td>\n",
       "      <td>0.0000</td>\n",
       "      <td>13.0</td>\n",
       "      <td>[(ometimes, 1.0), (show, 1.0), (showing, 1.0),...</td>\n",
       "      <td>34</td>\n",
       "      <td>[ometimes, show, showing, move, top, presentin...</td>\n",
       "      <td>[ometimes, show, show, move, top, present, cha...</td>\n",
       "      <td>Low</td>\n",
       "      <td>0</td>\n",
       "      <td>1</td>\n",
       "      <td>0</td>\n",
       "    </tr>\n",
       "    <tr>\n",
       "      <th>279572</th>\n",
       "      <td>NaN</td>\n",
       "      <td>NaN</td>\n",
       "      <td>Cities Of The Future</td>\n",
       "      <td>0</td>\n",
       "      <td>London Creates Ethics Panel to Evaluate Use of...</td>\n",
       "      <td>n independent panel that advises City Hall on ...</td>\n",
       "      <td>4720</td>\n",
       "      <td>0</td>\n",
       "      <td>en</td>\n",
       "      <td>Cities of the Future</td>\n",
       "      <td>...</td>\n",
       "      <td>0.2732</td>\n",
       "      <td>15.8</td>\n",
       "      <td>[(ethics, 1.0), (policing, 1.0), (capital, 1.0...</td>\n",
       "      <td>104</td>\n",
       "      <td>[ethics, policing, capital, examine, mayor, ch...</td>\n",
       "      <td>[ethic, police, capital, examine, mayor, chair...</td>\n",
       "      <td>No</td>\n",
       "      <td>0</td>\n",
       "      <td>0</td>\n",
       "      <td>1</td>\n",
       "    </tr>\n",
       "  </tbody>\n",
       "</table>\n",
       "<p>72288 rows × 21 columns</p>\n",
       "</div>"
      ],
      "text/plain": [
       "       Unnamed: 0 index                Author  Responses  \\\n",
       "0             NaN   NaN           Anar Babaev          0   \n",
       "3             NaN   NaN          George Sykes          0   \n",
       "7             NaN   NaN             tech data          0   \n",
       "11            NaN   NaN         Stewart Alsop          0   \n",
       "16            NaN   NaN          Melody Ucros          0   \n",
       "...           ...   ...                   ...        ...   \n",
       "279557        NaN   NaN                Matt.0          1   \n",
       "279562        NaN   NaN        Edgar Talledos          2   \n",
       "279567        NaN   NaN            Syed Ahmed          0   \n",
       "279570        NaN   NaN           Kan Nishida          0   \n",
       "279572        NaN   NaN  Cities Of The Future          0   \n",
       "\n",
       "                                                   Header  \\\n",
       "0             Private Business, Government and Blockchain   \n",
       "3                                EPQ draft 1 (4844 words)   \n",
       "7       Ascent of data Science, SAS and Big data Analy...   \n",
       "11      Can a robot love us better than another human ...   \n",
       "16                    2017 Big Data, AI and IOT Use Cases   \n",
       "...                                                   ...   \n",
       "279557  Analyzing extreme skiing and snowboarding in R...   \n",
       "279562  Desarrollo de una aplicación de ChatBot con Re...   \n",
       "279567  How to Build a Smart Chatbot Assistant with Ch...   \n",
       "279570              ggrepel — When Things Get Too Crowded   \n",
       "279572  London Creates Ethics Panel to Evaluate Use of...   \n",
       "\n",
       "                                                     Text  Length  Claps  \\\n",
       "0       A major private IT company implements blockcha...    1199    100   \n",
       "3        Introduction Automation is set to un employ p...   30047      0   \n",
       "7       Various associations in the present days are o...    3384      0   \n",
       "11      I discussed this with Michelle Tsng on my Podc...     968     50   \n",
       "16      n Active List of Interesting Use Cases Mention...   10944     27   \n",
       "...                                                   ...     ...    ...   \n",
       "279557  he Freeride World Tour  FWT  has been hosting ...    5634      4   \n",
       "279562  arte    Utilizando el SDK de DialogFlow en Rea...    3017     21   \n",
       "279567  ubnub coupled with IBM Watson can enable devel...    9442    567   \n",
       "279570  ometimes it s useful to always show the label ...    1634     42   \n",
       "279572  n independent panel that advises City Hall on ...    4720      0   \n",
       "\n",
       "       Language                 Publication  ... sentiment_header  \\\n",
       "0            en                      ICOBox  ...           0.0000   \n",
       "3            en                         NaN  ...           0.0000   \n",
       "7            en                         NaN  ...           0.0000   \n",
       "11           en                Crazy Wisdom  ...           0.7964   \n",
       "16           en                         NaN  ...           0.0000   \n",
       "...         ...                         ...  ...              ...   \n",
       "279557       en        Towards Data Science  ...           0.0000   \n",
       "279562       es  Aleph Zero Estudio Digital  ...           0.0000   \n",
       "279567       en                 Hacker Noon  ...           0.4019   \n",
       "279570       en          learn data science  ...           0.0000   \n",
       "279572       en        Cities of the Future  ...           0.2732   \n",
       "\n",
       "        readibility_level                                               Rake  \\\n",
       "0                    12.4  [(internet, 1.0), (things, 1.0), (optimize, 1....   \n",
       "3                    10.2  [(set, 1.0), (scale, 1.0), (rate, 1.0), (natur...   \n",
       "7                    15.8  [(associations, 1.0), (open, 1.0), (capacity, ...   \n",
       "11                    7.3  [(discussed, 1.0), (robot, 1.0), (love, 1.0), ...   \n",
       "16                   14.8  [(interesting, 1.0), (cases, 1.0), (days, 1.0)...   \n",
       "...                   ...                                                ...   \n",
       "279557               10.0  [(wrapped, 1.0), (season, 1.0), (march, 1.0), ...   \n",
       "279562               11.8  [(sdk, 1.0), (dialogflow, 1.0), (creado, 1.0),...   \n",
       "279567                8.2  [(streamline, 1.0), (frontlines, 1.0), (answer...   \n",
       "279570               13.0  [(ometimes, 1.0), (show, 1.0), (showing, 1.0),...   \n",
       "279572               15.8  [(ethics, 1.0), (policing, 1.0), (capital, 1.0...   \n",
       "\n",
       "       Keyword_no                                              words  \\\n",
       "0              36  [internet, things, optimize, representatives, ...   \n",
       "3             467  [set, scale, rate, nature, mitigate, impact, p...   \n",
       "7              64  [associations, open, capacity, driving, plenty...   \n",
       "11             18  [discussed, robot, love, human, traumatized, j...   \n",
       "16            213  [interesting, cases, days, start, post, compil...   \n",
       "...           ...                                                ...   \n",
       "279557        138  [wrapped, season, march, analysis, rankings, h...   \n",
       "279562         61  [sdk, dialogflow, creado, peque, reactnative, ...   \n",
       "279567        199  [streamline, frontlines, answers, chatbots, co...   \n",
       "279570         34  [ometimes, show, showing, move, top, presentin...   \n",
       "279572        104  [ethics, policing, capital, examine, mayor, ch...   \n",
       "\n",
       "                                              words_short Clap_level High  \\\n",
       "0       [internet, thing, optimize, representative, co...       High    1   \n",
       "3       [set, scale, rate, nature, mitigate, impact, p...         No    0   \n",
       "7       [association, open, capacity, drive, plenty, d...         No    0   \n",
       "11      [discuss, robot, love, human, traumatize, judg...        Low    0   \n",
       "16      [interest, case, day, start, post, compile, ex...        Low    0   \n",
       "...                                                   ...        ...  ...   \n",
       "279557  [wrap, season, march, analysis, ranking, haven...        Low    0   \n",
       "279562  [sdk, dialogflow, creado, peque, reactnative, ...        Low    0   \n",
       "279567  [streamline, frontlines, answer, chatbots, com...       High    1   \n",
       "279570  [ometimes, show, show, move, top, present, cha...        Low    0   \n",
       "279572  [ethic, police, capital, examine, mayor, chair...         No    0   \n",
       "\n",
       "        Low  No  \n",
       "0         0   0  \n",
       "3         0   1  \n",
       "7         0   1  \n",
       "11        1   0  \n",
       "16        1   0  \n",
       "...     ...  ..  \n",
       "279557    1   0  \n",
       "279562    1   0  \n",
       "279567    0   0  \n",
       "279570    1   0  \n",
       "279572    0   1  \n",
       "\n",
       "[72288 rows x 21 columns]"
      ]
     },
     "execution_count": 72,
     "metadata": {},
     "output_type": "execute_result"
    }
   ],
   "source": [
    "df"
   ]
  },
  {
   "cell_type": "markdown",
   "metadata": {},
   "source": [
    "Dropping some outliers before we start modeling."
   ]
  },
  {
   "cell_type": "code",
   "execution_count": 73,
   "metadata": {},
   "outputs": [],
   "source": [
    "df = df.drop(df[df.Language != 'en'].index)"
   ]
  },
  {
   "cell_type": "code",
   "execution_count": 74,
   "metadata": {},
   "outputs": [],
   "source": [
    "df = df.drop(df[df.Claps > 60000].index)\n",
    "df = df.drop(df[df.Responses > 400].index)"
   ]
  },
  {
   "cell_type": "markdown",
   "metadata": {},
   "source": [
    "### 3. Model Pipeline"
   ]
  },
  {
   "cell_type": "markdown",
   "metadata": {},
   "source": [
    "Our planned model is as follows:\n",
    "    - Classify the observations into one of the three categories of clap scores.\n",
    "    - Run respective regression models on the observations available in each bin.\n",
    "Since our pipeline has one model depending on another's predictions, we split our data into 3 sets, ```train```, ```testA```, and ```testB```. Using train to fit our classifying and regressing models, testA to validate those results with respect to true values, and testB to validate the results of having both predictions on one test set.  \n",
    "    "
   ]
  },
  {
   "cell_type": "code",
   "execution_count": 75,
   "metadata": {},
   "outputs": [],
   "source": [
    "X_train, X_test, y_train, y_test = train_test_split(df['words_short'], df[['High', 'Low', 'No']], test_size=0.3, random_state=1)"
   ]
  },
  {
   "cell_type": "code",
   "execution_count": 76,
   "metadata": {},
   "outputs": [],
   "source": [
    "X_testa, X_testb, y_testa, y_testb = train_test_split(X_test, y_test, test_size=0.5, random_state=1)"
   ]
  },
  {
   "cell_type": "code",
   "execution_count": 77,
   "metadata": {
    "scrolled": true
   },
   "outputs": [
    {
     "data": {
      "text/html": [
       "<div>\n",
       "<style scoped>\n",
       "    .dataframe tbody tr th:only-of-type {\n",
       "        vertical-align: middle;\n",
       "    }\n",
       "\n",
       "    .dataframe tbody tr th {\n",
       "        vertical-align: top;\n",
       "    }\n",
       "\n",
       "    .dataframe thead th {\n",
       "        text-align: right;\n",
       "    }\n",
       "</style>\n",
       "<table border=\"1\" class=\"dataframe\">\n",
       "  <thead>\n",
       "    <tr style=\"text-align: right;\">\n",
       "      <th></th>\n",
       "      <th>High</th>\n",
       "      <th>Low</th>\n",
       "      <th>No</th>\n",
       "    </tr>\n",
       "  </thead>\n",
       "  <tbody>\n",
       "    <tr>\n",
       "      <th>69034</th>\n",
       "      <td>0</td>\n",
       "      <td>1</td>\n",
       "      <td>0</td>\n",
       "    </tr>\n",
       "    <tr>\n",
       "      <th>58584</th>\n",
       "      <td>0</td>\n",
       "      <td>1</td>\n",
       "      <td>0</td>\n",
       "    </tr>\n",
       "    <tr>\n",
       "      <th>97938</th>\n",
       "      <td>0</td>\n",
       "      <td>1</td>\n",
       "      <td>0</td>\n",
       "    </tr>\n",
       "    <tr>\n",
       "      <th>185249</th>\n",
       "      <td>0</td>\n",
       "      <td>1</td>\n",
       "      <td>0</td>\n",
       "    </tr>\n",
       "    <tr>\n",
       "      <th>141776</th>\n",
       "      <td>0</td>\n",
       "      <td>0</td>\n",
       "      <td>1</td>\n",
       "    </tr>\n",
       "    <tr>\n",
       "      <th>...</th>\n",
       "      <td>...</td>\n",
       "      <td>...</td>\n",
       "      <td>...</td>\n",
       "    </tr>\n",
       "    <tr>\n",
       "      <th>203808</th>\n",
       "      <td>0</td>\n",
       "      <td>1</td>\n",
       "      <td>0</td>\n",
       "    </tr>\n",
       "    <tr>\n",
       "      <th>85471</th>\n",
       "      <td>0</td>\n",
       "      <td>0</td>\n",
       "      <td>1</td>\n",
       "    </tr>\n",
       "    <tr>\n",
       "      <th>88919</th>\n",
       "      <td>0</td>\n",
       "      <td>0</td>\n",
       "      <td>1</td>\n",
       "    </tr>\n",
       "    <tr>\n",
       "      <th>207716</th>\n",
       "      <td>0</td>\n",
       "      <td>1</td>\n",
       "      <td>0</td>\n",
       "    </tr>\n",
       "    <tr>\n",
       "      <th>21720</th>\n",
       "      <td>0</td>\n",
       "      <td>1</td>\n",
       "      <td>0</td>\n",
       "    </tr>\n",
       "  </tbody>\n",
       "</table>\n",
       "<p>46428 rows × 3 columns</p>\n",
       "</div>"
      ],
      "text/plain": [
       "        High  Low  No\n",
       "69034      0    1   0\n",
       "58584      0    1   0\n",
       "97938      0    1   0\n",
       "185249     0    1   0\n",
       "141776     0    0   1\n",
       "...      ...  ...  ..\n",
       "203808     0    1   0\n",
       "85471      0    0   1\n",
       "88919      0    0   1\n",
       "207716     0    1   0\n",
       "21720      0    1   0\n",
       "\n",
       "[46428 rows x 3 columns]"
      ]
     },
     "execution_count": 77,
     "metadata": {},
     "output_type": "execute_result"
    }
   ],
   "source": [
    "y_train"
   ]
  },
  {
   "cell_type": "markdown",
   "metadata": {},
   "source": [
    "Firstly, we make an Neural network using Keras, with the keywords provided by RAKE as input to classify our data into the three bins."
   ]
  },
  {
   "cell_type": "markdown",
   "metadata": {},
   "source": [
    "We will use the pretrained GloVe weights provided by the twitter set in the 50th dimension. We act on processing our keywords with that in mind."
   ]
  },
  {
   "cell_type": "code",
   "execution_count": 78,
   "metadata": {},
   "outputs": [],
   "source": [
    "def get_embedding_matrix(tokenizer, pretrain, vocab_size):\n",
    "    '''\n",
    "        Helper function to construct an embedding matrix for \n",
    "        the focal corpus based on some pre-trained embeddings.\n",
    "    '''\n",
    "    \n",
    "    dim = 50\n",
    "#     if isinstance(pretrain, KeyedVectors) or isinstance(pretrain, Word2VecKeyedVectors):\n",
    "#         dim = pretrain.vector_size        \n",
    "#     elif isinstance(pretrain, dict):\n",
    "#         dim = next(iter(pretrain.values())).shape[0]  # get embedding of an arbitrary word\n",
    "#     else:\n",
    "#         raise Exception('{} is not supported'.format(type(pretrain)))\n",
    "    \n",
    "    \n",
    "    # Initialize embedding matrix\n",
    "    emb_mat = np.zeros((vocab_size, dim))\n",
    "\n",
    "    # There will be some words in our corpus for which we lack a pre-trained embedding.\n",
    "    # In this tutorial, we will simply use a vector of zeros for such words. We also keep\n",
    "    # track of the words to do some debugging if needed\n",
    "    oov_words = []\n",
    "    # Below we use the tokenizer object that created our task vocabulary. This is crucial to ensure\n",
    "    # that the position of a words in our embedding matrix corresponds to its index in our integer\n",
    "    # encoded input data\n",
    "    for word, i in tokenizer.word_index.items():  \n",
    "        # try-catch together with a zero-initilaized embedding matrix achieves our rough fix for oov words\n",
    "        try:\n",
    "            emb_mat[i] = pretrain[word]\n",
    "        except:\n",
    "            oov_words.append(word)\n",
    "    print('Created embedding matrix of shape {}'.format(emb_mat.shape))\n",
    "    print('Encountered {} out-of-vocabulary words.'.format(len(oov_words)))\n",
    "    return (emb_mat, oov_words)"
   ]
  },
  {
   "cell_type": "code",
   "execution_count": 79,
   "metadata": {},
   "outputs": [],
   "source": [
    "tokenizer_obj = Tokenizer(len(vocablist1), oov_token=1)"
   ]
  },
  {
   "cell_type": "code",
   "execution_count": 80,
   "metadata": {},
   "outputs": [],
   "source": [
    "tokenizer_obj.fit_on_texts(X_train) "
   ]
  },
  {
   "cell_type": "code",
   "execution_count": 81,
   "metadata": {},
   "outputs": [],
   "source": [
    "df_tr_int = tokenizer_obj.texts_to_sequences(X_train)"
   ]
  },
  {
   "cell_type": "code",
   "execution_count": 82,
   "metadata": {},
   "outputs": [],
   "source": [
    "MAX_ARTICLE_LENGTH = 44\n",
    "\n",
    "df_tr_int_pad = pad_sequences(df_tr_int, MAX_ARTICLE_LENGTH)"
   ]
  },
  {
   "cell_type": "code",
   "execution_count": 83,
   "metadata": {},
   "outputs": [],
   "source": [
    "df_ts_inta = tokenizer_obj.texts_to_sequences(X_testa)"
   ]
  },
  {
   "cell_type": "code",
   "execution_count": 84,
   "metadata": {},
   "outputs": [],
   "source": [
    "df_ts_int_pada = pad_sequences(df_ts_inta, MAX_ARTICLE_LENGTH)"
   ]
  },
  {
   "cell_type": "code",
   "execution_count": 85,
   "metadata": {},
   "outputs": [],
   "source": [
    "df_ts_intb = tokenizer_obj.texts_to_sequences(X_testb)"
   ]
  },
  {
   "cell_type": "code",
   "execution_count": 86,
   "metadata": {},
   "outputs": [],
   "source": [
    "df_ts_int_padb = pad_sequences(df_ts_intb, MAX_ARTICLE_LENGTH)"
   ]
  },
  {
   "cell_type": "code",
   "execution_count": 87,
   "metadata": {},
   "outputs": [
    {
     "name": "stdout",
     "output_type": "stream",
     "text": [
      "Found 1193514 word vectors.\n"
     ]
    }
   ],
   "source": [
    "glove_index = {}\n",
    "with open('glove.twitter.27B.50d.txt', 'r', encoding=\"utf8\") as f:\n",
    "    for line in f:\n",
    "        values = line.split()\n",
    "        word = values[0]\n",
    "        coefs = np.asarray(values[1:], dtype='float32')\n",
    "        glove_index[word] = coefs\n",
    "\n",
    "print('Found %s word vectors.' % len(glove_index))"
   ]
  },
  {
   "cell_type": "code",
   "execution_count": 88,
   "metadata": {},
   "outputs": [
    {
     "name": "stdout",
     "output_type": "stream",
     "text": [
      "Created embedding matrix of shape (94281, 50)\n",
      "Encountered 16004 out-of-vocabulary words.\n"
     ]
    }
   ],
   "source": [
    "glove_weights, _ = get_embedding_matrix(tokenizer_obj, glove_index, len(vocablist1))"
   ]
  },
  {
   "cell_type": "code",
   "execution_count": 89,
   "metadata": {
    "scrolled": true
   },
   "outputs": [
    {
     "data": {
      "text/plain": [
       "94281"
      ]
     },
     "execution_count": 89,
     "metadata": {},
     "output_type": "execute_result"
    }
   ],
   "source": [
    "len(vocablist1)"
   ]
  },
  {
   "cell_type": "markdown",
   "metadata": {},
   "source": [
    "We then here create and fit our classifying NN, and use that to predict the values of both ```testA``` and ```testB``` sets."
   ]
  },
  {
   "cell_type": "code",
   "execution_count": 90,
   "metadata": {},
   "outputs": [
    {
     "name": "stdout",
     "output_type": "stream",
     "text": [
      "Model: \"sequential\"\n",
      "_________________________________________________________________\n",
      "Layer (type)                 Output Shape              Param #   \n",
      "=================================================================\n",
      "embedding (Embedding)        (None, 44, 50)            4714050   \n",
      "_________________________________________________________________\n",
      "gru (GRU)                    (None, 64)                22272     \n",
      "_________________________________________________________________\n",
      "dense (Dense)                (None, 64)                4160      \n",
      "_________________________________________________________________\n",
      "dense_1 (Dense)              (None, 3)                 195       \n",
      "=================================================================\n",
      "Total params: 4,740,677\n",
      "Trainable params: 4,740,677\n",
      "Non-trainable params: 0\n",
      "_________________________________________________________________\n"
     ]
    }
   ],
   "source": [
    "embedding_layer=Embedding(input_dim=len(vocablist1), \n",
    "                          output_dim=50, \n",
    "                          input_length=44,\n",
    "                          embeddings_initializer=Constant(glove_weights), #weights to start with, and not touch during training\n",
    "                          trainable=True  # do not update the weights of the embedding matrix\n",
    "                         )\n",
    "model3=Sequential()                        \n",
    "model3.add(embedding_layer)\n",
    "model3.add(GRU(64, activation='relu'))\n",
    "model3.add(Dense(64, activation='sigmoid'))\n",
    "model3.add(Dense(3, activation='softmax'))\n",
    "model3.compile(loss='categorical_crossentropy', optimizer=\"adam\", metrics=['AUC'])\n",
    "model3.summary()"
   ]
  },
  {
   "cell_type": "code",
   "execution_count": 91,
   "metadata": {},
   "outputs": [
    {
     "name": "stdout",
     "output_type": "stream",
     "text": [
      "Epoch 1/10\n",
      "508/508 [==============================] - 46s 90ms/step - loss: 1.0128 - auc: 0.6736 - val_loss: 0.9934 - val_auc: 0.6929\n",
      "Epoch 2/10\n",
      "508/508 [==============================] - 46s 90ms/step - loss: 0.9663 - auc: 0.7127 - val_loss: 0.9837 - val_auc: 0.6982\n",
      "Epoch 3/10\n",
      "508/508 [==============================] - 45s 88ms/step - loss: 0.8959 - auc: 0.7622 - val_loss: 1.0090 - val_auc: 0.6915\n",
      "Epoch 4/10\n",
      "508/508 [==============================] - 45s 88ms/step - loss: 0.7457 - auc: 0.8440 - val_loss: 1.1025 - val_auc: 0.6742\n",
      "Epoch 5/10\n",
      "508/508 [==============================] - 45s 89ms/step - loss: 0.5847 - auc: 0.9068 - val_loss: 1.2940 - val_auc: 0.6587\n",
      "Epoch 6/10\n",
      "508/508 [==============================] - 45s 88ms/step - loss: 0.4445 - auc: 0.9467 - val_loss: 1.5005 - val_auc: 0.6563\n",
      "Epoch 7/10\n",
      "508/508 [==============================] - 46s 90ms/step - loss: 0.3368 - auc: 0.9693 - val_loss: 1.7673 - val_auc: 0.6350\n",
      "Epoch 8/10\n",
      "508/508 [==============================] - 47s 93ms/step - loss: 0.2572 - auc: 0.9819 - val_loss: 1.9601 - val_auc: 0.6382\n",
      "Epoch 9/10\n",
      "508/508 [==============================] - 47s 92ms/step - loss: 0.1921 - auc: 0.9897 - val_loss: 2.3416 - val_auc: 0.6286\n",
      "Epoch 10/10\n",
      "508/508 [==============================] - 49s 96ms/step - loss: 0.1467 - auc: 0.9936 - val_loss: 2.5918 - val_auc: 0.6109\n"
     ]
    }
   ],
   "source": [
    "model3_story = model3.fit(df_tr_int_pad, y_train, batch_size=64, epochs=10, validation_split=0.3)"
   ]
  },
  {
   "cell_type": "code",
   "execution_count": 92,
   "metadata": {},
   "outputs": [
    {
     "data": {
      "image/png": "[encoded data removed]",
      "text/plain": [
       "<Figure size 432x288 with 1 Axes>"
      ]
     },
     "metadata": {
      "needs_background": "light"
     },
     "output_type": "display_data"
    }
   ],
   "source": [
    "import matplotlib.pyplot as plt\n",
    "\n",
    "# plt.title(\"loss\")\n",
    "# plt.plot(model2_story.history['loss'], label='train')\n",
    "# plt.plot(model2_story.history['val_loss'], label='test')\n",
    "# plt.legend()\n",
    "# plt.show()\n",
    "\n",
    "plt.plot(model3_story.history['loss'], label='Loss')\n",
    "plt.plot(model3_story.history['val_loss'], label='Validation Data Loss')\n",
    "plt.title('NN for classification using keywords')\n",
    "plt.ylabel('Loss value')\n",
    "plt.xlabel('No. epoch')\n",
    "plt.legend(loc=\"upper left\")\n",
    "plt.show()"
   ]
  },
  {
   "cell_type": "code",
   "execution_count": 93,
   "metadata": {},
   "outputs": [],
   "source": [
    "preds2a = model3.predict(df_ts_int_pada)"
   ]
  },
  {
   "cell_type": "code",
   "execution_count": 94,
   "metadata": {},
   "outputs": [],
   "source": [
    "preds2b = model3.predict(df_ts_int_padb)"
   ]
  },
  {
   "cell_type": "code",
   "execution_count": 95,
   "metadata": {
    "scrolled": true
   },
   "outputs": [
    {
     "data": {
      "text/plain": [
       "array([[4.6547948e-04, 9.9825042e-01, 1.2839853e-03],\n",
       "       [5.6162629e-02, 6.4831620e-01, 2.9552117e-01],\n",
       "       [6.7549869e-02, 9.2013788e-01, 1.2312312e-02],\n",
       "       ...,\n",
       "       [7.5406140e-01, 2.2486545e-01, 2.1073179e-02],\n",
       "       [1.5345101e-03, 6.7275745e-01, 3.2570800e-01],\n",
       "       [5.0752733e-05, 2.7251572e-04, 9.9967670e-01]], dtype=float32)"
      ]
     },
     "execution_count": 95,
     "metadata": {},
     "output_type": "execute_result"
    }
   ],
   "source": [
    "preds2a"
   ]
  },
  {
   "cell_type": "code",
   "execution_count": 96,
   "metadata": {},
   "outputs": [],
   "source": [
    "from sklearn.metrics import roc_auc_score"
   ]
  },
  {
   "cell_type": "code",
   "execution_count": 97,
   "metadata": {},
   "outputs": [
    {
     "data": {
      "text/plain": [
       "0.576608538721105"
      ]
     },
     "execution_count": 97,
     "metadata": {},
     "output_type": "execute_result"
    }
   ],
   "source": [
    "roc_auc_score(y_testa, preds2a)"
   ]
  },
  {
   "cell_type": "code",
   "execution_count": 98,
   "metadata": {},
   "outputs": [],
   "source": [
    "preds2a_df = pd.DataFrame(columns=['High', 'Low', 'No'], data=preds2a)"
   ]
  },
  {
   "cell_type": "code",
   "execution_count": 99,
   "metadata": {
    "scrolled": true
   },
   "outputs": [
    {
     "data": {
      "text/html": [
       "<div>\n",
       "<style scoped>\n",
       "    .dataframe tbody tr th:only-of-type {\n",
       "        vertical-align: middle;\n",
       "    }\n",
       "\n",
       "    .dataframe tbody tr th {\n",
       "        vertical-align: top;\n",
       "    }\n",
       "\n",
       "    .dataframe thead th {\n",
       "        text-align: right;\n",
       "    }\n",
       "</style>\n",
       "<table border=\"1\" class=\"dataframe\">\n",
       "  <thead>\n",
       "    <tr style=\"text-align: right;\">\n",
       "      <th></th>\n",
       "      <th>High</th>\n",
       "      <th>Low</th>\n",
       "      <th>No</th>\n",
       "    </tr>\n",
       "  </thead>\n",
       "  <tbody>\n",
       "    <tr>\n",
       "      <th>0</th>\n",
       "      <td>0</td>\n",
       "      <td>1</td>\n",
       "      <td>0</td>\n",
       "    </tr>\n",
       "    <tr>\n",
       "      <th>1</th>\n",
       "      <td>0</td>\n",
       "      <td>1</td>\n",
       "      <td>0</td>\n",
       "    </tr>\n",
       "    <tr>\n",
       "      <th>2</th>\n",
       "      <td>0</td>\n",
       "      <td>1</td>\n",
       "      <td>0</td>\n",
       "    </tr>\n",
       "    <tr>\n",
       "      <th>3</th>\n",
       "      <td>1</td>\n",
       "      <td>0</td>\n",
       "      <td>0</td>\n",
       "    </tr>\n",
       "    <tr>\n",
       "      <th>4</th>\n",
       "      <td>0</td>\n",
       "      <td>1</td>\n",
       "      <td>0</td>\n",
       "    </tr>\n",
       "    <tr>\n",
       "      <th>...</th>\n",
       "      <td>...</td>\n",
       "      <td>...</td>\n",
       "      <td>...</td>\n",
       "    </tr>\n",
       "    <tr>\n",
       "      <th>9944</th>\n",
       "      <td>0</td>\n",
       "      <td>1</td>\n",
       "      <td>0</td>\n",
       "    </tr>\n",
       "    <tr>\n",
       "      <th>9945</th>\n",
       "      <td>1</td>\n",
       "      <td>0</td>\n",
       "      <td>0</td>\n",
       "    </tr>\n",
       "    <tr>\n",
       "      <th>9946</th>\n",
       "      <td>1</td>\n",
       "      <td>0</td>\n",
       "      <td>0</td>\n",
       "    </tr>\n",
       "    <tr>\n",
       "      <th>9947</th>\n",
       "      <td>0</td>\n",
       "      <td>1</td>\n",
       "      <td>0</td>\n",
       "    </tr>\n",
       "    <tr>\n",
       "      <th>9948</th>\n",
       "      <td>0</td>\n",
       "      <td>0</td>\n",
       "      <td>1</td>\n",
       "    </tr>\n",
       "  </tbody>\n",
       "</table>\n",
       "<p>9949 rows × 3 columns</p>\n",
       "</div>"
      ],
      "text/plain": [
       "      High  Low  No\n",
       "0        0    1   0\n",
       "1        0    1   0\n",
       "2        0    1   0\n",
       "3        1    0   0\n",
       "4        0    1   0\n",
       "...    ...  ...  ..\n",
       "9944     0    1   0\n",
       "9945     1    0   0\n",
       "9946     1    0   0\n",
       "9947     0    1   0\n",
       "9948     0    0   1\n",
       "\n",
       "[9949 rows x 3 columns]"
      ]
     },
     "execution_count": 99,
     "metadata": {},
     "output_type": "execute_result"
    }
   ],
   "source": [
    "preds2a_df.High = preds2a_df.High.apply(round)\n",
    "preds2a_df.Low = preds2a_df.Low.apply(round)\n",
    "preds2a_df.No = preds2a_df.No.apply(round)\n",
    "preds2a_df"
   ]
  },
  {
   "cell_type": "code",
   "execution_count": 100,
   "metadata": {
    "scrolled": true
   },
   "outputs": [
    {
     "data": {
      "text/html": [
       "<div>\n",
       "<style scoped>\n",
       "    .dataframe tbody tr th:only-of-type {\n",
       "        vertical-align: middle;\n",
       "    }\n",
       "\n",
       "    .dataframe tbody tr th {\n",
       "        vertical-align: top;\n",
       "    }\n",
       "\n",
       "    .dataframe thead th {\n",
       "        text-align: right;\n",
       "    }\n",
       "</style>\n",
       "<table border=\"1\" class=\"dataframe\">\n",
       "  <thead>\n",
       "    <tr style=\"text-align: right;\">\n",
       "      <th></th>\n",
       "      <th>High</th>\n",
       "      <th>Low</th>\n",
       "      <th>No</th>\n",
       "    </tr>\n",
       "  </thead>\n",
       "  <tbody>\n",
       "    <tr>\n",
       "      <th>84446</th>\n",
       "      <td>0</td>\n",
       "      <td>0</td>\n",
       "      <td>1</td>\n",
       "    </tr>\n",
       "    <tr>\n",
       "      <th>116967</th>\n",
       "      <td>0</td>\n",
       "      <td>0</td>\n",
       "      <td>1</td>\n",
       "    </tr>\n",
       "    <tr>\n",
       "      <th>275105</th>\n",
       "      <td>0</td>\n",
       "      <td>0</td>\n",
       "      <td>1</td>\n",
       "    </tr>\n",
       "    <tr>\n",
       "      <th>138884</th>\n",
       "      <td>0</td>\n",
       "      <td>0</td>\n",
       "      <td>1</td>\n",
       "    </tr>\n",
       "    <tr>\n",
       "      <th>253279</th>\n",
       "      <td>1</td>\n",
       "      <td>0</td>\n",
       "      <td>0</td>\n",
       "    </tr>\n",
       "    <tr>\n",
       "      <th>...</th>\n",
       "      <td>...</td>\n",
       "      <td>...</td>\n",
       "      <td>...</td>\n",
       "    </tr>\n",
       "    <tr>\n",
       "      <th>254168</th>\n",
       "      <td>1</td>\n",
       "      <td>0</td>\n",
       "      <td>0</td>\n",
       "    </tr>\n",
       "    <tr>\n",
       "      <th>42579</th>\n",
       "      <td>1</td>\n",
       "      <td>0</td>\n",
       "      <td>0</td>\n",
       "    </tr>\n",
       "    <tr>\n",
       "      <th>239717</th>\n",
       "      <td>1</td>\n",
       "      <td>0</td>\n",
       "      <td>0</td>\n",
       "    </tr>\n",
       "    <tr>\n",
       "      <th>169026</th>\n",
       "      <td>0</td>\n",
       "      <td>0</td>\n",
       "      <td>1</td>\n",
       "    </tr>\n",
       "    <tr>\n",
       "      <th>25915</th>\n",
       "      <td>1</td>\n",
       "      <td>0</td>\n",
       "      <td>0</td>\n",
       "    </tr>\n",
       "  </tbody>\n",
       "</table>\n",
       "<p>9949 rows × 3 columns</p>\n",
       "</div>"
      ],
      "text/plain": [
       "        High  Low  No\n",
       "84446      0    0   1\n",
       "116967     0    0   1\n",
       "275105     0    0   1\n",
       "138884     0    0   1\n",
       "253279     1    0   0\n",
       "...      ...  ...  ..\n",
       "254168     1    0   0\n",
       "42579      1    0   0\n",
       "239717     1    0   0\n",
       "169026     0    0   1\n",
       "25915      1    0   0\n",
       "\n",
       "[9949 rows x 3 columns]"
      ]
     },
     "execution_count": 100,
     "metadata": {},
     "output_type": "execute_result"
    }
   ],
   "source": [
    "y_testa"
   ]
  },
  {
   "cell_type": "markdown",
   "metadata": {},
   "source": [
    "After realizing that our text variable by itself isn't enough to classify, we conntinue feature engineering to prepare our data for more models."
   ]
  },
  {
   "cell_type": "markdown",
   "metadata": {},
   "source": [
    "```HeaderHasDigits``` is our attempt to try and catch articles that sound \"clickbaity\"."
   ]
  },
  {
   "cell_type": "code",
   "execution_count": 101,
   "metadata": {
    "scrolled": true
   },
   "outputs": [
    {
     "data": {
      "text/html": [
       "<div>\n",
       "<style scoped>\n",
       "    .dataframe tbody tr th:only-of-type {\n",
       "        vertical-align: middle;\n",
       "    }\n",
       "\n",
       "    .dataframe tbody tr th {\n",
       "        vertical-align: top;\n",
       "    }\n",
       "\n",
       "    .dataframe thead th {\n",
       "        text-align: right;\n",
       "    }\n",
       "</style>\n",
       "<table border=\"1\" class=\"dataframe\">\n",
       "  <thead>\n",
       "    <tr style=\"text-align: right;\">\n",
       "      <th></th>\n",
       "      <th>Unnamed: 0</th>\n",
       "      <th>index</th>\n",
       "      <th>Author</th>\n",
       "      <th>Responses</th>\n",
       "      <th>Header</th>\n",
       "      <th>Text</th>\n",
       "      <th>Length</th>\n",
       "      <th>Claps</th>\n",
       "      <th>Language</th>\n",
       "      <th>Publication</th>\n",
       "      <th>...</th>\n",
       "      <th>sentiment_header</th>\n",
       "      <th>readibility_level</th>\n",
       "      <th>Rake</th>\n",
       "      <th>Keyword_no</th>\n",
       "      <th>words</th>\n",
       "      <th>words_short</th>\n",
       "      <th>Clap_level</th>\n",
       "      <th>High</th>\n",
       "      <th>Low</th>\n",
       "      <th>No</th>\n",
       "    </tr>\n",
       "  </thead>\n",
       "  <tbody>\n",
       "    <tr>\n",
       "      <th>0</th>\n",
       "      <td>NaN</td>\n",
       "      <td>NaN</td>\n",
       "      <td>Anar Babaev</td>\n",
       "      <td>0</td>\n",
       "      <td>Private Business, Government and Blockchain</td>\n",
       "      <td>A major private IT company implements blockcha...</td>\n",
       "      <td>1199</td>\n",
       "      <td>100</td>\n",
       "      <td>en</td>\n",
       "      <td>ICOBox</td>\n",
       "      <td>...</td>\n",
       "      <td>0.0000</td>\n",
       "      <td>12.4</td>\n",
       "      <td>[(internet, 1.0), (things, 1.0), (optimize, 1....</td>\n",
       "      <td>36</td>\n",
       "      <td>[internet, things, optimize, representatives, ...</td>\n",
       "      <td>[internet, thing, optimize, representative, co...</td>\n",
       "      <td>High</td>\n",
       "      <td>1</td>\n",
       "      <td>0</td>\n",
       "      <td>0</td>\n",
       "    </tr>\n",
       "    <tr>\n",
       "      <th>3</th>\n",
       "      <td>NaN</td>\n",
       "      <td>NaN</td>\n",
       "      <td>George Sykes</td>\n",
       "      <td>0</td>\n",
       "      <td>EPQ draft 1 (4844 words)</td>\n",
       "      <td>Introduction Automation is set to un employ p...</td>\n",
       "      <td>30047</td>\n",
       "      <td>0</td>\n",
       "      <td>en</td>\n",
       "      <td>NaN</td>\n",
       "      <td>...</td>\n",
       "      <td>0.0000</td>\n",
       "      <td>10.2</td>\n",
       "      <td>[(set, 1.0), (scale, 1.0), (rate, 1.0), (natur...</td>\n",
       "      <td>467</td>\n",
       "      <td>[set, scale, rate, nature, mitigate, impact, p...</td>\n",
       "      <td>[set, scale, rate, nature, mitigate, impact, p...</td>\n",
       "      <td>No</td>\n",
       "      <td>0</td>\n",
       "      <td>0</td>\n",
       "      <td>1</td>\n",
       "    </tr>\n",
       "    <tr>\n",
       "      <th>7</th>\n",
       "      <td>NaN</td>\n",
       "      <td>NaN</td>\n",
       "      <td>tech data</td>\n",
       "      <td>0</td>\n",
       "      <td>Ascent of data Science, SAS and Big data Analy...</td>\n",
       "      <td>Various associations in the present days are o...</td>\n",
       "      <td>3384</td>\n",
       "      <td>0</td>\n",
       "      <td>en</td>\n",
       "      <td>NaN</td>\n",
       "      <td>...</td>\n",
       "      <td>0.0000</td>\n",
       "      <td>15.8</td>\n",
       "      <td>[(associations, 1.0), (open, 1.0), (capacity, ...</td>\n",
       "      <td>64</td>\n",
       "      <td>[associations, open, capacity, driving, plenty...</td>\n",
       "      <td>[association, open, capacity, drive, plenty, d...</td>\n",
       "      <td>No</td>\n",
       "      <td>0</td>\n",
       "      <td>0</td>\n",
       "      <td>1</td>\n",
       "    </tr>\n",
       "    <tr>\n",
       "      <th>11</th>\n",
       "      <td>NaN</td>\n",
       "      <td>NaN</td>\n",
       "      <td>Stewart Alsop</td>\n",
       "      <td>0</td>\n",
       "      <td>Can a robot love us better than another human ...</td>\n",
       "      <td>I discussed this with Michelle Tsng on my Podc...</td>\n",
       "      <td>968</td>\n",
       "      <td>50</td>\n",
       "      <td>en</td>\n",
       "      <td>Crazy Wisdom</td>\n",
       "      <td>...</td>\n",
       "      <td>0.7964</td>\n",
       "      <td>7.3</td>\n",
       "      <td>[(discussed, 1.0), (robot, 1.0), (love, 1.0), ...</td>\n",
       "      <td>18</td>\n",
       "      <td>[discussed, robot, love, human, traumatized, j...</td>\n",
       "      <td>[discuss, robot, love, human, traumatize, judg...</td>\n",
       "      <td>Low</td>\n",
       "      <td>0</td>\n",
       "      <td>1</td>\n",
       "      <td>0</td>\n",
       "    </tr>\n",
       "    <tr>\n",
       "      <th>16</th>\n",
       "      <td>NaN</td>\n",
       "      <td>NaN</td>\n",
       "      <td>Melody Ucros</td>\n",
       "      <td>0</td>\n",
       "      <td>2017 Big Data, AI and IOT Use Cases</td>\n",
       "      <td>n Active List of Interesting Use Cases Mention...</td>\n",
       "      <td>10944</td>\n",
       "      <td>27</td>\n",
       "      <td>en</td>\n",
       "      <td>NaN</td>\n",
       "      <td>...</td>\n",
       "      <td>0.0000</td>\n",
       "      <td>14.8</td>\n",
       "      <td>[(interesting, 1.0), (cases, 1.0), (days, 1.0)...</td>\n",
       "      <td>213</td>\n",
       "      <td>[interesting, cases, days, start, post, compil...</td>\n",
       "      <td>[interest, case, day, start, post, compile, ex...</td>\n",
       "      <td>Low</td>\n",
       "      <td>0</td>\n",
       "      <td>1</td>\n",
       "      <td>0</td>\n",
       "    </tr>\n",
       "    <tr>\n",
       "      <th>...</th>\n",
       "      <td>...</td>\n",
       "      <td>...</td>\n",
       "      <td>...</td>\n",
       "      <td>...</td>\n",
       "      <td>...</td>\n",
       "      <td>...</td>\n",
       "      <td>...</td>\n",
       "      <td>...</td>\n",
       "      <td>...</td>\n",
       "      <td>...</td>\n",
       "      <td>...</td>\n",
       "      <td>...</td>\n",
       "      <td>...</td>\n",
       "      <td>...</td>\n",
       "      <td>...</td>\n",
       "      <td>...</td>\n",
       "      <td>...</td>\n",
       "      <td>...</td>\n",
       "      <td>...</td>\n",
       "      <td>...</td>\n",
       "      <td>...</td>\n",
       "    </tr>\n",
       "    <tr>\n",
       "      <th>279552</th>\n",
       "      <td>NaN</td>\n",
       "      <td>NaN</td>\n",
       "      <td>Berkeley I School</td>\n",
       "      <td>1</td>\n",
       "      <td>On UC Berkeley MIDS Immersion — Fall 2017</td>\n",
       "      <td>y Daniel Kent  current Master of Information a...</td>\n",
       "      <td>6010</td>\n",
       "      <td>92</td>\n",
       "      <td>en</td>\n",
       "      <td>Towards Data Science</td>\n",
       "      <td>...</td>\n",
       "      <td>0.0000</td>\n",
       "      <td>13.9</td>\n",
       "      <td>[(information, 1.0), (master, 1.0), (marries, ...</td>\n",
       "      <td>139</td>\n",
       "      <td>[information, master, marries, community, acad...</td>\n",
       "      <td>[information, master, marries, community, acad...</td>\n",
       "      <td>Low</td>\n",
       "      <td>0</td>\n",
       "      <td>1</td>\n",
       "      <td>0</td>\n",
       "    </tr>\n",
       "    <tr>\n",
       "      <th>279557</th>\n",
       "      <td>NaN</td>\n",
       "      <td>NaN</td>\n",
       "      <td>Matt.0</td>\n",
       "      <td>1</td>\n",
       "      <td>Analyzing extreme skiing and snowboarding in R...</td>\n",
       "      <td>he Freeride World Tour  FWT  has been hosting ...</td>\n",
       "      <td>5634</td>\n",
       "      <td>4</td>\n",
       "      <td>en</td>\n",
       "      <td>Towards Data Science</td>\n",
       "      <td>...</td>\n",
       "      <td>0.0000</td>\n",
       "      <td>10.0</td>\n",
       "      <td>[(wrapped, 1.0), (season, 1.0), (march, 1.0), ...</td>\n",
       "      <td>138</td>\n",
       "      <td>[wrapped, season, march, analysis, rankings, h...</td>\n",
       "      <td>[wrap, season, march, analysis, ranking, haven...</td>\n",
       "      <td>Low</td>\n",
       "      <td>0</td>\n",
       "      <td>1</td>\n",
       "      <td>0</td>\n",
       "    </tr>\n",
       "    <tr>\n",
       "      <th>279567</th>\n",
       "      <td>NaN</td>\n",
       "      <td>NaN</td>\n",
       "      <td>Syed Ahmed</td>\n",
       "      <td>0</td>\n",
       "      <td>How to Build a Smart Chatbot Assistant with Ch...</td>\n",
       "      <td>ubnub coupled with IBM Watson can enable devel...</td>\n",
       "      <td>9442</td>\n",
       "      <td>567</td>\n",
       "      <td>en</td>\n",
       "      <td>Hacker Noon</td>\n",
       "      <td>...</td>\n",
       "      <td>0.4019</td>\n",
       "      <td>8.2</td>\n",
       "      <td>[(streamline, 1.0), (frontlines, 1.0), (answer...</td>\n",
       "      <td>199</td>\n",
       "      <td>[streamline, frontlines, answers, chatbots, co...</td>\n",
       "      <td>[streamline, frontlines, answer, chatbots, com...</td>\n",
       "      <td>High</td>\n",
       "      <td>1</td>\n",
       "      <td>0</td>\n",
       "      <td>0</td>\n",
       "    </tr>\n",
       "    <tr>\n",
       "      <th>279570</th>\n",
       "      <td>NaN</td>\n",
       "      <td>NaN</td>\n",
       "      <td>Kan Nishida</td>\n",
       "      <td>0</td>\n",
       "      <td>ggrepel — When Things Get Too Crowded</td>\n",
       "      <td>ometimes it s useful to always show the label ...</td>\n",
       "      <td>1634</td>\n",
       "      <td>42</td>\n",
       "      <td>en</td>\n",
       "      <td>learn data science</td>\n",
       "      <td>...</td>\n",
       "      <td>0.0000</td>\n",
       "      <td>13.0</td>\n",
       "      <td>[(ometimes, 1.0), (show, 1.0), (showing, 1.0),...</td>\n",
       "      <td>34</td>\n",
       "      <td>[ometimes, show, showing, move, top, presentin...</td>\n",
       "      <td>[ometimes, show, show, move, top, present, cha...</td>\n",
       "      <td>Low</td>\n",
       "      <td>0</td>\n",
       "      <td>1</td>\n",
       "      <td>0</td>\n",
       "    </tr>\n",
       "    <tr>\n",
       "      <th>279572</th>\n",
       "      <td>NaN</td>\n",
       "      <td>NaN</td>\n",
       "      <td>Cities Of The Future</td>\n",
       "      <td>0</td>\n",
       "      <td>London Creates Ethics Panel to Evaluate Use of...</td>\n",
       "      <td>n independent panel that advises City Hall on ...</td>\n",
       "      <td>4720</td>\n",
       "      <td>0</td>\n",
       "      <td>en</td>\n",
       "      <td>Cities of the Future</td>\n",
       "      <td>...</td>\n",
       "      <td>0.2732</td>\n",
       "      <td>15.8</td>\n",
       "      <td>[(ethics, 1.0), (policing, 1.0), (capital, 1.0...</td>\n",
       "      <td>104</td>\n",
       "      <td>[ethics, policing, capital, examine, mayor, ch...</td>\n",
       "      <td>[ethic, police, capital, examine, mayor, chair...</td>\n",
       "      <td>No</td>\n",
       "      <td>0</td>\n",
       "      <td>0</td>\n",
       "      <td>1</td>\n",
       "    </tr>\n",
       "  </tbody>\n",
       "</table>\n",
       "<p>66326 rows × 21 columns</p>\n",
       "</div>"
      ],
      "text/plain": [
       "       Unnamed: 0 index                Author  Responses  \\\n",
       "0             NaN   NaN           Anar Babaev          0   \n",
       "3             NaN   NaN          George Sykes          0   \n",
       "7             NaN   NaN             tech data          0   \n",
       "11            NaN   NaN         Stewart Alsop          0   \n",
       "16            NaN   NaN          Melody Ucros          0   \n",
       "...           ...   ...                   ...        ...   \n",
       "279552        NaN   NaN     Berkeley I School          1   \n",
       "279557        NaN   NaN                Matt.0          1   \n",
       "279567        NaN   NaN            Syed Ahmed          0   \n",
       "279570        NaN   NaN           Kan Nishida          0   \n",
       "279572        NaN   NaN  Cities Of The Future          0   \n",
       "\n",
       "                                                   Header  \\\n",
       "0             Private Business, Government and Blockchain   \n",
       "3                                EPQ draft 1 (4844 words)   \n",
       "7       Ascent of data Science, SAS and Big data Analy...   \n",
       "11      Can a robot love us better than another human ...   \n",
       "16                    2017 Big Data, AI and IOT Use Cases   \n",
       "...                                                   ...   \n",
       "279552          On UC Berkeley MIDS Immersion — Fall 2017   \n",
       "279557  Analyzing extreme skiing and snowboarding in R...   \n",
       "279567  How to Build a Smart Chatbot Assistant with Ch...   \n",
       "279570              ggrepel — When Things Get Too Crowded   \n",
       "279572  London Creates Ethics Panel to Evaluate Use of...   \n",
       "\n",
       "                                                     Text  Length  Claps  \\\n",
       "0       A major private IT company implements blockcha...    1199    100   \n",
       "3        Introduction Automation is set to un employ p...   30047      0   \n",
       "7       Various associations in the present days are o...    3384      0   \n",
       "11      I discussed this with Michelle Tsng on my Podc...     968     50   \n",
       "16      n Active List of Interesting Use Cases Mention...   10944     27   \n",
       "...                                                   ...     ...    ...   \n",
       "279552  y Daniel Kent  current Master of Information a...    6010     92   \n",
       "279557  he Freeride World Tour  FWT  has been hosting ...    5634      4   \n",
       "279567  ubnub coupled with IBM Watson can enable devel...    9442    567   \n",
       "279570  ometimes it s useful to always show the label ...    1634     42   \n",
       "279572  n independent panel that advises City Hall on ...    4720      0   \n",
       "\n",
       "       Language           Publication  ... sentiment_header  \\\n",
       "0            en                ICOBox  ...           0.0000   \n",
       "3            en                   NaN  ...           0.0000   \n",
       "7            en                   NaN  ...           0.0000   \n",
       "11           en          Crazy Wisdom  ...           0.7964   \n",
       "16           en                   NaN  ...           0.0000   \n",
       "...         ...                   ...  ...              ...   \n",
       "279552       en  Towards Data Science  ...           0.0000   \n",
       "279557       en  Towards Data Science  ...           0.0000   \n",
       "279567       en           Hacker Noon  ...           0.4019   \n",
       "279570       en    learn data science  ...           0.0000   \n",
       "279572       en  Cities of the Future  ...           0.2732   \n",
       "\n",
       "        readibility_level                                               Rake  \\\n",
       "0                    12.4  [(internet, 1.0), (things, 1.0), (optimize, 1....   \n",
       "3                    10.2  [(set, 1.0), (scale, 1.0), (rate, 1.0), (natur...   \n",
       "7                    15.8  [(associations, 1.0), (open, 1.0), (capacity, ...   \n",
       "11                    7.3  [(discussed, 1.0), (robot, 1.0), (love, 1.0), ...   \n",
       "16                   14.8  [(interesting, 1.0), (cases, 1.0), (days, 1.0)...   \n",
       "...                   ...                                                ...   \n",
       "279552               13.9  [(information, 1.0), (master, 1.0), (marries, ...   \n",
       "279557               10.0  [(wrapped, 1.0), (season, 1.0), (march, 1.0), ...   \n",
       "279567                8.2  [(streamline, 1.0), (frontlines, 1.0), (answer...   \n",
       "279570               13.0  [(ometimes, 1.0), (show, 1.0), (showing, 1.0),...   \n",
       "279572               15.8  [(ethics, 1.0), (policing, 1.0), (capital, 1.0...   \n",
       "\n",
       "       Keyword_no                                              words  \\\n",
       "0              36  [internet, things, optimize, representatives, ...   \n",
       "3             467  [set, scale, rate, nature, mitigate, impact, p...   \n",
       "7              64  [associations, open, capacity, driving, plenty...   \n",
       "11             18  [discussed, robot, love, human, traumatized, j...   \n",
       "16            213  [interesting, cases, days, start, post, compil...   \n",
       "...           ...                                                ...   \n",
       "279552        139  [information, master, marries, community, acad...   \n",
       "279557        138  [wrapped, season, march, analysis, rankings, h...   \n",
       "279567        199  [streamline, frontlines, answers, chatbots, co...   \n",
       "279570         34  [ometimes, show, showing, move, top, presentin...   \n",
       "279572        104  [ethics, policing, capital, examine, mayor, ch...   \n",
       "\n",
       "                                              words_short Clap_level High  \\\n",
       "0       [internet, thing, optimize, representative, co...       High    1   \n",
       "3       [set, scale, rate, nature, mitigate, impact, p...         No    0   \n",
       "7       [association, open, capacity, drive, plenty, d...         No    0   \n",
       "11      [discuss, robot, love, human, traumatize, judg...        Low    0   \n",
       "16      [interest, case, day, start, post, compile, ex...        Low    0   \n",
       "...                                                   ...        ...  ...   \n",
       "279552  [information, master, marries, community, acad...        Low    0   \n",
       "279557  [wrap, season, march, analysis, ranking, haven...        Low    0   \n",
       "279567  [streamline, frontlines, answer, chatbots, com...       High    1   \n",
       "279570  [ometimes, show, show, move, top, present, cha...        Low    0   \n",
       "279572  [ethic, police, capital, examine, mayor, chair...         No    0   \n",
       "\n",
       "        Low  No  \n",
       "0         0   0  \n",
       "3         0   1  \n",
       "7         0   1  \n",
       "11        1   0  \n",
       "16        1   0  \n",
       "...     ...  ..  \n",
       "279552    1   0  \n",
       "279557    1   0  \n",
       "279567    0   0  \n",
       "279570    1   0  \n",
       "279572    0   1  \n",
       "\n",
       "[66326 rows x 21 columns]"
      ]
     },
     "execution_count": 101,
     "metadata": {},
     "output_type": "execute_result"
    }
   ],
   "source": [
    "df"
   ]
  },
  {
   "cell_type": "code",
   "execution_count": 102,
   "metadata": {},
   "outputs": [],
   "source": [
    "df['HeaderHasDigits'] = df.Header.apply(lambda x: any ([ch.isdigit() for ch in str(x)]))"
   ]
  },
  {
   "cell_type": "code",
   "execution_count": 103,
   "metadata": {},
   "outputs": [
    {
     "name": "stdout",
     "output_type": "stream",
     "text": [
      "Requirement already satisfied: wordcounter in c:\\users\\alex work\\pycharmprojects\\adams\\venv2\\lib\\site-packages (0.0.2.2)\n"
     ]
    }
   ],
   "source": [
    "!pip install wordcounter"
   ]
  },
  {
   "cell_type": "code",
   "execution_count": 104,
   "metadata": {},
   "outputs": [],
   "source": [
    "def LengthTime(row):\n",
    "    length = len([x for x in str(row.Text).split(' ') if len(x) > 0])\n",
    "    return int(length / 200)"
   ]
  },
  {
   "cell_type": "markdown",
   "metadata": {},
   "source": [
    "```Minute_read``` is the number of minutes required to read, given that it's normally calculated using the default speed of 200 WPM."
   ]
  },
  {
   "cell_type": "code",
   "execution_count": 105,
   "metadata": {},
   "outputs": [],
   "source": [
    "df['Minute_read'] = df.apply(LengthTime, axis=1)"
   ]
  },
  {
   "cell_type": "code",
   "execution_count": 106,
   "metadata": {},
   "outputs": [],
   "source": [
    "def PopularPublication(row):\n",
    "    if row.Publication == 'Towards Data Science':\n",
    "        return 'Towards Data Science'\n",
    "    elif row.Publication == 'Hacker Noon':\n",
    "        return 'Hacker Noon'\n",
    "    elif row.Publication == 'Becoming Human: Artificial Intelligence Magazine':\n",
    "        return 'Becoming Human: Artificial Intelligence Magazine'\n",
    "    else :\n",
    "        return None"
   ]
  },
  {
   "cell_type": "markdown",
   "metadata": {},
   "source": [
    "```PupularPublication``` is our attempt to feed in if the observation was one of the most frequent 3 publications in the set."
   ]
  },
  {
   "cell_type": "code",
   "execution_count": 107,
   "metadata": {
    "scrolled": true
   },
   "outputs": [],
   "source": [
    "df['PopularPublication'] = df.apply(PopularPublication, axis=1)"
   ]
  },
  {
   "cell_type": "code",
   "execution_count": 108,
   "metadata": {},
   "outputs": [
    {
     "data": {
      "text/html": [
       "<div>\n",
       "<style scoped>\n",
       "    .dataframe tbody tr th:only-of-type {\n",
       "        vertical-align: middle;\n",
       "    }\n",
       "\n",
       "    .dataframe tbody tr th {\n",
       "        vertical-align: top;\n",
       "    }\n",
       "\n",
       "    .dataframe thead th {\n",
       "        text-align: right;\n",
       "    }\n",
       "</style>\n",
       "<table border=\"1\" class=\"dataframe\">\n",
       "  <thead>\n",
       "    <tr style=\"text-align: right;\">\n",
       "      <th></th>\n",
       "      <th>Unnamed: 0</th>\n",
       "      <th>index</th>\n",
       "      <th>Author</th>\n",
       "      <th>Responses</th>\n",
       "      <th>Header</th>\n",
       "      <th>Text</th>\n",
       "      <th>Length</th>\n",
       "      <th>Claps</th>\n",
       "      <th>Language</th>\n",
       "      <th>Publication</th>\n",
       "      <th>...</th>\n",
       "      <th>Keyword_no</th>\n",
       "      <th>words</th>\n",
       "      <th>words_short</th>\n",
       "      <th>Clap_level</th>\n",
       "      <th>High</th>\n",
       "      <th>Low</th>\n",
       "      <th>No</th>\n",
       "      <th>HeaderHasDigits</th>\n",
       "      <th>Minute_read</th>\n",
       "      <th>PopularPublication</th>\n",
       "    </tr>\n",
       "  </thead>\n",
       "  <tbody>\n",
       "    <tr>\n",
       "      <th>0</th>\n",
       "      <td>NaN</td>\n",
       "      <td>NaN</td>\n",
       "      <td>Anar Babaev</td>\n",
       "      <td>0</td>\n",
       "      <td>Private Business, Government and Blockchain</td>\n",
       "      <td>A major private IT company implements blockcha...</td>\n",
       "      <td>1199</td>\n",
       "      <td>100</td>\n",
       "      <td>en</td>\n",
       "      <td>ICOBox</td>\n",
       "      <td>...</td>\n",
       "      <td>36</td>\n",
       "      <td>[internet, things, optimize, representatives, ...</td>\n",
       "      <td>[internet, thing, optimize, representative, co...</td>\n",
       "      <td>High</td>\n",
       "      <td>1</td>\n",
       "      <td>0</td>\n",
       "      <td>0</td>\n",
       "      <td>False</td>\n",
       "      <td>0</td>\n",
       "      <td>None</td>\n",
       "    </tr>\n",
       "    <tr>\n",
       "      <th>3</th>\n",
       "      <td>NaN</td>\n",
       "      <td>NaN</td>\n",
       "      <td>George Sykes</td>\n",
       "      <td>0</td>\n",
       "      <td>EPQ draft 1 (4844 words)</td>\n",
       "      <td>Introduction Automation is set to un employ p...</td>\n",
       "      <td>30047</td>\n",
       "      <td>0</td>\n",
       "      <td>en</td>\n",
       "      <td>NaN</td>\n",
       "      <td>...</td>\n",
       "      <td>467</td>\n",
       "      <td>[set, scale, rate, nature, mitigate, impact, p...</td>\n",
       "      <td>[set, scale, rate, nature, mitigate, impact, p...</td>\n",
       "      <td>No</td>\n",
       "      <td>0</td>\n",
       "      <td>0</td>\n",
       "      <td>1</td>\n",
       "      <td>True</td>\n",
       "      <td>22</td>\n",
       "      <td>None</td>\n",
       "    </tr>\n",
       "    <tr>\n",
       "      <th>7</th>\n",
       "      <td>NaN</td>\n",
       "      <td>NaN</td>\n",
       "      <td>tech data</td>\n",
       "      <td>0</td>\n",
       "      <td>Ascent of data Science, SAS and Big data Analy...</td>\n",
       "      <td>Various associations in the present days are o...</td>\n",
       "      <td>3384</td>\n",
       "      <td>0</td>\n",
       "      <td>en</td>\n",
       "      <td>NaN</td>\n",
       "      <td>...</td>\n",
       "      <td>64</td>\n",
       "      <td>[associations, open, capacity, driving, plenty...</td>\n",
       "      <td>[association, open, capacity, drive, plenty, d...</td>\n",
       "      <td>No</td>\n",
       "      <td>0</td>\n",
       "      <td>0</td>\n",
       "      <td>1</td>\n",
       "      <td>False</td>\n",
       "      <td>2</td>\n",
       "      <td>None</td>\n",
       "    </tr>\n",
       "    <tr>\n",
       "      <th>11</th>\n",
       "      <td>NaN</td>\n",
       "      <td>NaN</td>\n",
       "      <td>Stewart Alsop</td>\n",
       "      <td>0</td>\n",
       "      <td>Can a robot love us better than another human ...</td>\n",
       "      <td>I discussed this with Michelle Tsng on my Podc...</td>\n",
       "      <td>968</td>\n",
       "      <td>50</td>\n",
       "      <td>en</td>\n",
       "      <td>Crazy Wisdom</td>\n",
       "      <td>...</td>\n",
       "      <td>18</td>\n",
       "      <td>[discussed, robot, love, human, traumatized, j...</td>\n",
       "      <td>[discuss, robot, love, human, traumatize, judg...</td>\n",
       "      <td>Low</td>\n",
       "      <td>0</td>\n",
       "      <td>1</td>\n",
       "      <td>0</td>\n",
       "      <td>False</td>\n",
       "      <td>0</td>\n",
       "      <td>None</td>\n",
       "    </tr>\n",
       "    <tr>\n",
       "      <th>16</th>\n",
       "      <td>NaN</td>\n",
       "      <td>NaN</td>\n",
       "      <td>Melody Ucros</td>\n",
       "      <td>0</td>\n",
       "      <td>2017 Big Data, AI and IOT Use Cases</td>\n",
       "      <td>n Active List of Interesting Use Cases Mention...</td>\n",
       "      <td>10944</td>\n",
       "      <td>27</td>\n",
       "      <td>en</td>\n",
       "      <td>NaN</td>\n",
       "      <td>...</td>\n",
       "      <td>213</td>\n",
       "      <td>[interesting, cases, days, start, post, compil...</td>\n",
       "      <td>[interest, case, day, start, post, compile, ex...</td>\n",
       "      <td>Low</td>\n",
       "      <td>0</td>\n",
       "      <td>1</td>\n",
       "      <td>0</td>\n",
       "      <td>True</td>\n",
       "      <td>8</td>\n",
       "      <td>None</td>\n",
       "    </tr>\n",
       "    <tr>\n",
       "      <th>...</th>\n",
       "      <td>...</td>\n",
       "      <td>...</td>\n",
       "      <td>...</td>\n",
       "      <td>...</td>\n",
       "      <td>...</td>\n",
       "      <td>...</td>\n",
       "      <td>...</td>\n",
       "      <td>...</td>\n",
       "      <td>...</td>\n",
       "      <td>...</td>\n",
       "      <td>...</td>\n",
       "      <td>...</td>\n",
       "      <td>...</td>\n",
       "      <td>...</td>\n",
       "      <td>...</td>\n",
       "      <td>...</td>\n",
       "      <td>...</td>\n",
       "      <td>...</td>\n",
       "      <td>...</td>\n",
       "      <td>...</td>\n",
       "      <td>...</td>\n",
       "    </tr>\n",
       "    <tr>\n",
       "      <th>279552</th>\n",
       "      <td>NaN</td>\n",
       "      <td>NaN</td>\n",
       "      <td>Berkeley I School</td>\n",
       "      <td>1</td>\n",
       "      <td>On UC Berkeley MIDS Immersion — Fall 2017</td>\n",
       "      <td>y Daniel Kent  current Master of Information a...</td>\n",
       "      <td>6010</td>\n",
       "      <td>92</td>\n",
       "      <td>en</td>\n",
       "      <td>Towards Data Science</td>\n",
       "      <td>...</td>\n",
       "      <td>139</td>\n",
       "      <td>[information, master, marries, community, acad...</td>\n",
       "      <td>[information, master, marries, community, acad...</td>\n",
       "      <td>Low</td>\n",
       "      <td>0</td>\n",
       "      <td>1</td>\n",
       "      <td>0</td>\n",
       "      <td>True</td>\n",
       "      <td>5</td>\n",
       "      <td>Towards Data Science</td>\n",
       "    </tr>\n",
       "    <tr>\n",
       "      <th>279557</th>\n",
       "      <td>NaN</td>\n",
       "      <td>NaN</td>\n",
       "      <td>Matt.0</td>\n",
       "      <td>1</td>\n",
       "      <td>Analyzing extreme skiing and snowboarding in R...</td>\n",
       "      <td>he Freeride World Tour  FWT  has been hosting ...</td>\n",
       "      <td>5634</td>\n",
       "      <td>4</td>\n",
       "      <td>en</td>\n",
       "      <td>Towards Data Science</td>\n",
       "      <td>...</td>\n",
       "      <td>138</td>\n",
       "      <td>[wrapped, season, march, analysis, rankings, h...</td>\n",
       "      <td>[wrap, season, march, analysis, ranking, haven...</td>\n",
       "      <td>Low</td>\n",
       "      <td>0</td>\n",
       "      <td>1</td>\n",
       "      <td>0</td>\n",
       "      <td>True</td>\n",
       "      <td>5</td>\n",
       "      <td>Towards Data Science</td>\n",
       "    </tr>\n",
       "    <tr>\n",
       "      <th>279567</th>\n",
       "      <td>NaN</td>\n",
       "      <td>NaN</td>\n",
       "      <td>Syed Ahmed</td>\n",
       "      <td>0</td>\n",
       "      <td>How to Build a Smart Chatbot Assistant with Ch...</td>\n",
       "      <td>ubnub coupled with IBM Watson can enable devel...</td>\n",
       "      <td>9442</td>\n",
       "      <td>567</td>\n",
       "      <td>en</td>\n",
       "      <td>Hacker Noon</td>\n",
       "      <td>...</td>\n",
       "      <td>199</td>\n",
       "      <td>[streamline, frontlines, answers, chatbots, co...</td>\n",
       "      <td>[streamline, frontlines, answer, chatbots, com...</td>\n",
       "      <td>High</td>\n",
       "      <td>1</td>\n",
       "      <td>0</td>\n",
       "      <td>0</td>\n",
       "      <td>False</td>\n",
       "      <td>8</td>\n",
       "      <td>Hacker Noon</td>\n",
       "    </tr>\n",
       "    <tr>\n",
       "      <th>279570</th>\n",
       "      <td>NaN</td>\n",
       "      <td>NaN</td>\n",
       "      <td>Kan Nishida</td>\n",
       "      <td>0</td>\n",
       "      <td>ggrepel — When Things Get Too Crowded</td>\n",
       "      <td>ometimes it s useful to always show the label ...</td>\n",
       "      <td>1634</td>\n",
       "      <td>42</td>\n",
       "      <td>en</td>\n",
       "      <td>learn data science</td>\n",
       "      <td>...</td>\n",
       "      <td>34</td>\n",
       "      <td>[ometimes, show, showing, move, top, presentin...</td>\n",
       "      <td>[ometimes, show, show, move, top, present, cha...</td>\n",
       "      <td>Low</td>\n",
       "      <td>0</td>\n",
       "      <td>1</td>\n",
       "      <td>0</td>\n",
       "      <td>False</td>\n",
       "      <td>1</td>\n",
       "      <td>None</td>\n",
       "    </tr>\n",
       "    <tr>\n",
       "      <th>279572</th>\n",
       "      <td>NaN</td>\n",
       "      <td>NaN</td>\n",
       "      <td>Cities Of The Future</td>\n",
       "      <td>0</td>\n",
       "      <td>London Creates Ethics Panel to Evaluate Use of...</td>\n",
       "      <td>n independent panel that advises City Hall on ...</td>\n",
       "      <td>4720</td>\n",
       "      <td>0</td>\n",
       "      <td>en</td>\n",
       "      <td>Cities of the Future</td>\n",
       "      <td>...</td>\n",
       "      <td>104</td>\n",
       "      <td>[ethics, policing, capital, examine, mayor, ch...</td>\n",
       "      <td>[ethic, police, capital, examine, mayor, chair...</td>\n",
       "      <td>No</td>\n",
       "      <td>0</td>\n",
       "      <td>0</td>\n",
       "      <td>1</td>\n",
       "      <td>False</td>\n",
       "      <td>3</td>\n",
       "      <td>None</td>\n",
       "    </tr>\n",
       "  </tbody>\n",
       "</table>\n",
       "<p>66326 rows × 24 columns</p>\n",
       "</div>"
      ],
      "text/plain": [
       "       Unnamed: 0 index                Author  Responses  \\\n",
       "0             NaN   NaN           Anar Babaev          0   \n",
       "3             NaN   NaN          George Sykes          0   \n",
       "7             NaN   NaN             tech data          0   \n",
       "11            NaN   NaN         Stewart Alsop          0   \n",
       "16            NaN   NaN          Melody Ucros          0   \n",
       "...           ...   ...                   ...        ...   \n",
       "279552        NaN   NaN     Berkeley I School          1   \n",
       "279557        NaN   NaN                Matt.0          1   \n",
       "279567        NaN   NaN            Syed Ahmed          0   \n",
       "279570        NaN   NaN           Kan Nishida          0   \n",
       "279572        NaN   NaN  Cities Of The Future          0   \n",
       "\n",
       "                                                   Header  \\\n",
       "0             Private Business, Government and Blockchain   \n",
       "3                                EPQ draft 1 (4844 words)   \n",
       "7       Ascent of data Science, SAS and Big data Analy...   \n",
       "11      Can a robot love us better than another human ...   \n",
       "16                    2017 Big Data, AI and IOT Use Cases   \n",
       "...                                                   ...   \n",
       "279552          On UC Berkeley MIDS Immersion — Fall 2017   \n",
       "279557  Analyzing extreme skiing and snowboarding in R...   \n",
       "279567  How to Build a Smart Chatbot Assistant with Ch...   \n",
       "279570              ggrepel — When Things Get Too Crowded   \n",
       "279572  London Creates Ethics Panel to Evaluate Use of...   \n",
       "\n",
       "                                                     Text  Length  Claps  \\\n",
       "0       A major private IT company implements blockcha...    1199    100   \n",
       "3        Introduction Automation is set to un employ p...   30047      0   \n",
       "7       Various associations in the present days are o...    3384      0   \n",
       "11      I discussed this with Michelle Tsng on my Podc...     968     50   \n",
       "16      n Active List of Interesting Use Cases Mention...   10944     27   \n",
       "...                                                   ...     ...    ...   \n",
       "279552  y Daniel Kent  current Master of Information a...    6010     92   \n",
       "279557  he Freeride World Tour  FWT  has been hosting ...    5634      4   \n",
       "279567  ubnub coupled with IBM Watson can enable devel...    9442    567   \n",
       "279570  ometimes it s useful to always show the label ...    1634     42   \n",
       "279572  n independent panel that advises City Hall on ...    4720      0   \n",
       "\n",
       "       Language           Publication  ... Keyword_no  \\\n",
       "0            en                ICOBox  ...         36   \n",
       "3            en                   NaN  ...        467   \n",
       "7            en                   NaN  ...         64   \n",
       "11           en          Crazy Wisdom  ...         18   \n",
       "16           en                   NaN  ...        213   \n",
       "...         ...                   ...  ...        ...   \n",
       "279552       en  Towards Data Science  ...        139   \n",
       "279557       en  Towards Data Science  ...        138   \n",
       "279567       en           Hacker Noon  ...        199   \n",
       "279570       en    learn data science  ...         34   \n",
       "279572       en  Cities of the Future  ...        104   \n",
       "\n",
       "                                                    words  \\\n",
       "0       [internet, things, optimize, representatives, ...   \n",
       "3       [set, scale, rate, nature, mitigate, impact, p...   \n",
       "7       [associations, open, capacity, driving, plenty...   \n",
       "11      [discussed, robot, love, human, traumatized, j...   \n",
       "16      [interesting, cases, days, start, post, compil...   \n",
       "...                                                   ...   \n",
       "279552  [information, master, marries, community, acad...   \n",
       "279557  [wrapped, season, march, analysis, rankings, h...   \n",
       "279567  [streamline, frontlines, answers, chatbots, co...   \n",
       "279570  [ometimes, show, showing, move, top, presentin...   \n",
       "279572  [ethics, policing, capital, examine, mayor, ch...   \n",
       "\n",
       "                                              words_short Clap_level  High  \\\n",
       "0       [internet, thing, optimize, representative, co...       High     1   \n",
       "3       [set, scale, rate, nature, mitigate, impact, p...         No     0   \n",
       "7       [association, open, capacity, drive, plenty, d...         No     0   \n",
       "11      [discuss, robot, love, human, traumatize, judg...        Low     0   \n",
       "16      [interest, case, day, start, post, compile, ex...        Low     0   \n",
       "...                                                   ...        ...   ...   \n",
       "279552  [information, master, marries, community, acad...        Low     0   \n",
       "279557  [wrap, season, march, analysis, ranking, haven...        Low     0   \n",
       "279567  [streamline, frontlines, answer, chatbots, com...       High     1   \n",
       "279570  [ometimes, show, show, move, top, present, cha...        Low     0   \n",
       "279572  [ethic, police, capital, examine, mayor, chair...         No     0   \n",
       "\n",
       "       Low No HeaderHasDigits  Minute_read    PopularPublication  \n",
       "0        0  0           False            0                  None  \n",
       "3        0  1            True           22                  None  \n",
       "7        0  1           False            2                  None  \n",
       "11       1  0           False            0                  None  \n",
       "16       1  0            True            8                  None  \n",
       "...     .. ..             ...          ...                   ...  \n",
       "279552   1  0            True            5  Towards Data Science  \n",
       "279557   1  0            True            5  Towards Data Science  \n",
       "279567   0  0           False            8           Hacker Noon  \n",
       "279570   1  0           False            1                  None  \n",
       "279572   0  1           False            3                  None  \n",
       "\n",
       "[66326 rows x 24 columns]"
      ]
     },
     "execution_count": 108,
     "metadata": {},
     "output_type": "execute_result"
    }
   ],
   "source": [
    "df"
   ]
  },
  {
   "cell_type": "code",
   "execution_count": 109,
   "metadata": {},
   "outputs": [
    {
     "data": {
      "text/plain": [
       "Index(['Unnamed: 0', 'index', 'Author', 'Responses', 'Header', 'Text',\n",
       "       'Length', 'Claps', 'Language', 'Publication', 'Date',\n",
       "       'sentiment_header', 'readibility_level', 'Rake', 'Keyword_no', 'words',\n",
       "       'words_short', 'Clap_level', 'High', 'Low', 'No', 'HeaderHasDigits',\n",
       "       'Minute_read', 'PopularPublication'],\n",
       "      dtype='object')"
      ]
     },
     "execution_count": 109,
     "metadata": {},
     "output_type": "execute_result"
    }
   ],
   "source": [
    "df.columns"
   ]
  },
  {
   "cell_type": "code",
   "execution_count": 110,
   "metadata": {},
   "outputs": [],
   "source": [
    "def TransformStrNaN(x):\n",
    "    if type(x) is str:\n",
    "        return x\n",
    "    else:\n",
    "        return 'NONE'"
   ]
  },
  {
   "cell_type": "code",
   "execution_count": 111,
   "metadata": {},
   "outputs": [],
   "source": [
    "df['Publication'] = df['Publication'].apply(TransformStrNaN)\n",
    "df['PopularPublication'] = df['PopularPublication'].apply(TransformStrNaN)\n",
    "df['Language'] = df['Language'].apply(TransformStrNaN)"
   ]
  },
  {
   "cell_type": "code",
   "execution_count": 112,
   "metadata": {},
   "outputs": [],
   "source": [
    "from sklearn.preprocessing import OrdinalEncoder\n",
    "enc = OrdinalEncoder()\n",
    "enc.fit(df[[\"Publication\",\"PopularPublication\",\"Language\"]])\n",
    "df[[\"PublicationT\",\"PopularPublicationT\",\"LanguageT\"]] = enc.transform(df[[\"Publication\",\"PopularPublication\",\"Language\"]])"
   ]
  },
  {
   "cell_type": "code",
   "execution_count": 113,
   "metadata": {
    "scrolled": true
   },
   "outputs": [
    {
     "data": {
      "text/plain": [
       "Index(['Unnamed: 0', 'index', 'Author', 'Responses', 'Header', 'Text',\n",
       "       'Length', 'Claps', 'Language', 'Publication', 'Date',\n",
       "       'sentiment_header', 'readibility_level', 'Rake', 'Keyword_no', 'words',\n",
       "       'words_short', 'Clap_level', 'High', 'Low', 'No', 'HeaderHasDigits',\n",
       "       'Minute_read', 'PopularPublication', 'PublicationT',\n",
       "       'PopularPublicationT', 'LanguageT'],\n",
       "      dtype='object')"
      ]
     },
     "execution_count": 113,
     "metadata": {},
     "output_type": "execute_result"
    }
   ],
   "source": [
    "df.columns"
   ]
  },
  {
   "cell_type": "markdown",
   "metadata": {},
   "source": [
    "We go back to modeling, we'll attempt to use Random Forest Classifier, XGBoost and possibly make an ensemble of both the NN and the best performing out of the two."
   ]
  },
  {
   "cell_type": "code",
   "execution_count": 114,
   "metadata": {},
   "outputs": [],
   "source": [
    "X_train1, X_test1, y_train1, y_test1 = train_test_split(df[['Responses', 'sentiment_header', 'readibility_level',\n",
    "'Minute_read', 'PublicationT']], df[['High', 'Low', 'No']], test_size=0.3, random_state=1)"
   ]
  },
  {
   "cell_type": "code",
   "execution_count": 115,
   "metadata": {},
   "outputs": [],
   "source": [
    "X_testa1, X_testb1, y_testa1, y_testb1 = train_test_split(X_test1, y_test1, test_size=0.5, random_state=1)"
   ]
  },
  {
   "cell_type": "code",
   "execution_count": 116,
   "metadata": {},
   "outputs": [],
   "source": [
    "from sklearn.ensemble import RandomForestClassifier"
   ]
  },
  {
   "cell_type": "code",
   "execution_count": 117,
   "metadata": {},
   "outputs": [
    {
     "data": {
      "text/plain": [
       "numpy.int64"
      ]
     },
     "execution_count": 117,
     "metadata": {},
     "output_type": "execute_result"
    }
   ],
   "source": [
    "type(df.Responses.iloc[0])"
   ]
  },
  {
   "cell_type": "code",
   "execution_count": 118,
   "metadata": {},
   "outputs": [],
   "source": [
    "RF = RandomForestClassifier()\n",
    "y_pred_rf = RF.fit(X_train1, y_train1).predict(X_testa1)"
   ]
  },
  {
   "cell_type": "code",
   "execution_count": 119,
   "metadata": {},
   "outputs": [
    {
     "data": {
      "text/plain": [
       "array([[0, 1, 0],\n",
       "       [0, 0, 1],\n",
       "       [0, 0, 1],\n",
       "       ...,\n",
       "       [1, 0, 0],\n",
       "       [0, 1, 0],\n",
       "       [1, 0, 0]], dtype=uint8)"
      ]
     },
     "execution_count": 119,
     "metadata": {},
     "output_type": "execute_result"
    }
   ],
   "source": [
    "y_pred_rf"
   ]
  },
  {
   "cell_type": "code",
   "execution_count": 120,
   "metadata": {},
   "outputs": [
    {
     "data": {
      "text/plain": [
       "0.644168908088467"
      ]
     },
     "execution_count": 120,
     "metadata": {},
     "output_type": "execute_result"
    }
   ],
   "source": [
    "roc_auc_score(y_testa1, y_pred_rf)"
   ]
  },
  {
   "cell_type": "code",
   "execution_count": 121,
   "metadata": {
    "scrolled": true
   },
   "outputs": [
    {
     "data": {
      "text/plain": [
       "<bound method NDFrame.describe of         Responses  sentiment_header  readibility_level  HeaderHasDigits  \\\n",
       "0               0            0.0000               12.4            False   \n",
       "3               0            0.0000               10.2             True   \n",
       "7               0            0.0000               15.8            False   \n",
       "11              0            0.7964                7.3            False   \n",
       "16              0            0.0000               14.8             True   \n",
       "...           ...               ...                ...              ...   \n",
       "279552          1            0.0000               13.9             True   \n",
       "279557          1            0.0000               10.0             True   \n",
       "279567          0            0.4019                8.2            False   \n",
       "279570          0            0.0000               13.0            False   \n",
       "279572          0            0.2732               15.8            False   \n",
       "\n",
       "        Minute_read  PublicationT  PopularPublicationT  LanguageT  \n",
       "0                 0        2232.0                  2.0        0.0  \n",
       "3                22        3049.0                  2.0        0.0  \n",
       "7                 2        3049.0                  2.0        0.0  \n",
       "11                0        1085.0                  2.0        0.0  \n",
       "16                8        3049.0                  2.0        0.0  \n",
       "...             ...           ...                  ...        ...  \n",
       "279552            5        4784.0                  3.0        0.0  \n",
       "279557            5        4784.0                  3.0        0.0  \n",
       "279567            8        2069.0                  1.0        0.0  \n",
       "279570            1        5548.0                  2.0        0.0  \n",
       "279572            3         905.0                  2.0        0.0  \n",
       "\n",
       "[66326 rows x 8 columns]>"
      ]
     },
     "execution_count": 121,
     "metadata": {},
     "output_type": "execute_result"
    }
   ],
   "source": [
    "df[['Responses', 'sentiment_header', 'readibility_level', 'HeaderHasDigits',\n",
    "'Minute_read', 'PublicationT', 'PopularPublicationT', 'LanguageT']].describe"
   ]
  },
  {
   "cell_type": "code",
   "execution_count": 122,
   "metadata": {},
   "outputs": [],
   "source": [
    "importances = RF.feature_importances_\n",
    "std = np.std([tree.feature_importances_ for tree in RF.estimators_],\n",
    "             axis=0)\n",
    "indices = np.argsort(importances)[::-1]"
   ]
  },
  {
   "cell_type": "code",
   "execution_count": 123,
   "metadata": {
    "scrolled": false
   },
   "outputs": [
    {
     "name": "stdout",
     "output_type": "stream",
     "text": [
      "Feature ranking:\n",
      "1. feature 2 (0.358254)\n",
      "2. feature 4 (0.243209)\n",
      "3. feature 1 (0.166056)\n",
      "4. feature 0 (0.131373)\n",
      "5. feature 3 (0.101109)\n"
     ]
    },
    {
     "data": {
      "image/png": "[encoded data removed]",
      "text/plain": [
       "<Figure size 432x288 with 1 Axes>"
      ]
     },
     "metadata": {
      "needs_background": "light"
     },
     "output_type": "display_data"
    }
   ],
   "source": [
    "# Print the feature ranking\n",
    "print(\"Feature ranking:\")\n",
    "\n",
    "for f in range(X_train1.shape[1]):\n",
    "    print(\"%d. feature %d (%f)\" % (f + 1, indices[f], importances[indices[f]]))\n",
    "\n",
    "# Plot the impurity-based feature importances of the forest\n",
    "plt.figure()\n",
    "\n",
    "plt.title(\"Feature importances\")\n",
    "plt.bar(range(X_train1.shape[1]), importances[indices],\n",
    "        color=\"r\", yerr=std[indices], align=\"center\")\n",
    "plt.xticks(range(X_train1.shape[1]), indices)\n",
    "plt.xlim([-1, X_train1.shape[1]])\n",
    "plt.show()"
   ]
  },
  {
   "cell_type": "code",
   "execution_count": 124,
   "metadata": {},
   "outputs": [],
   "source": [
    "X_train2, X_test2, y_train2, y_test2 = train_test_split(df[['Responses', 'sentiment_header', 'readibility_level', \n",
    "'Minute_read', 'PublicationT']], df[['Clap_level']], test_size=0.3, random_state=1)"
   ]
  },
  {
   "cell_type": "code",
   "execution_count": 125,
   "metadata": {},
   "outputs": [],
   "source": [
    "X_testa2, X_testb2, y_testa2, y_testb2 = train_test_split(X_test2, y_test2, test_size=0.5, random_state=1)"
   ]
  },
  {
   "cell_type": "code",
   "execution_count": 126,
   "metadata": {},
   "outputs": [],
   "source": [
    "X_train3, X_test3, y_train3, y_test3 = train_test_split(df[['Responses', 'sentiment_header', 'readibility_level', \n",
    "'Minute_read', 'PublicationT']], df[['High', 'Low', 'No']], test_size=0.3, random_state=1)"
   ]
  },
  {
   "cell_type": "code",
   "execution_count": 127,
   "metadata": {},
   "outputs": [],
   "source": [
    "X_testa3, X_testb3, y_testa3, y_testb3 = train_test_split(X_test3, y_test3, test_size=0.5, random_state=1)"
   ]
  },
  {
   "cell_type": "code",
   "execution_count": 128,
   "metadata": {},
   "outputs": [],
   "source": [
    "import xgboost as xgb"
   ]
  },
  {
   "cell_type": "code",
   "execution_count": 129,
   "metadata": {
    "scrolled": true
   },
   "outputs": [
    {
     "name": "stderr",
     "output_type": "stream",
     "text": [
      "c:\\users\\alex work\\pycharmprojects\\adams\\venv2\\lib\\site-packages\\sklearn\\utils\\validation.py:72: DataConversionWarning: A column-vector y was passed when a 1d array was expected. Please change the shape of y to (n_samples, ), for example using ravel().\n",
      "  return f(**kwargs)\n"
     ]
    }
   ],
   "source": [
    "model = xgb.XGBClassifier(n_estimators=150)\n",
    "model.fit(X_train2, y_train2)\n",
    "y_preda_xgbc = model.predict_proba(X_testa2)"
   ]
  },
  {
   "cell_type": "code",
   "execution_count": 130,
   "metadata": {},
   "outputs": [],
   "source": [
    "y_predb_xgbc = model.predict_proba(X_testb2)"
   ]
  },
  {
   "cell_type": "code",
   "execution_count": 131,
   "metadata": {},
   "outputs": [
    {
     "data": {
      "text/plain": [
       "array([[0.09262741, 0.608486  , 0.29888657],\n",
       "       [0.05379597, 0.4606169 , 0.48558712],\n",
       "       [0.0944062 , 0.43589747, 0.4696963 ],\n",
       "       ...,\n",
       "       [0.64561415, 0.352394  , 0.00199181],\n",
       "       [0.03603907, 0.37480056, 0.5891604 ],\n",
       "       [0.4302119 , 0.5687101 , 0.00107801]], dtype=float32)"
      ]
     },
     "execution_count": 131,
     "metadata": {},
     "output_type": "execute_result"
    }
   ],
   "source": [
    "y_preda_xgbc  # High, Low, No"
   ]
  },
  {
   "cell_type": "code",
   "execution_count": 132,
   "metadata": {
    "scrolled": true
   },
   "outputs": [
    {
     "data": {
      "text/plain": [
       "0.7862191110137372"
      ]
     },
     "execution_count": 132,
     "metadata": {},
     "output_type": "execute_result"
    }
   ],
   "source": [
    "roc_auc_score(y_testa3,y_preda_xgbc)"
   ]
  },
  {
   "cell_type": "code",
   "execution_count": 133,
   "metadata": {
    "scrolled": true
   },
   "outputs": [
    {
     "data": {
      "text/plain": [
       "<AxesSubplot:title={'center':'Feature importance'}, xlabel='F score', ylabel='Features'>"
      ]
     },
     "execution_count": 133,
     "metadata": {},
     "output_type": "execute_result"
    },
    {
     "data": {
      "image/png": "[encoded data removed]",
      "text/plain": [
       "<Figure size 432x288 with 1 Axes>"
      ]
     },
     "metadata": {
      "needs_background": "light"
     },
     "output_type": "display_data"
    }
   ],
   "source": [
    "xgb.plot_importance(model)"
   ]
  },
  {
   "cell_type": "markdown",
   "metadata": {},
   "source": [
    "We here realize XGB is the better model, after eliminating some of the engineered features that didn't seem to be useful."
   ]
  },
  {
   "cell_type": "code",
   "execution_count": 134,
   "metadata": {},
   "outputs": [],
   "source": [
    "from sklearn.metrics import mean_squared_error"
   ]
  },
  {
   "cell_type": "code",
   "execution_count": 135,
   "metadata": {},
   "outputs": [],
   "source": [
    "# sklearn: fits meta learner on not normal predictions but \"cross validation predictions\" from cross_val_predict using\n",
    "# the original training data (not test)\n",
    "# and then when we predict, we get predictions on the test set (this is how it is not overfit)\n",
    "class EnsembleLearner: \n",
    "    def add_meta_learner(self, model):\n",
    "        # must be an instance already\n",
    "        self.meta_learner = model\n",
    "    \n",
    "    def _stack_predictions(self, preds):\n",
    "        return np.hstack(preds)\n",
    "    \n",
    "    def fit_meta_learner(self, x_train_list, y_train):\n",
    "        stacked = self._stack_predictions(x_train_list)\n",
    "        self.meta_learner.fit(stacked, y_train)\n",
    "\n",
    "    def predict(self, x_test_list):\n",
    "        stacked = self._stack_predictions(x_test_list)\n",
    "        return self.meta_learner.predict(stacked)\n",
    "    \n",
    "    def predict_proba(self, x_test_list):\n",
    "        stacked = self._stack_predictions(x_test_list)\n",
    "        return self.meta_learner.predict_proba(stacked)\n",
    "ensemble = EnsembleLearner()"
   ]
  },
  {
   "cell_type": "code",
   "execution_count": 136,
   "metadata": {},
   "outputs": [
    {
     "name": "stderr",
     "output_type": "stream",
     "text": [
      "c:\\users\\alex work\\pycharmprojects\\adams\\venv2\\lib\\site-packages\\sklearn\\utils\\validation.py:72: DataConversionWarning: A column-vector y was passed when a 1d array was expected. Please change the shape of y to (n_samples, ), for example using ravel().\n",
      "  return f(**kwargs)\n"
     ]
    }
   ],
   "source": [
    "ensemble.add_meta_learner(xgb.XGBClassifier(n_estimators=10))\n",
    "ensemble.fit_meta_learner((y_preda_xgbc, preds2a), y_testa2)"
   ]
  },
  {
   "cell_type": "code",
   "execution_count": 137,
   "metadata": {},
   "outputs": [],
   "source": [
    "y_ensemble_pred = ensemble.predict_proba((y_predb_xgbc, preds2b))"
   ]
  },
  {
   "cell_type": "code",
   "execution_count": 138,
   "metadata": {
    "scrolled": true
   },
   "outputs": [
    {
     "data": {
      "text/plain": [
       "array([[0.08083243, 0.3327456 , 0.58642197],\n",
       "       [0.10780054, 0.55654293, 0.33565652],\n",
       "       [0.07939459, 0.451796  , 0.46880946],\n",
       "       ...,\n",
       "       [0.16291271, 0.6878743 , 0.14921302],\n",
       "       [0.08087028, 0.6016536 , 0.31747615],\n",
       "       [0.57562757, 0.38127398, 0.04309841]], dtype=float32)"
      ]
     },
     "execution_count": 138,
     "metadata": {},
     "output_type": "execute_result"
    }
   ],
   "source": [
    "y_ensemble_pred"
   ]
  },
  {
   "cell_type": "code",
   "execution_count": 139,
   "metadata": {
    "scrolled": true
   },
   "outputs": [
    {
     "data": {
      "text/plain": [
       "0.7791282876474558"
      ]
     },
     "execution_count": 139,
     "metadata": {},
     "output_type": "execute_result"
    }
   ],
   "source": [
    "roc_auc_score(y_testb3, y_ensemble_pred)"
   ]
  },
  {
   "cell_type": "code",
   "execution_count": 140,
   "metadata": {},
   "outputs": [],
   "source": [
    "# use ensemble model with real data\n",
    "# ensemble.add_predictions((pred_nn, pred_xgb))\n",
    "# ensemble.get_predictions()"
   ]
  },
  {
   "cell_type": "code",
   "execution_count": 141,
   "metadata": {},
   "outputs": [],
   "source": [
    "y_ensemble_pred2 = ensemble.predict((y_predb_xgbc, preds2b))"
   ]
  },
  {
   "cell_type": "markdown",
   "metadata": {},
   "source": [
    "Now onto our next step, splitting the dataframes into smaller ones that would be used for regression of the predictions."
   ]
  },
  {
   "cell_type": "code",
   "execution_count": 142,
   "metadata": {},
   "outputs": [],
   "source": [
    "X_trainf, X_testf, y_trainf, y_testf = train_test_split(df, df[['Clap_level', 'Claps']], test_size=0.3, random_state=1)"
   ]
  },
  {
   "cell_type": "code",
   "execution_count": 143,
   "metadata": {},
   "outputs": [],
   "source": [
    "X_testaf, X_testbf, y_testaf, y_testbf = train_test_split(X_testf, y_testf, test_size=0.5, random_state=1)"
   ]
  },
  {
   "cell_type": "code",
   "execution_count": 144,
   "metadata": {},
   "outputs": [],
   "source": [
    "# Choose my features from Index(['Unnamed: 0', 'index', 'Author', 'Responses', 'Header', 'Text',\n",
    "#        'Length', 'Claps', 'Language', 'Publication', 'Date',\n",
    "#        'sentiment_header', 'readibility_level', 'Rake', 'Keyword_no', 'words',\n",
    "#        'words_short', 'Clap_level', 'High', 'Low', 'No', 'HeaderHasDigits',\n",
    "#        'Minute_read', 'PopularPublication', 'PublicationT',\n",
    "#        'PopularPublicationT', 'LanguageT'],\n",
    "X_trainf = X_trainf[['Responses', 'sentiment_header', 'readibility_level', 'Keyword_no', 'HeaderHasDigits', 'Minute_read', 'PublicationT', 'PopularPublicationT', 'LanguageT',  'Clap_level']]\n",
    "X_testaf = X_testaf[['Responses', 'sentiment_header', 'readibility_level', 'Keyword_no', 'HeaderHasDigits', 'Minute_read', 'PublicationT', 'PopularPublicationT', 'LanguageT',  'Clap_level']]\n",
    "X_testbf = X_testbf[['Responses', 'sentiment_header', 'readibility_level', 'Keyword_no', 'HeaderHasDigits', 'Minute_read', 'PublicationT', 'PopularPublicationT', 'LanguageT',  'Clap_level']]"
   ]
  },
  {
   "cell_type": "code",
   "execution_count": 145,
   "metadata": {
    "scrolled": true
   },
   "outputs": [],
   "source": [
    "X_trainf_0 = X_trainf[X_trainf['Clap_level'] == 'No']\n",
    "X_trainf_L = X_trainf[X_trainf['Clap_level'] == 'Low']\n",
    "X_trainf_H = X_trainf[X_trainf['Clap_level'] == 'High']\n",
    "y_trainf_0 = y_trainf[y_trainf['Clap_level'] == 'No']\n",
    "y_trainf_L = y_trainf[y_trainf['Clap_level'] == 'Low']\n",
    "y_trainf_H = y_trainf[y_trainf['Clap_level'] == 'High']"
   ]
  },
  {
   "cell_type": "code",
   "execution_count": 146,
   "metadata": {},
   "outputs": [],
   "source": [
    "X_trainf_0 = X_trainf_0.drop(columns=['Clap_level'])\n",
    "X_trainf_L = X_trainf_L.drop(columns=['Clap_level', 'HeaderHasDigits', 'PopularPublicationT', 'LanguageT'])\n",
    "X_trainf_H = X_trainf_H.drop(columns=['Clap_level'])\n",
    "y_trainf_0 = y_trainf_0.drop(columns=['Clap_level'])\n",
    "y_trainf_L = y_trainf_L.drop(columns=['Clap_level'])\n",
    "y_trainf_H = y_trainf_H.drop(columns=['Clap_level'])"
   ]
  },
  {
   "cell_type": "code",
   "execution_count": 147,
   "metadata": {},
   "outputs": [],
   "source": [
    "X_testaf_0 = X_testaf[X_testaf['Clap_level'] == 'No']\n",
    "X_testaf_L = X_testaf[X_testaf['Clap_level'] == 'Low']\n",
    "X_testaf_H = X_testaf[X_testaf['Clap_level'] == 'High']\n",
    "y_testaf_0 = y_testaf[y_testaf['Clap_level'] == 'No']\n",
    "y_testaf_L = y_testaf[y_testaf['Clap_level'] == 'Low']\n",
    "y_testaf_H = y_testaf[y_testaf['Clap_level'] == 'High']"
   ]
  },
  {
   "cell_type": "code",
   "execution_count": 148,
   "metadata": {},
   "outputs": [],
   "source": [
    "X_testaf_0 = X_testaf_0.drop(columns=['Clap_level'])\n",
    "X_testaf_L = X_testaf_L.drop(columns=['Clap_level', 'HeaderHasDigits', 'PopularPublicationT', 'LanguageT'])\n",
    "X_testaf_H = X_testaf_H.drop(columns=['Clap_level'])\n",
    "y_testaf_0 = y_testaf_0.drop(columns=['Clap_level'])\n",
    "y_testaf_L = y_testaf_L.drop(columns=['Clap_level'])\n",
    "y_testaf_H = y_testaf_H.drop(columns=['Clap_level'])"
   ]
  },
  {
   "cell_type": "code",
   "execution_count": 149,
   "metadata": {},
   "outputs": [],
   "source": [
    "# def NormalizeClapsL(row):\n",
    "#     return (row.Claps-1)/(100-1)"
   ]
  },
  {
   "cell_type": "code",
   "execution_count": 150,
   "metadata": {
    "scrolled": true
   },
   "outputs": [],
   "source": [
    "# for df in [y_trainf_L, y_testaf_L]:\n",
    "#     df.Claps = df.apply(NormalizeClapsL, axis=1)"
   ]
  },
  {
   "cell_type": "code",
   "execution_count": 151,
   "metadata": {},
   "outputs": [
    {
     "data": {
      "text/html": [
       "<div>\n",
       "<style scoped>\n",
       "    .dataframe tbody tr th:only-of-type {\n",
       "        vertical-align: middle;\n",
       "    }\n",
       "\n",
       "    .dataframe tbody tr th {\n",
       "        vertical-align: top;\n",
       "    }\n",
       "\n",
       "    .dataframe thead th {\n",
       "        text-align: right;\n",
       "    }\n",
       "</style>\n",
       "<table border=\"1\" class=\"dataframe\">\n",
       "  <thead>\n",
       "    <tr style=\"text-align: right;\">\n",
       "      <th></th>\n",
       "      <th>Claps</th>\n",
       "    </tr>\n",
       "  </thead>\n",
       "  <tbody>\n",
       "    <tr>\n",
       "      <th>134236</th>\n",
       "      <td>82</td>\n",
       "    </tr>\n",
       "    <tr>\n",
       "      <th>22568</th>\n",
       "      <td>14</td>\n",
       "    </tr>\n",
       "    <tr>\n",
       "      <th>167352</th>\n",
       "      <td>2</td>\n",
       "    </tr>\n",
       "    <tr>\n",
       "      <th>31522</th>\n",
       "      <td>68</td>\n",
       "    </tr>\n",
       "    <tr>\n",
       "      <th>36844</th>\n",
       "      <td>58</td>\n",
       "    </tr>\n",
       "    <tr>\n",
       "      <th>...</th>\n",
       "      <td>...</td>\n",
       "    </tr>\n",
       "    <tr>\n",
       "      <th>20199</th>\n",
       "      <td>1</td>\n",
       "    </tr>\n",
       "    <tr>\n",
       "      <th>58697</th>\n",
       "      <td>20</td>\n",
       "    </tr>\n",
       "    <tr>\n",
       "      <th>206339</th>\n",
       "      <td>11</td>\n",
       "    </tr>\n",
       "    <tr>\n",
       "      <th>232644</th>\n",
       "      <td>2</td>\n",
       "    </tr>\n",
       "    <tr>\n",
       "      <th>60366</th>\n",
       "      <td>30</td>\n",
       "    </tr>\n",
       "  </tbody>\n",
       "</table>\n",
       "<p>4868 rows × 1 columns</p>\n",
       "</div>"
      ],
      "text/plain": [
       "        Claps\n",
       "134236     82\n",
       "22568      14\n",
       "167352      2\n",
       "31522      68\n",
       "36844      58\n",
       "...       ...\n",
       "20199       1\n",
       "58697      20\n",
       "206339     11\n",
       "232644      2\n",
       "60366      30\n",
       "\n",
       "[4868 rows x 1 columns]"
      ]
     },
     "execution_count": 151,
     "metadata": {},
     "output_type": "execute_result"
    }
   ],
   "source": [
    "y_testaf_L"
   ]
  },
  {
   "cell_type": "code",
   "execution_count": 152,
   "metadata": {},
   "outputs": [],
   "source": [
    "X_trainf_0['Prediction'] = '0'"
   ]
  },
  {
   "cell_type": "code",
   "execution_count": 153,
   "metadata": {},
   "outputs": [
    {
     "data": {
      "text/html": [
       "<div>\n",
       "<style scoped>\n",
       "    .dataframe tbody tr th:only-of-type {\n",
       "        vertical-align: middle;\n",
       "    }\n",
       "\n",
       "    .dataframe tbody tr th {\n",
       "        vertical-align: top;\n",
       "    }\n",
       "\n",
       "    .dataframe thead th {\n",
       "        text-align: right;\n",
       "    }\n",
       "</style>\n",
       "<table border=\"1\" class=\"dataframe\">\n",
       "  <thead>\n",
       "    <tr style=\"text-align: right;\">\n",
       "      <th></th>\n",
       "      <th>Responses</th>\n",
       "      <th>sentiment_header</th>\n",
       "      <th>readibility_level</th>\n",
       "      <th>Keyword_no</th>\n",
       "      <th>Minute_read</th>\n",
       "      <th>PublicationT</th>\n",
       "    </tr>\n",
       "  </thead>\n",
       "  <tbody>\n",
       "    <tr>\n",
       "      <th>69034</th>\n",
       "      <td>0</td>\n",
       "      <td>0.0000</td>\n",
       "      <td>12.3</td>\n",
       "      <td>41</td>\n",
       "      <td>1</td>\n",
       "      <td>3049.0</td>\n",
       "    </tr>\n",
       "    <tr>\n",
       "      <th>58584</th>\n",
       "      <td>0</td>\n",
       "      <td>0.0000</td>\n",
       "      <td>10.7</td>\n",
       "      <td>162</td>\n",
       "      <td>7</td>\n",
       "      <td>3049.0</td>\n",
       "    </tr>\n",
       "    <tr>\n",
       "      <th>97938</th>\n",
       "      <td>0</td>\n",
       "      <td>0.0000</td>\n",
       "      <td>67.6</td>\n",
       "      <td>23</td>\n",
       "      <td>0</td>\n",
       "      <td>3049.0</td>\n",
       "    </tr>\n",
       "    <tr>\n",
       "      <th>185249</th>\n",
       "      <td>0</td>\n",
       "      <td>0.0000</td>\n",
       "      <td>11.7</td>\n",
       "      <td>190</td>\n",
       "      <td>6</td>\n",
       "      <td>473.0</td>\n",
       "    </tr>\n",
       "    <tr>\n",
       "      <th>24543</th>\n",
       "      <td>0</td>\n",
       "      <td>0.0000</td>\n",
       "      <td>11.4</td>\n",
       "      <td>167</td>\n",
       "      <td>7</td>\n",
       "      <td>3049.0</td>\n",
       "    </tr>\n",
       "    <tr>\n",
       "      <th>...</th>\n",
       "      <td>...</td>\n",
       "      <td>...</td>\n",
       "      <td>...</td>\n",
       "      <td>...</td>\n",
       "      <td>...</td>\n",
       "      <td>...</td>\n",
       "    </tr>\n",
       "    <tr>\n",
       "      <th>129692</th>\n",
       "      <td>0</td>\n",
       "      <td>0.0000</td>\n",
       "      <td>24.1</td>\n",
       "      <td>147</td>\n",
       "      <td>7</td>\n",
       "      <td>3049.0</td>\n",
       "    </tr>\n",
       "    <tr>\n",
       "      <th>32355</th>\n",
       "      <td>0</td>\n",
       "      <td>0.2263</td>\n",
       "      <td>13.9</td>\n",
       "      <td>44</td>\n",
       "      <td>2</td>\n",
       "      <td>3049.0</td>\n",
       "    </tr>\n",
       "    <tr>\n",
       "      <th>203808</th>\n",
       "      <td>0</td>\n",
       "      <td>-0.5859</td>\n",
       "      <td>15.0</td>\n",
       "      <td>99</td>\n",
       "      <td>5</td>\n",
       "      <td>3049.0</td>\n",
       "    </tr>\n",
       "    <tr>\n",
       "      <th>207716</th>\n",
       "      <td>0</td>\n",
       "      <td>0.0000</td>\n",
       "      <td>12.8</td>\n",
       "      <td>329</td>\n",
       "      <td>14</td>\n",
       "      <td>3049.0</td>\n",
       "    </tr>\n",
       "    <tr>\n",
       "      <th>21720</th>\n",
       "      <td>0</td>\n",
       "      <td>0.0000</td>\n",
       "      <td>14.4</td>\n",
       "      <td>39</td>\n",
       "      <td>1</td>\n",
       "      <td>3049.0</td>\n",
       "    </tr>\n",
       "  </tbody>\n",
       "</table>\n",
       "<p>22462 rows × 6 columns</p>\n",
       "</div>"
      ],
      "text/plain": [
       "        Responses  sentiment_header  readibility_level  Keyword_no  \\\n",
       "69034           0            0.0000               12.3          41   \n",
       "58584           0            0.0000               10.7         162   \n",
       "97938           0            0.0000               67.6          23   \n",
       "185249          0            0.0000               11.7         190   \n",
       "24543           0            0.0000               11.4         167   \n",
       "...           ...               ...                ...         ...   \n",
       "129692          0            0.0000               24.1         147   \n",
       "32355           0            0.2263               13.9          44   \n",
       "203808          0           -0.5859               15.0          99   \n",
       "207716          0            0.0000               12.8         329   \n",
       "21720           0            0.0000               14.4          39   \n",
       "\n",
       "        Minute_read  PublicationT  \n",
       "69034             1        3049.0  \n",
       "58584             7        3049.0  \n",
       "97938             0        3049.0  \n",
       "185249            6         473.0  \n",
       "24543             7        3049.0  \n",
       "...             ...           ...  \n",
       "129692            7        3049.0  \n",
       "32355             2        3049.0  \n",
       "203808            5        3049.0  \n",
       "207716           14        3049.0  \n",
       "21720             1        3049.0  \n",
       "\n",
       "[22462 rows x 6 columns]"
      ]
     },
     "execution_count": 153,
     "metadata": {},
     "output_type": "execute_result"
    }
   ],
   "source": [
    "X_trainf_L"
   ]
  },
  {
   "cell_type": "code",
   "execution_count": 154,
   "metadata": {},
   "outputs": [
    {
     "data": {
      "text/html": [
       "<div>\n",
       "<style scoped>\n",
       "    .dataframe tbody tr th:only-of-type {\n",
       "        vertical-align: middle;\n",
       "    }\n",
       "\n",
       "    .dataframe tbody tr th {\n",
       "        vertical-align: top;\n",
       "    }\n",
       "\n",
       "    .dataframe thead th {\n",
       "        text-align: right;\n",
       "    }\n",
       "</style>\n",
       "<table border=\"1\" class=\"dataframe\">\n",
       "  <thead>\n",
       "    <tr style=\"text-align: right;\">\n",
       "      <th></th>\n",
       "      <th>Claps</th>\n",
       "    </tr>\n",
       "  </thead>\n",
       "  <tbody>\n",
       "    <tr>\n",
       "      <th>69034</th>\n",
       "      <td>71</td>\n",
       "    </tr>\n",
       "    <tr>\n",
       "      <th>58584</th>\n",
       "      <td>51</td>\n",
       "    </tr>\n",
       "    <tr>\n",
       "      <th>97938</th>\n",
       "      <td>6</td>\n",
       "    </tr>\n",
       "    <tr>\n",
       "      <th>185249</th>\n",
       "      <td>1</td>\n",
       "    </tr>\n",
       "    <tr>\n",
       "      <th>24543</th>\n",
       "      <td>50</td>\n",
       "    </tr>\n",
       "    <tr>\n",
       "      <th>...</th>\n",
       "      <td>...</td>\n",
       "    </tr>\n",
       "    <tr>\n",
       "      <th>129692</th>\n",
       "      <td>2</td>\n",
       "    </tr>\n",
       "    <tr>\n",
       "      <th>32355</th>\n",
       "      <td>11</td>\n",
       "    </tr>\n",
       "    <tr>\n",
       "      <th>203808</th>\n",
       "      <td>8</td>\n",
       "    </tr>\n",
       "    <tr>\n",
       "      <th>207716</th>\n",
       "      <td>60</td>\n",
       "    </tr>\n",
       "    <tr>\n",
       "      <th>21720</th>\n",
       "      <td>13</td>\n",
       "    </tr>\n",
       "  </tbody>\n",
       "</table>\n",
       "<p>22462 rows × 1 columns</p>\n",
       "</div>"
      ],
      "text/plain": [
       "        Claps\n",
       "69034      71\n",
       "58584      51\n",
       "97938       6\n",
       "185249      1\n",
       "24543      50\n",
       "...       ...\n",
       "129692      2\n",
       "32355      11\n",
       "203808      8\n",
       "207716     60\n",
       "21720      13\n",
       "\n",
       "[22462 rows x 1 columns]"
      ]
     },
     "execution_count": 154,
     "metadata": {},
     "output_type": "execute_result"
    }
   ],
   "source": [
    "y_trainf_L"
   ]
  },
  {
   "cell_type": "code",
   "execution_count": 155,
   "metadata": {},
   "outputs": [],
   "source": [
    "xgbmodel = xgb.XGBRegressor(learning_rate=0.1, max_depth=5, n_estimators=100)\n",
    "y_pred_xgbr = xgbmodel.fit(X_trainf_L, y_trainf_L).predict(X_testaf_L)"
   ]
  },
  {
   "cell_type": "markdown",
   "metadata": {},
   "source": [
    "We then here use cross validation to get the best parameters out of XGBoost."
   ]
  },
  {
   "cell_type": "code",
   "execution_count": 156,
   "metadata": {},
   "outputs": [],
   "source": [
    "# parameters = {'n_estimators': [25, 50, 75, 100, 125, 150, 175, 200], 'learning_rate': [0.1, 0.2, 0.3, 0.4, 0.5, 0.6, 0.7], 'max_depth': [2, 3, 4, 5, None]}\n",
    "# xg = GridSearchCV(xgb.XGBRegressor(), parameters, cv = 5, scoring = 'neg_mean_squared_error', verbose=100)"
   ]
  },
  {
   "cell_type": "code",
   "execution_count": 157,
   "metadata": {},
   "outputs": [],
   "source": [
    "# xg.fit(X_trainf_L, y_trainf_L)\n",
    "# xg.best_score_"
   ]
  },
  {
   "cell_type": "code",
   "execution_count": 158,
   "metadata": {},
   "outputs": [],
   "source": [
    "from sklearn.metrics import r2_score"
   ]
  },
  {
   "cell_type": "code",
   "execution_count": 159,
   "metadata": {},
   "outputs": [
    {
     "data": {
      "text/plain": [
       "613.1064389579954"
      ]
     },
     "execution_count": 159,
     "metadata": {},
     "output_type": "execute_result"
    }
   ],
   "source": [
    "mean_squared_error(y_testaf_L, y_pred_xgbr)"
   ]
  },
  {
   "cell_type": "code",
   "execution_count": 160,
   "metadata": {},
   "outputs": [
    {
     "data": {
      "text/plain": [
       "0.11963526575206174"
      ]
     },
     "execution_count": 160,
     "metadata": {},
     "output_type": "execute_result"
    }
   ],
   "source": [
    "r2_score(y_testaf_L, y_pred_xgbr)"
   ]
  },
  {
   "cell_type": "code",
   "execution_count": 161,
   "metadata": {},
   "outputs": [
    {
     "data": {
      "text/plain": [
       "<AxesSubplot:title={'center':'Feature importance'}, xlabel='F score', ylabel='Features'>"
      ]
     },
     "execution_count": 161,
     "metadata": {},
     "output_type": "execute_result"
    },
    {
     "data": {
      "image/png": "[encoded data removed]",
      "text/plain": [
       "<Figure size 432x288 with 1 Axes>"
      ]
     },
     "metadata": {
      "needs_background": "light"
     },
     "output_type": "display_data"
    }
   ],
   "source": [
    "xgb.plot_importance(xgbmodel)"
   ]
  },
  {
   "cell_type": "markdown",
   "metadata": {},
   "source": [
    "We here attempt to try a sklearn NN, and RF regressors."
   ]
  },
  {
   "cell_type": "code",
   "execution_count": 162,
   "metadata": {},
   "outputs": [],
   "source": [
    "from sklearn.neural_network import MLPRegressor"
   ]
  },
  {
   "cell_type": "code",
   "execution_count": 163,
   "metadata": {},
   "outputs": [
    {
     "name": "stderr",
     "output_type": "stream",
     "text": [
      "c:\\users\\alex work\\pycharmprojects\\adams\\venv2\\lib\\site-packages\\sklearn\\utils\\validation.py:72: DataConversionWarning: A column-vector y was passed when a 1d array was expected. Please change the shape of y to (n_samples, ), for example using ravel().\n",
      "  return f(**kwargs)\n"
     ]
    }
   ],
   "source": [
    "nn_model = MLPRegressor()\n",
    "y_pred_nn = nn_model.fit(X_trainf_L, y_trainf_L).predict(X_testaf_L)"
   ]
  },
  {
   "cell_type": "code",
   "execution_count": 164,
   "metadata": {},
   "outputs": [
    {
     "data": {
      "text/plain": [
       "697.1307977698033"
      ]
     },
     "execution_count": 164,
     "metadata": {},
     "output_type": "execute_result"
    }
   ],
   "source": [
    "mean_squared_error(y_testaf_L, y_pred_nn)"
   ]
  },
  {
   "cell_type": "code",
   "execution_count": 165,
   "metadata": {},
   "outputs": [
    {
     "data": {
      "text/plain": [
       "-0.0010160235109084592"
      ]
     },
     "execution_count": 165,
     "metadata": {},
     "output_type": "execute_result"
    }
   ],
   "source": [
    "r2_score(y_testaf_L, y_pred_nn)"
   ]
  },
  {
   "cell_type": "code",
   "execution_count": 166,
   "metadata": {},
   "outputs": [],
   "source": [
    "from sklearn.ensemble import RandomForestRegressor"
   ]
  },
  {
   "cell_type": "code",
   "execution_count": 167,
   "metadata": {},
   "outputs": [
    {
     "name": "stderr",
     "output_type": "stream",
     "text": [
      "<ipython-input-167-cac0d0684df4>:2: DataConversionWarning: A column-vector y was passed when a 1d array was expected. Please change the shape of y to (n_samples,), for example using ravel().\n",
      "  y_pred_rf = rf_model.fit(X_trainf_L, y_trainf_L).predict(X_testaf_L)\n"
     ]
    }
   ],
   "source": [
    "rf_model = RandomForestRegressor()\n",
    "y_pred_rf = rf_model.fit(X_trainf_L, y_trainf_L).predict(X_testaf_L)"
   ]
  },
  {
   "cell_type": "code",
   "execution_count": 168,
   "metadata": {},
   "outputs": [
    {
     "data": {
      "text/plain": [
       "689.8800356503048"
      ]
     },
     "execution_count": 168,
     "metadata": {},
     "output_type": "execute_result"
    }
   ],
   "source": [
    "mean_squared_error(y_testaf_L, y_pred_rf)"
   ]
  },
  {
   "cell_type": "code",
   "execution_count": 169,
   "metadata": {},
   "outputs": [
    {
     "name": "stderr",
     "output_type": "stream",
     "text": [
      "[MLENS] backend: threading\n"
     ]
    }
   ],
   "source": [
    "from mlens.ensemble import SuperLearner"
   ]
  },
  {
   "cell_type": "code",
   "execution_count": 170,
   "metadata": {},
   "outputs": [
    {
     "data": {
      "text/plain": [
       "SuperLearner(array_check=None, backend=None, folds=6,\n",
       "       layers=[Layer(backend='threading', dtype=<class 'numpy.float32'>, n_jobs=-1,\n",
       "   name='layer-1', propagate_features=None, raise_on_exception=True,\n",
       "   random_state=235, shuffle=False,\n",
       "   stack=[Group(backend='threading', dtype=<class 'numpy.float32'>,\n",
       "   indexer=FoldIndex(X=None, folds=6, raise_on_exc...0482040>)],\n",
       "   n_jobs=-1, name='group-1', raise_on_exception=True, transformers=[])],\n",
       "   verbose=0)],\n",
       "       model_selection=False, n_jobs=None, raise_on_exception=True,\n",
       "       random_state=1, sample_size=20,\n",
       "       scorer=<function mean_squared_error at 0x000001E0B0482040>,\n",
       "       shuffle=False, verbose=False)"
      ]
     },
     "execution_count": 170,
     "metadata": {},
     "output_type": "execute_result"
    }
   ],
   "source": [
    "ensemble_r = SuperLearner(folds=6, scorer=mean_squared_error, random_state=1)\n",
    "ensemble_r.add([rf_model, xgbmodel])\n",
    "ensemble_r.add_meta(xgbmodel)"
   ]
  },
  {
   "cell_type": "code",
   "execution_count": 171,
   "metadata": {},
   "outputs": [
    {
     "name": "stderr",
     "output_type": "stream",
     "text": [
      "c:\\users\\alex work\\pycharmprojects\\adams\\venv2\\lib\\site-packages\\mlens\\parallel\\learner.py:179: DataConversionWarning: A column-vector y was passed when a 1d array was expected. Please change the shape of y to (n_samples,), for example using ravel().\n",
      "  self.estimator.fit(xtemp, ytemp)\n",
      "c:\\users\\alex work\\pycharmprojects\\adams\\venv2\\lib\\site-packages\\mlens\\parallel\\learner.py:179: DataConversionWarning: A column-vector y was passed when a 1d array was expected. Please change the shape of y to (n_samples,), for example using ravel().\n",
      "  self.estimator.fit(xtemp, ytemp)\n",
      "c:\\users\\alex work\\pycharmprojects\\adams\\venv2\\lib\\site-packages\\mlens\\parallel\\learner.py:179: DataConversionWarning: A column-vector y was passed when a 1d array was expected. Please change the shape of y to (n_samples,), for example using ravel().\n",
      "  self.estimator.fit(xtemp, ytemp)\n",
      "c:\\users\\alex work\\pycharmprojects\\adams\\venv2\\lib\\site-packages\\mlens\\parallel\\learner.py:179: DataConversionWarning: A column-vector y was passed when a 1d array was expected. Please change the shape of y to (n_samples,), for example using ravel().\n",
      "  self.estimator.fit(xtemp, ytemp)\n",
      "c:\\users\\alex work\\pycharmprojects\\adams\\venv2\\lib\\site-packages\\mlens\\parallel\\learner.py:179: DataConversionWarning: A column-vector y was passed when a 1d array was expected. Please change the shape of y to (n_samples,), for example using ravel().\n",
      "  self.estimator.fit(xtemp, ytemp)\n",
      "c:\\users\\alex work\\pycharmprojects\\adams\\venv2\\lib\\site-packages\\mlens\\parallel\\learner.py:179: DataConversionWarning: A column-vector y was passed when a 1d array was expected. Please change the shape of y to (n_samples,), for example using ravel().\n",
      "  self.estimator.fit(xtemp, ytemp)\n",
      "c:\\users\\alex work\\pycharmprojects\\adams\\venv2\\lib\\site-packages\\mlens\\parallel\\learner.py:179: DataConversionWarning: A column-vector y was passed when a 1d array was expected. Please change the shape of y to (n_samples,), for example using ravel().\n",
      "  self.estimator.fit(xtemp, ytemp)\n"
     ]
    }
   ],
   "source": [
    "y_ensemble_pred_r = ensemble_r.fit(X_trainf_L, y_trainf_L).predict(X_testaf_L)"
   ]
  },
  {
   "cell_type": "code",
   "execution_count": 172,
   "metadata": {},
   "outputs": [],
   "source": [
    "r2_score_ensemble_r = r2_score(y_testaf_L, y_ensemble_pred_r)"
   ]
  },
  {
   "cell_type": "code",
   "execution_count": 173,
   "metadata": {},
   "outputs": [
    {
     "data": {
      "text/plain": [
       "0.11117780507007902"
      ]
     },
     "execution_count": 173,
     "metadata": {},
     "output_type": "execute_result"
    }
   ],
   "source": [
    "r2_score_ensemble_r"
   ]
  },
  {
   "cell_type": "code",
   "execution_count": 174,
   "metadata": {},
   "outputs": [
    {
     "data": {
      "text/plain": [
       "618.9964109203404"
      ]
     },
     "execution_count": 174,
     "metadata": {},
     "output_type": "execute_result"
    }
   ],
   "source": [
    "mean_squared_error(y_testaf_L, y_ensemble_pred_r)"
   ]
  },
  {
   "cell_type": "code",
   "execution_count": 175,
   "metadata": {},
   "outputs": [],
   "source": [
    "xgbmodel2 = xgb.XGBRegressor(learning_rate=0.1, max_depth=5, n_estimators=100)\n",
    "y_pred2_xgbr = xgbmodel2.fit(X_trainf_H, y_trainf_H).predict(X_testaf_H)"
   ]
  },
  {
   "cell_type": "code",
   "execution_count": 176,
   "metadata": {
    "scrolled": true
   },
   "outputs": [
    {
     "data": {
      "text/plain": [
       "0.43548182224119414"
      ]
     },
     "execution_count": 176,
     "metadata": {},
     "output_type": "execute_result"
    }
   ],
   "source": [
    "r2_score(y_testaf_H, y_pred2_xgbr)"
   ]
  },
  {
   "cell_type": "code",
   "execution_count": 177,
   "metadata": {},
   "outputs": [
    {
     "data": {
      "text/plain": [
       "2693057.9217802887"
      ]
     },
     "execution_count": 177,
     "metadata": {},
     "output_type": "execute_result"
    }
   ],
   "source": [
    "mean_squared_error(y_testaf_H, y_pred2_xgbr)"
   ]
  },
  {
   "cell_type": "code",
   "execution_count": 178,
   "metadata": {},
   "outputs": [
    {
     "data": {
      "text/plain": [
       "<AxesSubplot:title={'center':'Feature importance'}, xlabel='F score', ylabel='Features'>"
      ]
     },
     "execution_count": 178,
     "metadata": {},
     "output_type": "execute_result"
    },
    {
     "data": {
      "image/png": "[encoded data removed]",
      "text/plain": [
       "<Figure size 432x288 with 1 Axes>"
      ]
     },
     "metadata": {
      "needs_background": "light"
     },
     "output_type": "display_data"
    }
   ],
   "source": [
    "xgb.plot_importance(xgbmodel)"
   ]
  },
  {
   "cell_type": "code",
   "execution_count": 179,
   "metadata": {},
   "outputs": [
    {
     "name": "stderr",
     "output_type": "stream",
     "text": [
      "c:\\users\\alex work\\pycharmprojects\\adams\\venv2\\lib\\site-packages\\sklearn\\utils\\validation.py:72: DataConversionWarning: A column-vector y was passed when a 1d array was expected. Please change the shape of y to (n_samples, ), for example using ravel().\n",
      "  return f(**kwargs)\n"
     ]
    }
   ],
   "source": [
    "nn2_model = MLPRegressor()\n",
    "y_pred2_nn = nn2_model.fit(X_trainf_H, y_trainf_H).predict(X_testaf_H)"
   ]
  },
  {
   "cell_type": "code",
   "execution_count": 180,
   "metadata": {},
   "outputs": [
    {
     "data": {
      "text/plain": [
       "2827488.975550999"
      ]
     },
     "execution_count": 180,
     "metadata": {},
     "output_type": "execute_result"
    }
   ],
   "source": [
    "mean_squared_error(y_testaf_H, y_pred2_nn)"
   ]
  },
  {
   "cell_type": "code",
   "execution_count": 181,
   "metadata": {},
   "outputs": [
    {
     "data": {
      "text/plain": [
       "0.4073024158886305"
      ]
     },
     "execution_count": 181,
     "metadata": {},
     "output_type": "execute_result"
    }
   ],
   "source": [
    "r2_score(y_testaf_H, y_pred2_nn)"
   ]
  },
  {
   "cell_type": "code",
   "execution_count": 182,
   "metadata": {},
   "outputs": [
    {
     "name": "stderr",
     "output_type": "stream",
     "text": [
      "<ipython-input-182-ad54877920c6>:2: DataConversionWarning: A column-vector y was passed when a 1d array was expected. Please change the shape of y to (n_samples,), for example using ravel().\n",
      "  y_pred2_rf = rf2_model.fit(X_trainf_H, y_trainf_H).predict(X_testaf_H)\n"
     ]
    }
   ],
   "source": [
    "rf2_model = RandomForestRegressor()\n",
    "y_pred2_rf = rf2_model.fit(X_trainf_H, y_trainf_H).predict(X_testaf_H)"
   ]
  },
  {
   "cell_type": "code",
   "execution_count": 183,
   "metadata": {},
   "outputs": [
    {
     "data": {
      "text/plain": [
       "3105088.4043566864"
      ]
     },
     "execution_count": 183,
     "metadata": {},
     "output_type": "execute_result"
    }
   ],
   "source": [
    "mean_squared_error(y_testaf_H, y_pred2_rf)"
   ]
  },
  {
   "cell_type": "code",
   "execution_count": 184,
   "metadata": {},
   "outputs": [
    {
     "data": {
      "text/plain": [
       "0.3491120879239513"
      ]
     },
     "execution_count": 184,
     "metadata": {},
     "output_type": "execute_result"
    }
   ],
   "source": [
    "r2_score(y_testaf_H, y_pred2_rf)"
   ]
  },
  {
   "cell_type": "markdown",
   "metadata": {},
   "source": [
    "After choosing the best of our models for regression for every bin respectively, we then use predicted classification plus regression on the separate test set ```testB```."
   ]
  },
  {
   "cell_type": "code",
   "execution_count": 185,
   "metadata": {},
   "outputs": [
    {
     "name": "stderr",
     "output_type": "stream",
     "text": [
      "<ipython-input-185-9051776e1309>:2: SettingWithCopyWarning: \n",
      "A value is trying to be set on a copy of a slice from a DataFrame.\n",
      "Try using .loc[row_indexer,col_indexer] = value instead\n",
      "\n",
      "See the caveats in the documentation: https://pandas.pydata.org/pandas-docs/stable/user_guide/indexing.html#returning-a-view-versus-a-copy\n",
      "  y_testbf['PredClapLevel'] = y_ensemble_pred2\n"
     ]
    }
   ],
   "source": [
    "X_testbf['PredClapLevel'] = y_ensemble_pred2\n",
    "y_testbf['PredClapLevel'] = y_ensemble_pred2"
   ]
  },
  {
   "cell_type": "code",
   "execution_count": 186,
   "metadata": {},
   "outputs": [
    {
     "data": {
      "text/html": [
       "<div>\n",
       "<style scoped>\n",
       "    .dataframe tbody tr th:only-of-type {\n",
       "        vertical-align: middle;\n",
       "    }\n",
       "\n",
       "    .dataframe tbody tr th {\n",
       "        vertical-align: top;\n",
       "    }\n",
       "\n",
       "    .dataframe thead th {\n",
       "        text-align: right;\n",
       "    }\n",
       "</style>\n",
       "<table border=\"1\" class=\"dataframe\">\n",
       "  <thead>\n",
       "    <tr style=\"text-align: right;\">\n",
       "      <th></th>\n",
       "      <th>Responses</th>\n",
       "      <th>sentiment_header</th>\n",
       "      <th>readibility_level</th>\n",
       "      <th>Keyword_no</th>\n",
       "      <th>HeaderHasDigits</th>\n",
       "      <th>Minute_read</th>\n",
       "      <th>PublicationT</th>\n",
       "      <th>PopularPublicationT</th>\n",
       "      <th>LanguageT</th>\n",
       "      <th>Clap_level</th>\n",
       "      <th>PredClapLevel</th>\n",
       "    </tr>\n",
       "  </thead>\n",
       "  <tbody>\n",
       "    <tr>\n",
       "      <th>206047</th>\n",
       "      <td>0</td>\n",
       "      <td>0.0000</td>\n",
       "      <td>23.0</td>\n",
       "      <td>48</td>\n",
       "      <td>True</td>\n",
       "      <td>2</td>\n",
       "      <td>3049.0</td>\n",
       "      <td>2.0</td>\n",
       "      <td>0.0</td>\n",
       "      <td>Low</td>\n",
       "      <td>No</td>\n",
       "    </tr>\n",
       "    <tr>\n",
       "      <th>221845</th>\n",
       "      <td>0</td>\n",
       "      <td>0.0000</td>\n",
       "      <td>14.3</td>\n",
       "      <td>66</td>\n",
       "      <td>False</td>\n",
       "      <td>3</td>\n",
       "      <td>3049.0</td>\n",
       "      <td>2.0</td>\n",
       "      <td>0.0</td>\n",
       "      <td>Low</td>\n",
       "      <td>Low</td>\n",
       "    </tr>\n",
       "    <tr>\n",
       "      <th>179118</th>\n",
       "      <td>0</td>\n",
       "      <td>0.3400</td>\n",
       "      <td>12.1</td>\n",
       "      <td>67</td>\n",
       "      <td>False</td>\n",
       "      <td>2</td>\n",
       "      <td>3049.0</td>\n",
       "      <td>2.0</td>\n",
       "      <td>0.0</td>\n",
       "      <td>No</td>\n",
       "      <td>No</td>\n",
       "    </tr>\n",
       "    <tr>\n",
       "      <th>165251</th>\n",
       "      <td>0</td>\n",
       "      <td>-0.5994</td>\n",
       "      <td>15.3</td>\n",
       "      <td>120</td>\n",
       "      <td>False</td>\n",
       "      <td>4</td>\n",
       "      <td>3335.0</td>\n",
       "      <td>2.0</td>\n",
       "      <td>0.0</td>\n",
       "      <td>No</td>\n",
       "      <td>No</td>\n",
       "    </tr>\n",
       "    <tr>\n",
       "      <th>239379</th>\n",
       "      <td>0</td>\n",
       "      <td>0.0000</td>\n",
       "      <td>11.0</td>\n",
       "      <td>102</td>\n",
       "      <td>False</td>\n",
       "      <td>3</td>\n",
       "      <td>4264.0</td>\n",
       "      <td>2.0</td>\n",
       "      <td>0.0</td>\n",
       "      <td>Low</td>\n",
       "      <td>Low</td>\n",
       "    </tr>\n",
       "    <tr>\n",
       "      <th>...</th>\n",
       "      <td>...</td>\n",
       "      <td>...</td>\n",
       "      <td>...</td>\n",
       "      <td>...</td>\n",
       "      <td>...</td>\n",
       "      <td>...</td>\n",
       "      <td>...</td>\n",
       "      <td>...</td>\n",
       "      <td>...</td>\n",
       "      <td>...</td>\n",
       "      <td>...</td>\n",
       "    </tr>\n",
       "    <tr>\n",
       "      <th>60463</th>\n",
       "      <td>0</td>\n",
       "      <td>0.0000</td>\n",
       "      <td>12.8</td>\n",
       "      <td>169</td>\n",
       "      <td>False</td>\n",
       "      <td>6</td>\n",
       "      <td>3186.0</td>\n",
       "      <td>2.0</td>\n",
       "      <td>0.0</td>\n",
       "      <td>No</td>\n",
       "      <td>High</td>\n",
       "    </tr>\n",
       "    <tr>\n",
       "      <th>276490</th>\n",
       "      <td>0</td>\n",
       "      <td>0.5719</td>\n",
       "      <td>18.1</td>\n",
       "      <td>272</td>\n",
       "      <td>False</td>\n",
       "      <td>9</td>\n",
       "      <td>558.0</td>\n",
       "      <td>0.0</td>\n",
       "      <td>0.0</td>\n",
       "      <td>Low</td>\n",
       "      <td>Low</td>\n",
       "    </tr>\n",
       "    <tr>\n",
       "      <th>151923</th>\n",
       "      <td>0</td>\n",
       "      <td>0.0000</td>\n",
       "      <td>16.2</td>\n",
       "      <td>199</td>\n",
       "      <td>False</td>\n",
       "      <td>7</td>\n",
       "      <td>5396.0</td>\n",
       "      <td>2.0</td>\n",
       "      <td>0.0</td>\n",
       "      <td>Low</td>\n",
       "      <td>Low</td>\n",
       "    </tr>\n",
       "    <tr>\n",
       "      <th>108362</th>\n",
       "      <td>0</td>\n",
       "      <td>0.0000</td>\n",
       "      <td>11.5</td>\n",
       "      <td>69</td>\n",
       "      <td>True</td>\n",
       "      <td>2</td>\n",
       "      <td>3049.0</td>\n",
       "      <td>2.0</td>\n",
       "      <td>0.0</td>\n",
       "      <td>No</td>\n",
       "      <td>Low</td>\n",
       "    </tr>\n",
       "    <tr>\n",
       "      <th>266909</th>\n",
       "      <td>3</td>\n",
       "      <td>0.0000</td>\n",
       "      <td>12.8</td>\n",
       "      <td>82</td>\n",
       "      <td>False</td>\n",
       "      <td>3</td>\n",
       "      <td>5217.0</td>\n",
       "      <td>2.0</td>\n",
       "      <td>0.0</td>\n",
       "      <td>High</td>\n",
       "      <td>High</td>\n",
       "    </tr>\n",
       "  </tbody>\n",
       "</table>\n",
       "<p>9949 rows × 11 columns</p>\n",
       "</div>"
      ],
      "text/plain": [
       "        Responses  sentiment_header  readibility_level  Keyword_no  \\\n",
       "206047          0            0.0000               23.0          48   \n",
       "221845          0            0.0000               14.3          66   \n",
       "179118          0            0.3400               12.1          67   \n",
       "165251          0           -0.5994               15.3         120   \n",
       "239379          0            0.0000               11.0         102   \n",
       "...           ...               ...                ...         ...   \n",
       "60463           0            0.0000               12.8         169   \n",
       "276490          0            0.5719               18.1         272   \n",
       "151923          0            0.0000               16.2         199   \n",
       "108362          0            0.0000               11.5          69   \n",
       "266909          3            0.0000               12.8          82   \n",
       "\n",
       "        HeaderHasDigits  Minute_read  PublicationT  PopularPublicationT  \\\n",
       "206047             True            2        3049.0                  2.0   \n",
       "221845            False            3        3049.0                  2.0   \n",
       "179118            False            2        3049.0                  2.0   \n",
       "165251            False            4        3335.0                  2.0   \n",
       "239379            False            3        4264.0                  2.0   \n",
       "...                 ...          ...           ...                  ...   \n",
       "60463             False            6        3186.0                  2.0   \n",
       "276490            False            9         558.0                  0.0   \n",
       "151923            False            7        5396.0                  2.0   \n",
       "108362             True            2        3049.0                  2.0   \n",
       "266909            False            3        5217.0                  2.0   \n",
       "\n",
       "        LanguageT Clap_level PredClapLevel  \n",
       "206047        0.0        Low            No  \n",
       "221845        0.0        Low           Low  \n",
       "179118        0.0         No            No  \n",
       "165251        0.0         No            No  \n",
       "239379        0.0        Low           Low  \n",
       "...           ...        ...           ...  \n",
       "60463         0.0         No          High  \n",
       "276490        0.0        Low           Low  \n",
       "151923        0.0        Low           Low  \n",
       "108362        0.0         No           Low  \n",
       "266909        0.0       High          High  \n",
       "\n",
       "[9949 rows x 11 columns]"
      ]
     },
     "execution_count": 186,
     "metadata": {},
     "output_type": "execute_result"
    }
   ],
   "source": [
    "X_testbf"
   ]
  },
  {
   "cell_type": "code",
   "execution_count": 187,
   "metadata": {},
   "outputs": [],
   "source": [
    "X_testbf_0 = X_testbf[X_testbf['PredClapLevel'] == 'No']\n",
    "X_testbf_L = X_testbf[X_testbf['PredClapLevel'] == 'Low']\n",
    "X_testbf_H = X_testbf[X_testbf['PredClapLevel'] == 'High']\n",
    "y_testbf_0 = y_testbf[y_testbf['PredClapLevel'] == 'No']\n",
    "y_testbf_L = y_testbf[y_testbf['PredClapLevel'] == 'Low']\n",
    "y_testbf_H = y_testbf[y_testbf['PredClapLevel'] == 'High']"
   ]
  },
  {
   "cell_type": "code",
   "execution_count": 188,
   "metadata": {},
   "outputs": [],
   "source": [
    "X_testbf_0 = X_testbf_0.drop(columns=['PredClapLevel', 'Clap_level'])\n",
    "X_testbf_L = X_testbf_L.drop(columns=['PredClapLevel', 'Clap_level', 'HeaderHasDigits', 'PopularPublicationT', 'LanguageT'])\n",
    "X_testbf_H = X_testbf_H.drop(columns=['PredClapLevel', 'Clap_level'])\n",
    "y_testbf_0 = y_testbf_0.drop(columns=['PredClapLevel', 'Clap_level'])\n",
    "y_testbf_L = y_testbf_L.drop(columns=['PredClapLevel', 'Clap_level'])\n",
    "y_testbf_H = y_testbf_H.drop(columns=['PredClapLevel', 'Clap_level'])"
   ]
  },
  {
   "cell_type": "code",
   "execution_count": 189,
   "metadata": {},
   "outputs": [],
   "source": [
    "X_testbf_0['Prediction'] = '0'"
   ]
  },
  {
   "cell_type": "code",
   "execution_count": 190,
   "metadata": {},
   "outputs": [],
   "source": [
    "xgbmodel2 = xgb.XGBRegressor(learning_rate=0.1, max_depth=5, n_estimators=100)\n",
    "y_pred2_xgbr = xgbmodel2.fit(X_trainf_L, y_trainf_L).predict(X_testbf_L)"
   ]
  },
  {
   "cell_type": "code",
   "execution_count": 191,
   "metadata": {},
   "outputs": [
    {
     "name": "stderr",
     "output_type": "stream",
     "text": [
      "c:\\users\\alex work\\pycharmprojects\\adams\\venv2\\lib\\site-packages\\sklearn\\utils\\validation.py:72: DataConversionWarning: A column-vector y was passed when a 1d array was expected. Please change the shape of y to (n_samples, ), for example using ravel().\n",
      "  return f(**kwargs)\n",
      "c:\\users\\alex work\\pycharmprojects\\adams\\venv2\\lib\\site-packages\\sklearn\\neural_network\\_multilayer_perceptron.py:582: ConvergenceWarning: Stochastic Optimizer: Maximum iterations (200) reached and the optimization hasn't converged yet.\n",
      "  warnings.warn(\n"
     ]
    }
   ],
   "source": [
    "nn3_model = MLPRegressor()\n",
    "y_pred3_nn = nn3_model.fit(X_trainf_H, y_trainf_H).predict(X_testbf_H)"
   ]
  },
  {
   "cell_type": "code",
   "execution_count": 192,
   "metadata": {},
   "outputs": [],
   "source": [
    "X_testbf_L['Prediction'] = y_pred2_xgbr"
   ]
  },
  {
   "cell_type": "code",
   "execution_count": 193,
   "metadata": {},
   "outputs": [],
   "source": [
    "X_testbf_H['Prediction'] = y_pred3_nn"
   ]
  },
  {
   "cell_type": "code",
   "execution_count": 194,
   "metadata": {},
   "outputs": [],
   "source": [
    "X_testbf_0 = X_testbf_0.drop(columns=['HeaderHasDigits', 'PopularPublicationT', 'LanguageT'])\n",
    "X_testbf_H = X_testbf_H.drop(columns=[ 'HeaderHasDigits', 'PopularPublicationT', 'LanguageT'])"
   ]
  },
  {
   "cell_type": "code",
   "execution_count": 195,
   "metadata": {},
   "outputs": [
    {
     "data": {
      "text/html": [
       "<div>\n",
       "<style scoped>\n",
       "    .dataframe tbody tr th:only-of-type {\n",
       "        vertical-align: middle;\n",
       "    }\n",
       "\n",
       "    .dataframe tbody tr th {\n",
       "        vertical-align: top;\n",
       "    }\n",
       "\n",
       "    .dataframe thead th {\n",
       "        text-align: right;\n",
       "    }\n",
       "</style>\n",
       "<table border=\"1\" class=\"dataframe\">\n",
       "  <thead>\n",
       "    <tr style=\"text-align: right;\">\n",
       "      <th></th>\n",
       "      <th>Responses</th>\n",
       "      <th>sentiment_header</th>\n",
       "      <th>readibility_level</th>\n",
       "      <th>Keyword_no</th>\n",
       "      <th>Minute_read</th>\n",
       "      <th>PublicationT</th>\n",
       "      <th>Prediction</th>\n",
       "    </tr>\n",
       "  </thead>\n",
       "  <tbody>\n",
       "    <tr>\n",
       "      <th>171773</th>\n",
       "      <td>2</td>\n",
       "      <td>-0.5719</td>\n",
       "      <td>14.5</td>\n",
       "      <td>68</td>\n",
       "      <td>2</td>\n",
       "      <td>4784.0</td>\n",
       "      <td>308.381541</td>\n",
       "    </tr>\n",
       "    <tr>\n",
       "      <th>247896</th>\n",
       "      <td>1</td>\n",
       "      <td>0.0000</td>\n",
       "      <td>13.0</td>\n",
       "      <td>78</td>\n",
       "      <td>3</td>\n",
       "      <td>4784.0</td>\n",
       "      <td>152.642565</td>\n",
       "    </tr>\n",
       "    <tr>\n",
       "      <th>101272</th>\n",
       "      <td>6</td>\n",
       "      <td>0.0000</td>\n",
       "      <td>10.8</td>\n",
       "      <td>207</td>\n",
       "      <td>10</td>\n",
       "      <td>3049.0</td>\n",
       "      <td>1177.495488</td>\n",
       "    </tr>\n",
       "    <tr>\n",
       "      <th>162521</th>\n",
       "      <td>8</td>\n",
       "      <td>0.0772</td>\n",
       "      <td>12.0</td>\n",
       "      <td>162</td>\n",
       "      <td>7</td>\n",
       "      <td>1222.0</td>\n",
       "      <td>1540.171100</td>\n",
       "    </tr>\n",
       "    <tr>\n",
       "      <th>238180</th>\n",
       "      <td>1</td>\n",
       "      <td>0.0000</td>\n",
       "      <td>10.2</td>\n",
       "      <td>85</td>\n",
       "      <td>3</td>\n",
       "      <td>4784.0</td>\n",
       "      <td>146.024739</td>\n",
       "    </tr>\n",
       "    <tr>\n",
       "      <th>...</th>\n",
       "      <td>...</td>\n",
       "      <td>...</td>\n",
       "      <td>...</td>\n",
       "      <td>...</td>\n",
       "      <td>...</td>\n",
       "      <td>...</td>\n",
       "      <td>...</td>\n",
       "    </tr>\n",
       "    <tr>\n",
       "      <th>244088</th>\n",
       "      <td>1</td>\n",
       "      <td>0.0000</td>\n",
       "      <td>8.9</td>\n",
       "      <td>72</td>\n",
       "      <td>3</td>\n",
       "      <td>4784.0</td>\n",
       "      <td>157.556189</td>\n",
       "    </tr>\n",
       "    <tr>\n",
       "      <th>268110</th>\n",
       "      <td>1</td>\n",
       "      <td>0.2500</td>\n",
       "      <td>12.1</td>\n",
       "      <td>66</td>\n",
       "      <td>2</td>\n",
       "      <td>3432.0</td>\n",
       "      <td>168.606927</td>\n",
       "    </tr>\n",
       "    <tr>\n",
       "      <th>124195</th>\n",
       "      <td>3</td>\n",
       "      <td>0.0000</td>\n",
       "      <td>13.9</td>\n",
       "      <td>113</td>\n",
       "      <td>5</td>\n",
       "      <td>3049.0</td>\n",
       "      <td>516.787076</td>\n",
       "    </tr>\n",
       "    <tr>\n",
       "      <th>60463</th>\n",
       "      <td>0</td>\n",
       "      <td>0.0000</td>\n",
       "      <td>12.8</td>\n",
       "      <td>169</td>\n",
       "      <td>6</td>\n",
       "      <td>3186.0</td>\n",
       "      <td>-0.173425</td>\n",
       "    </tr>\n",
       "    <tr>\n",
       "      <th>266909</th>\n",
       "      <td>3</td>\n",
       "      <td>0.0000</td>\n",
       "      <td>12.8</td>\n",
       "      <td>82</td>\n",
       "      <td>3</td>\n",
       "      <td>5217.0</td>\n",
       "      <td>474.373917</td>\n",
       "    </tr>\n",
       "  </tbody>\n",
       "</table>\n",
       "<p>1285 rows × 7 columns</p>\n",
       "</div>"
      ],
      "text/plain": [
       "        Responses  sentiment_header  readibility_level  Keyword_no  \\\n",
       "171773          2           -0.5719               14.5          68   \n",
       "247896          1            0.0000               13.0          78   \n",
       "101272          6            0.0000               10.8         207   \n",
       "162521          8            0.0772               12.0         162   \n",
       "238180          1            0.0000               10.2          85   \n",
       "...           ...               ...                ...         ...   \n",
       "244088          1            0.0000                8.9          72   \n",
       "268110          1            0.2500               12.1          66   \n",
       "124195          3            0.0000               13.9         113   \n",
       "60463           0            0.0000               12.8         169   \n",
       "266909          3            0.0000               12.8          82   \n",
       "\n",
       "        Minute_read  PublicationT   Prediction  \n",
       "171773            2        4784.0   308.381541  \n",
       "247896            3        4784.0   152.642565  \n",
       "101272           10        3049.0  1177.495488  \n",
       "162521            7        1222.0  1540.171100  \n",
       "238180            3        4784.0   146.024739  \n",
       "...             ...           ...          ...  \n",
       "244088            3        4784.0   157.556189  \n",
       "268110            2        3432.0   168.606927  \n",
       "124195            5        3049.0   516.787076  \n",
       "60463             6        3186.0    -0.173425  \n",
       "266909            3        5217.0   474.373917  \n",
       "\n",
       "[1285 rows x 7 columns]"
      ]
     },
     "execution_count": 195,
     "metadata": {},
     "output_type": "execute_result"
    }
   ],
   "source": [
    "X_testbf_H"
   ]
  },
  {
   "cell_type": "code",
   "execution_count": 196,
   "metadata": {},
   "outputs": [
    {
     "data": {
      "text/html": [
       "<div>\n",
       "<style scoped>\n",
       "    .dataframe tbody tr th:only-of-type {\n",
       "        vertical-align: middle;\n",
       "    }\n",
       "\n",
       "    .dataframe tbody tr th {\n",
       "        vertical-align: top;\n",
       "    }\n",
       "\n",
       "    .dataframe thead th {\n",
       "        text-align: right;\n",
       "    }\n",
       "</style>\n",
       "<table border=\"1\" class=\"dataframe\">\n",
       "  <thead>\n",
       "    <tr style=\"text-align: right;\">\n",
       "      <th></th>\n",
       "      <th>Responses</th>\n",
       "      <th>sentiment_header</th>\n",
       "      <th>readibility_level</th>\n",
       "      <th>Keyword_no</th>\n",
       "      <th>Minute_read</th>\n",
       "      <th>PublicationT</th>\n",
       "      <th>Prediction</th>\n",
       "    </tr>\n",
       "  </thead>\n",
       "  <tbody>\n",
       "    <tr>\n",
       "      <th>206047</th>\n",
       "      <td>0</td>\n",
       "      <td>0.0000</td>\n",
       "      <td>23.0</td>\n",
       "      <td>48</td>\n",
       "      <td>2</td>\n",
       "      <td>3049.0</td>\n",
       "      <td>0</td>\n",
       "    </tr>\n",
       "    <tr>\n",
       "      <th>179118</th>\n",
       "      <td>0</td>\n",
       "      <td>0.3400</td>\n",
       "      <td>12.1</td>\n",
       "      <td>67</td>\n",
       "      <td>2</td>\n",
       "      <td>3049.0</td>\n",
       "      <td>0</td>\n",
       "    </tr>\n",
       "    <tr>\n",
       "      <th>165251</th>\n",
       "      <td>0</td>\n",
       "      <td>-0.5994</td>\n",
       "      <td>15.3</td>\n",
       "      <td>120</td>\n",
       "      <td>4</td>\n",
       "      <td>3335.0</td>\n",
       "      <td>0</td>\n",
       "    </tr>\n",
       "    <tr>\n",
       "      <th>226219</th>\n",
       "      <td>0</td>\n",
       "      <td>0.0000</td>\n",
       "      <td>14.8</td>\n",
       "      <td>63</td>\n",
       "      <td>2</td>\n",
       "      <td>3049.0</td>\n",
       "      <td>0</td>\n",
       "    </tr>\n",
       "    <tr>\n",
       "      <th>128859</th>\n",
       "      <td>0</td>\n",
       "      <td>-0.5413</td>\n",
       "      <td>11.5</td>\n",
       "      <td>96</td>\n",
       "      <td>3</td>\n",
       "      <td>3049.0</td>\n",
       "      <td>0</td>\n",
       "    </tr>\n",
       "    <tr>\n",
       "      <th>...</th>\n",
       "      <td>...</td>\n",
       "      <td>...</td>\n",
       "      <td>...</td>\n",
       "      <td>...</td>\n",
       "      <td>...</td>\n",
       "      <td>...</td>\n",
       "      <td>...</td>\n",
       "    </tr>\n",
       "    <tr>\n",
       "      <th>179036</th>\n",
       "      <td>0</td>\n",
       "      <td>0.0000</td>\n",
       "      <td>12.4</td>\n",
       "      <td>23</td>\n",
       "      <td>0</td>\n",
       "      <td>1757.0</td>\n",
       "      <td>0</td>\n",
       "    </tr>\n",
       "    <tr>\n",
       "      <th>50011</th>\n",
       "      <td>0</td>\n",
       "      <td>0.0000</td>\n",
       "      <td>9.8</td>\n",
       "      <td>119</td>\n",
       "      <td>3</td>\n",
       "      <td>232.0</td>\n",
       "      <td>0</td>\n",
       "    </tr>\n",
       "    <tr>\n",
       "      <th>21909</th>\n",
       "      <td>0</td>\n",
       "      <td>0.0000</td>\n",
       "      <td>13.0</td>\n",
       "      <td>11</td>\n",
       "      <td>0</td>\n",
       "      <td>3049.0</td>\n",
       "      <td>0</td>\n",
       "    </tr>\n",
       "    <tr>\n",
       "      <th>88032</th>\n",
       "      <td>0</td>\n",
       "      <td>0.0000</td>\n",
       "      <td>24.5</td>\n",
       "      <td>82</td>\n",
       "      <td>2</td>\n",
       "      <td>4291.0</td>\n",
       "      <td>0</td>\n",
       "    </tr>\n",
       "    <tr>\n",
       "      <th>198803</th>\n",
       "      <td>0</td>\n",
       "      <td>0.0000</td>\n",
       "      <td>14.2</td>\n",
       "      <td>59</td>\n",
       "      <td>2</td>\n",
       "      <td>3049.0</td>\n",
       "      <td>0</td>\n",
       "    </tr>\n",
       "  </tbody>\n",
       "</table>\n",
       "<p>2559 rows × 7 columns</p>\n",
       "</div>"
      ],
      "text/plain": [
       "        Responses  sentiment_header  readibility_level  Keyword_no  \\\n",
       "206047          0            0.0000               23.0          48   \n",
       "179118          0            0.3400               12.1          67   \n",
       "165251          0           -0.5994               15.3         120   \n",
       "226219          0            0.0000               14.8          63   \n",
       "128859          0           -0.5413               11.5          96   \n",
       "...           ...               ...                ...         ...   \n",
       "179036          0            0.0000               12.4          23   \n",
       "50011           0            0.0000                9.8         119   \n",
       "21909           0            0.0000               13.0          11   \n",
       "88032           0            0.0000               24.5          82   \n",
       "198803          0            0.0000               14.2          59   \n",
       "\n",
       "        Minute_read  PublicationT Prediction  \n",
       "206047            2        3049.0          0  \n",
       "179118            2        3049.0          0  \n",
       "165251            4        3335.0          0  \n",
       "226219            2        3049.0          0  \n",
       "128859            3        3049.0          0  \n",
       "...             ...           ...        ...  \n",
       "179036            0        1757.0          0  \n",
       "50011             3         232.0          0  \n",
       "21909             0        3049.0          0  \n",
       "88032             2        4291.0          0  \n",
       "198803            2        3049.0          0  \n",
       "\n",
       "[2559 rows x 7 columns]"
      ]
     },
     "execution_count": 196,
     "metadata": {},
     "output_type": "execute_result"
    }
   ],
   "source": [
    "X_testbf_0"
   ]
  },
  {
   "cell_type": "code",
   "execution_count": 197,
   "metadata": {},
   "outputs": [
    {
     "data": {
      "text/html": [
       "<div>\n",
       "<style scoped>\n",
       "    .dataframe tbody tr th:only-of-type {\n",
       "        vertical-align: middle;\n",
       "    }\n",
       "\n",
       "    .dataframe tbody tr th {\n",
       "        vertical-align: top;\n",
       "    }\n",
       "\n",
       "    .dataframe thead th {\n",
       "        text-align: right;\n",
       "    }\n",
       "</style>\n",
       "<table border=\"1\" class=\"dataframe\">\n",
       "  <thead>\n",
       "    <tr style=\"text-align: right;\">\n",
       "      <th></th>\n",
       "      <th>Responses</th>\n",
       "      <th>sentiment_header</th>\n",
       "      <th>readibility_level</th>\n",
       "      <th>Keyword_no</th>\n",
       "      <th>Minute_read</th>\n",
       "      <th>PublicationT</th>\n",
       "      <th>Prediction</th>\n",
       "    </tr>\n",
       "  </thead>\n",
       "  <tbody>\n",
       "    <tr>\n",
       "      <th>221845</th>\n",
       "      <td>0</td>\n",
       "      <td>0.0000</td>\n",
       "      <td>14.3</td>\n",
       "      <td>66</td>\n",
       "      <td>3</td>\n",
       "      <td>3049.0</td>\n",
       "      <td>15.945210</td>\n",
       "    </tr>\n",
       "    <tr>\n",
       "      <th>239379</th>\n",
       "      <td>0</td>\n",
       "      <td>0.0000</td>\n",
       "      <td>11.0</td>\n",
       "      <td>102</td>\n",
       "      <td>3</td>\n",
       "      <td>4264.0</td>\n",
       "      <td>25.126108</td>\n",
       "    </tr>\n",
       "    <tr>\n",
       "      <th>231576</th>\n",
       "      <td>0</td>\n",
       "      <td>0.7845</td>\n",
       "      <td>16.1</td>\n",
       "      <td>115</td>\n",
       "      <td>6</td>\n",
       "      <td>3510.0</td>\n",
       "      <td>33.518623</td>\n",
       "    </tr>\n",
       "    <tr>\n",
       "      <th>117693</th>\n",
       "      <td>0</td>\n",
       "      <td>0.7845</td>\n",
       "      <td>11.0</td>\n",
       "      <td>106</td>\n",
       "      <td>5</td>\n",
       "      <td>3049.0</td>\n",
       "      <td>18.585247</td>\n",
       "    </tr>\n",
       "    <tr>\n",
       "      <th>82981</th>\n",
       "      <td>0</td>\n",
       "      <td>0.4019</td>\n",
       "      <td>11.3</td>\n",
       "      <td>155</td>\n",
       "      <td>5</td>\n",
       "      <td>3049.0</td>\n",
       "      <td>19.388811</td>\n",
       "    </tr>\n",
       "    <tr>\n",
       "      <th>...</th>\n",
       "      <td>...</td>\n",
       "      <td>...</td>\n",
       "      <td>...</td>\n",
       "      <td>...</td>\n",
       "      <td>...</td>\n",
       "      <td>...</td>\n",
       "      <td>...</td>\n",
       "    </tr>\n",
       "    <tr>\n",
       "      <th>195811</th>\n",
       "      <td>0</td>\n",
       "      <td>0.0000</td>\n",
       "      <td>10.9</td>\n",
       "      <td>110</td>\n",
       "      <td>4</td>\n",
       "      <td>3049.0</td>\n",
       "      <td>19.201357</td>\n",
       "    </tr>\n",
       "    <tr>\n",
       "      <th>80796</th>\n",
       "      <td>0</td>\n",
       "      <td>-0.2263</td>\n",
       "      <td>15.0</td>\n",
       "      <td>174</td>\n",
       "      <td>5</td>\n",
       "      <td>3045.0</td>\n",
       "      <td>19.488241</td>\n",
       "    </tr>\n",
       "    <tr>\n",
       "      <th>276490</th>\n",
       "      <td>0</td>\n",
       "      <td>0.5719</td>\n",
       "      <td>18.1</td>\n",
       "      <td>272</td>\n",
       "      <td>9</td>\n",
       "      <td>558.0</td>\n",
       "      <td>33.315514</td>\n",
       "    </tr>\n",
       "    <tr>\n",
       "      <th>151923</th>\n",
       "      <td>0</td>\n",
       "      <td>0.0000</td>\n",
       "      <td>16.2</td>\n",
       "      <td>199</td>\n",
       "      <td>7</td>\n",
       "      <td>5396.0</td>\n",
       "      <td>31.628145</td>\n",
       "    </tr>\n",
       "    <tr>\n",
       "      <th>108362</th>\n",
       "      <td>0</td>\n",
       "      <td>0.0000</td>\n",
       "      <td>11.5</td>\n",
       "      <td>69</td>\n",
       "      <td>2</td>\n",
       "      <td>3049.0</td>\n",
       "      <td>15.675949</td>\n",
       "    </tr>\n",
       "  </tbody>\n",
       "</table>\n",
       "<p>6105 rows × 7 columns</p>\n",
       "</div>"
      ],
      "text/plain": [
       "        Responses  sentiment_header  readibility_level  Keyword_no  \\\n",
       "221845          0            0.0000               14.3          66   \n",
       "239379          0            0.0000               11.0         102   \n",
       "231576          0            0.7845               16.1         115   \n",
       "117693          0            0.7845               11.0         106   \n",
       "82981           0            0.4019               11.3         155   \n",
       "...           ...               ...                ...         ...   \n",
       "195811          0            0.0000               10.9         110   \n",
       "80796           0           -0.2263               15.0         174   \n",
       "276490          0            0.5719               18.1         272   \n",
       "151923          0            0.0000               16.2         199   \n",
       "108362          0            0.0000               11.5          69   \n",
       "\n",
       "        Minute_read  PublicationT  Prediction  \n",
       "221845            3        3049.0   15.945210  \n",
       "239379            3        4264.0   25.126108  \n",
       "231576            6        3510.0   33.518623  \n",
       "117693            5        3049.0   18.585247  \n",
       "82981             5        3049.0   19.388811  \n",
       "...             ...           ...         ...  \n",
       "195811            4        3049.0   19.201357  \n",
       "80796             5        3045.0   19.488241  \n",
       "276490            9         558.0   33.315514  \n",
       "151923            7        5396.0   31.628145  \n",
       "108362            2        3049.0   15.675949  \n",
       "\n",
       "[6105 rows x 7 columns]"
      ]
     },
     "execution_count": 197,
     "metadata": {},
     "output_type": "execute_result"
    }
   ],
   "source": [
    "X_testbf_L"
   ]
  },
  {
   "cell_type": "code",
   "execution_count": 198,
   "metadata": {},
   "outputs": [],
   "source": [
    "X_testbf = pd.concat([X_testbf_0,X_testbf_L,X_testbf_H])\n",
    "X_testbf = X_testbf.sort_index()"
   ]
  },
  {
   "cell_type": "code",
   "execution_count": 199,
   "metadata": {},
   "outputs": [],
   "source": [
    "y_testbf = y_testbf.sort_index()"
   ]
  },
  {
   "cell_type": "code",
   "execution_count": 200,
   "metadata": {
    "scrolled": true
   },
   "outputs": [
    {
     "data": {
      "text/plain": [
       "49        27.6329\n",
       "93        30.3952\n",
       "117             0\n",
       "122       20.2659\n",
       "133       18.3725\n",
       "           ...   \n",
       "279310    119.271\n",
       "279314    34.9319\n",
       "279349    38.3312\n",
       "279385    26.1726\n",
       "279416    18.4811\n",
       "Name: Prediction, Length: 9949, dtype: object"
      ]
     },
     "execution_count": 200,
     "metadata": {},
     "output_type": "execute_result"
    }
   ],
   "source": [
    "X_testbf.Prediction"
   ]
  },
  {
   "cell_type": "code",
   "execution_count": 201,
   "metadata": {},
   "outputs": [
    {
     "data": {
      "text/plain": [
       "49         11\n",
       "93         33\n",
       "117       171\n",
       "122         0\n",
       "133         0\n",
       "         ... \n",
       "279310     58\n",
       "279314    185\n",
       "279349     18\n",
       "279385      0\n",
       "279416      0\n",
       "Name: Claps, Length: 9949, dtype: int64"
      ]
     },
     "execution_count": 201,
     "metadata": {},
     "output_type": "execute_result"
    }
   ],
   "source": [
    "y_testbf.Claps"
   ]
  },
  {
   "cell_type": "code",
   "execution_count": 202,
   "metadata": {},
   "outputs": [
    {
     "data": {
      "text/plain": [
       "662747.7435052214"
      ]
     },
     "execution_count": 202,
     "metadata": {},
     "output_type": "execute_result"
    }
   ],
   "source": [
    "mean_squared_error(X_testbf.Prediction, y_testbf.Claps)"
   ]
  },
  {
   "cell_type": "code",
   "execution_count": 203,
   "metadata": {},
   "outputs": [
    {
     "data": {
      "text/plain": [
       "-0.0464027387235082"
      ]
     },
     "execution_count": 203,
     "metadata": {},
     "output_type": "execute_result"
    }
   ],
   "source": [
    "r2_score(X_testbf.Prediction, y_testbf.Claps)"
   ]
  },
  {
   "cell_type": "markdown",
   "metadata": {},
   "source": [
    "# Applying to the test dataset to get results"
   ]
  },
  {
   "cell_type": "markdown",
   "metadata": {},
   "source": [
    "## Feature Engineering"
   ]
  },
  {
   "cell_type": "code",
   "execution_count": 204,
   "metadata": {},
   "outputs": [
    {
     "data": {
      "text/html": [
       "<div>\n",
       "<style scoped>\n",
       "    .dataframe tbody tr th:only-of-type {\n",
       "        vertical-align: middle;\n",
       "    }\n",
       "\n",
       "    .dataframe tbody tr th {\n",
       "        vertical-align: top;\n",
       "    }\n",
       "\n",
       "    .dataframe thead th {\n",
       "        text-align: right;\n",
       "    }\n",
       "</style>\n",
       "<table border=\"1\" class=\"dataframe\">\n",
       "  <thead>\n",
       "    <tr style=\"text-align: right;\">\n",
       "      <th></th>\n",
       "      <th>Unnamed: 0</th>\n",
       "      <th>index</th>\n",
       "      <th>Author</th>\n",
       "      <th>Responses</th>\n",
       "      <th>Header</th>\n",
       "      <th>Text</th>\n",
       "      <th>Length</th>\n",
       "      <th>Publication</th>\n",
       "      <th>Date</th>\n",
       "      <th>Language</th>\n",
       "    </tr>\n",
       "  </thead>\n",
       "  <tbody>\n",
       "    <tr>\n",
       "      <th>0</th>\n",
       "      <td>0</td>\n",
       "      <td>0</td>\n",
       "      <td>Daniel Jeffries</td>\n",
       "      <td>627 responses</td>\n",
       "      <td>Why Everyone Missed the Most Mind-Blowing Feat...</td>\n",
       "      <td>There’s one incredible feature of cryptocurren...</td>\n",
       "      <td>23401</td>\n",
       "      <td>HackerNoon.com</td>\n",
       "      <td>2017-07-31</td>\n",
       "      <td>en</td>\n",
       "    </tr>\n",
       "    <tr>\n",
       "      <th>1</th>\n",
       "      <td>1</td>\n",
       "      <td>1</td>\n",
       "      <td>Noam Levenson</td>\n",
       "      <td>156 responses</td>\n",
       "      <td>NEO versus Ethereum: Why NEO might be 2018’s s...</td>\n",
       "      <td>&lt;img class=\"progressiveMedia-noscript js-progr...</td>\n",
       "      <td>23972</td>\n",
       "      <td>HackerNoon.com</td>\n",
       "      <td>2017-12-06</td>\n",
       "      <td>en</td>\n",
       "    </tr>\n",
       "    <tr>\n",
       "      <th>2</th>\n",
       "      <td>2</td>\n",
       "      <td>2</td>\n",
       "      <td>Daniel Jeffries</td>\n",
       "      <td>176 responses</td>\n",
       "      <td>The Cryptocurrency Trading Bible</td>\n",
       "      <td>So you want to trade cryptocurrency?You’ve see...</td>\n",
       "      <td>402</td>\n",
       "      <td>HackerNoon.com</td>\n",
       "      <td>2017-07-21</td>\n",
       "      <td>en</td>\n",
       "    </tr>\n",
       "    <tr>\n",
       "      <th>3</th>\n",
       "      <td>3</td>\n",
       "      <td>5</td>\n",
       "      <td>Haseeb Qureshi</td>\n",
       "      <td>72 responses</td>\n",
       "      <td>Stablecoins: designing a price-stable cryptocu...</td>\n",
       "      <td>A useful currency should be a medium of exchan...</td>\n",
       "      <td>19730</td>\n",
       "      <td>HackerNoon.com</td>\n",
       "      <td>2018-02-19</td>\n",
       "      <td>en</td>\n",
       "    </tr>\n",
       "    <tr>\n",
       "      <th>4</th>\n",
       "      <td>4</td>\n",
       "      <td>7</td>\n",
       "      <td>William Belk</td>\n",
       "      <td>19 responses</td>\n",
       "      <td>Chaos vs. Order — The Cryptocurrency Dilemma</td>\n",
       "      <td>Crypto crypto crypto crypto. It’s here. It’s h...</td>\n",
       "      <td>5324</td>\n",
       "      <td>HackerNoon.com</td>\n",
       "      <td>2018-01-28</td>\n",
       "      <td>en</td>\n",
       "    </tr>\n",
       "  </tbody>\n",
       "</table>\n",
       "</div>"
      ],
      "text/plain": [
       "   Unnamed: 0  index           Author      Responses  \\\n",
       "0           0      0  Daniel Jeffries  627 responses   \n",
       "1           1      1    Noam Levenson  156 responses   \n",
       "2           2      2  Daniel Jeffries  176 responses   \n",
       "3           3      5   Haseeb Qureshi   72 responses   \n",
       "4           4      7     William Belk   19 responses   \n",
       "\n",
       "                                              Header  \\\n",
       "0  Why Everyone Missed the Most Mind-Blowing Feat...   \n",
       "1  NEO versus Ethereum: Why NEO might be 2018’s s...   \n",
       "2                   The Cryptocurrency Trading Bible   \n",
       "3  Stablecoins: designing a price-stable cryptocu...   \n",
       "4       Chaos vs. Order — The Cryptocurrency Dilemma   \n",
       "\n",
       "                                                Text  Length     Publication  \\\n",
       "0  There’s one incredible feature of cryptocurren...   23401  HackerNoon.com   \n",
       "1  <img class=\"progressiveMedia-noscript js-progr...   23972  HackerNoon.com   \n",
       "2  So you want to trade cryptocurrency?You’ve see...     402  HackerNoon.com   \n",
       "3  A useful currency should be a medium of exchan...   19730  HackerNoon.com   \n",
       "4  Crypto crypto crypto crypto. It’s here. It’s h...    5324  HackerNoon.com   \n",
       "\n",
       "        Date Language  \n",
       "0 2017-07-31       en  \n",
       "1 2017-12-06       en  \n",
       "2 2017-07-21       en  \n",
       "3 2018-02-19       en  \n",
       "4 2018-01-28       en  "
      ]
     },
     "execution_count": 204,
     "metadata": {},
     "output_type": "execute_result"
    }
   ],
   "source": [
    "test.head(5)"
   ]
  },
  {
   "cell_type": "code",
   "execution_count": 205,
   "metadata": {},
   "outputs": [
    {
     "data": {
      "text/plain": [
       "count    514.000000\n",
       "mean       0.058220\n",
       "std        0.309359\n",
       "min       -0.840200\n",
       "25%        0.000000\n",
       "50%        0.000000\n",
       "75%        0.217675\n",
       "max        0.846700\n",
       "Name: sentiment_header, dtype: float64"
      ]
     },
     "execution_count": 205,
     "metadata": {},
     "output_type": "execute_result"
    }
   ],
   "source": [
    "analyzer = SentimentIntensityAnalyzer()\n",
    "test['sentiment_header'] = test.Header.apply(lambda x: analyzer.polarity_scores(str(x))['compound'])\n",
    "test['sentiment_header'].describe()"
   ]
  },
  {
   "cell_type": "code",
   "execution_count": 206,
   "metadata": {},
   "outputs": [],
   "source": [
    "test['readibility_level'] = test.Text.apply(lambda x: ts.flesch_kincaid_grade(str(x)))"
   ]
  },
  {
   "cell_type": "code",
   "execution_count": 207,
   "metadata": {},
   "outputs": [],
   "source": [
    "def get_responses(resp):\n",
    "    if type(resp) is str:\n",
    "        return int(resp.replace(',', '').split(' ')[0])\n",
    "    else:\n",
    "        return 0\n",
    "test['Responses'] = test['Responses'].apply(get_responses)"
   ]
  },
  {
   "cell_type": "code",
   "execution_count": 208,
   "metadata": {},
   "outputs": [
    {
     "name": "stdout",
     "output_type": "stream",
     "text": [
      "****************************************\n",
      "Cleaning 514 article texts.\n",
      "Processed 500 texts\n",
      "DONE\n",
      "****************************************\n"
     ]
    }
   ],
   "source": [
    "test.Text = clean_texts(test.Text)"
   ]
  },
  {
   "cell_type": "code",
   "execution_count": 209,
   "metadata": {},
   "outputs": [],
   "source": [
    "test['Rake'] = test.apply(rake_fn, axis=1)"
   ]
  },
  {
   "cell_type": "code",
   "execution_count": 210,
   "metadata": {},
   "outputs": [],
   "source": [
    "test['Keyword_no'] = test.Rake.apply(lambda r: len(r))"
   ]
  },
  {
   "cell_type": "code",
   "execution_count": 211,
   "metadata": {},
   "outputs": [
    {
     "data": {
      "text/plain": [
       "count    514.000000\n",
       "mean     119.883268\n",
       "std      108.340171\n",
       "min        0.000000\n",
       "25%       18.000000\n",
       "50%      100.000000\n",
       "75%      187.000000\n",
       "max      610.000000\n",
       "Name: Keyword_no, dtype: float64"
      ]
     },
     "execution_count": 211,
     "metadata": {},
     "output_type": "execute_result"
    }
   ],
   "source": [
    "test.Keyword_no.describe()"
   ]
  },
  {
   "cell_type": "code",
   "execution_count": 212,
   "metadata": {},
   "outputs": [],
   "source": [
    "test['words'] = test.Rake.apply(extract_words)"
   ]
  },
  {
   "cell_type": "code",
   "execution_count": 213,
   "metadata": {},
   "outputs": [],
   "source": [
    "test['words_short'] = test.words.apply(lambda x: x[:44])"
   ]
  },
  {
   "cell_type": "code",
   "execution_count": 214,
   "metadata": {},
   "outputs": [
    {
     "name": "stdout",
     "output_type": "stream",
     "text": [
      "****************************************\n",
      "Cleaning 514 article texts.\n",
      "Processed 500 texts\n",
      "DONE\n",
      "****************************************\n"
     ]
    }
   ],
   "source": [
    "test.words_short = lemma_texts(test.words_short)"
   ]
  },
  {
   "cell_type": "code",
   "execution_count": 215,
   "metadata": {},
   "outputs": [
    {
     "data": {
      "text/html": [
       "<div>\n",
       "<style scoped>\n",
       "    .dataframe tbody tr th:only-of-type {\n",
       "        vertical-align: middle;\n",
       "    }\n",
       "\n",
       "    .dataframe tbody tr th {\n",
       "        vertical-align: top;\n",
       "    }\n",
       "\n",
       "    .dataframe thead th {\n",
       "        text-align: right;\n",
       "    }\n",
       "</style>\n",
       "<table border=\"1\" class=\"dataframe\">\n",
       "  <thead>\n",
       "    <tr style=\"text-align: right;\">\n",
       "      <th></th>\n",
       "      <th>Unnamed: 0</th>\n",
       "      <th>index</th>\n",
       "      <th>Author</th>\n",
       "      <th>Responses</th>\n",
       "      <th>Header</th>\n",
       "      <th>Text</th>\n",
       "      <th>Length</th>\n",
       "      <th>Publication</th>\n",
       "      <th>Date</th>\n",
       "      <th>Language</th>\n",
       "      <th>sentiment_header</th>\n",
       "      <th>readibility_level</th>\n",
       "      <th>Rake</th>\n",
       "      <th>Keyword_no</th>\n",
       "      <th>words</th>\n",
       "      <th>words_short</th>\n",
       "    </tr>\n",
       "  </thead>\n",
       "  <tbody>\n",
       "    <tr>\n",
       "      <th>0</th>\n",
       "      <td>0</td>\n",
       "      <td>0</td>\n",
       "      <td>Daniel Jeffries</td>\n",
       "      <td>627</td>\n",
       "      <td>Why Everyone Missed the Most Mind-Blowing Feat...</td>\n",
       "      <td>There s one incredible feature of cryptocurren...</td>\n",
       "      <td>23401</td>\n",
       "      <td>HackerNoon.com</td>\n",
       "      <td>2017-07-31</td>\n",
       "      <td>en</td>\n",
       "      <td>-0.2960</td>\n",
       "      <td>14.3</td>\n",
       "      <td>[(cryptocurrencies, 1.0), (missed, 1.0), (sato...</td>\n",
       "      <td>435</td>\n",
       "      <td>[cryptocurrencies, missed, satoshi, hidden, hu...</td>\n",
       "      <td>[cryptocurrencies, miss, satoshi, hidden, hurr...</td>\n",
       "    </tr>\n",
       "    <tr>\n",
       "      <th>1</th>\n",
       "      <td>1</td>\n",
       "      <td>1</td>\n",
       "      <td>Noam Levenson</td>\n",
       "      <td>156</td>\n",
       "      <td>NEO versus Ethereum: Why NEO might be 2018’s s...</td>\n",
       "      <td>OnChainNEO s founders Da HongFei and Erik Zhan...</td>\n",
       "      <td>23972</td>\n",
       "      <td>HackerNoon.com</td>\n",
       "      <td>2017-12-06</td>\n",
       "      <td>en</td>\n",
       "      <td>0.4404</td>\n",
       "      <td>11.6</td>\n",
       "      <td>[(onchainneo, 1.0), (critical, 1.0), (company,...</td>\n",
       "      <td>380</td>\n",
       "      <td>[onchainneo, critical, company, partnership, o...</td>\n",
       "      <td>[onchainneo, critical, company, partnership, o...</td>\n",
       "    </tr>\n",
       "    <tr>\n",
       "      <th>2</th>\n",
       "      <td>2</td>\n",
       "      <td>2</td>\n",
       "      <td>Daniel Jeffries</td>\n",
       "      <td>176</td>\n",
       "      <td>The Cryptocurrency Trading Bible</td>\n",
       "      <td>So you want to trade cryptocurrency You ve see...</td>\n",
       "      <td>402</td>\n",
       "      <td>HackerNoon.com</td>\n",
       "      <td>2017-07-21</td>\n",
       "      <td>en</td>\n",
       "      <td>0.0000</td>\n",
       "      <td>6.7</td>\n",
       "      <td>[(don, 1.0), (measly, 1.0), (roi, 1.0), (year,...</td>\n",
       "      <td>12</td>\n",
       "      <td>[don, measly, roi, year, plain, grandpas, peop...</td>\n",
       "      <td>[don, measly, roi, year, plain, grandpa, peopl...</td>\n",
       "    </tr>\n",
       "    <tr>\n",
       "      <th>3</th>\n",
       "      <td>3</td>\n",
       "      <td>5</td>\n",
       "      <td>Haseeb Qureshi</td>\n",
       "      <td>72</td>\n",
       "      <td>Stablecoins: designing a price-stable cryptocu...</td>\n",
       "      <td>A useful currency should be a medium of exchan...</td>\n",
       "      <td>19730</td>\n",
       "      <td>HackerNoon.com</td>\n",
       "      <td>2018-02-19</td>\n",
       "      <td>en</td>\n",
       "      <td>0.0000</td>\n",
       "      <td>14.3</td>\n",
       "      <td>[(currency, 1.0), (medium, 1.0), (exchange, 1....</td>\n",
       "      <td>329</td>\n",
       "      <td>[currency, medium, exchange, unit, account, st...</td>\n",
       "      <td>[currency, medium, exchange, unit, account, st...</td>\n",
       "    </tr>\n",
       "    <tr>\n",
       "      <th>4</th>\n",
       "      <td>4</td>\n",
       "      <td>7</td>\n",
       "      <td>William Belk</td>\n",
       "      <td>19</td>\n",
       "      <td>Chaos vs. Order — The Cryptocurrency Dilemma</td>\n",
       "      <td>Crypto crypto crypto crypto  It s here  It s h...</td>\n",
       "      <td>5324</td>\n",
       "      <td>HackerNoon.com</td>\n",
       "      <td>2018-01-28</td>\n",
       "      <td>en</td>\n",
       "      <td>-0.6597</td>\n",
       "      <td>17.7</td>\n",
       "      <td>[(happening, 1.0), (big, 1.0), (faster, 1.0), ...</td>\n",
       "      <td>112</td>\n",
       "      <td>[happening, big, faster, technology, acts, des...</td>\n",
       "      <td>[happen, big, faster, technology, act, destabi...</td>\n",
       "    </tr>\n",
       "  </tbody>\n",
       "</table>\n",
       "</div>"
      ],
      "text/plain": [
       "   Unnamed: 0  index           Author  Responses  \\\n",
       "0           0      0  Daniel Jeffries        627   \n",
       "1           1      1    Noam Levenson        156   \n",
       "2           2      2  Daniel Jeffries        176   \n",
       "3           3      5   Haseeb Qureshi         72   \n",
       "4           4      7     William Belk         19   \n",
       "\n",
       "                                              Header  \\\n",
       "0  Why Everyone Missed the Most Mind-Blowing Feat...   \n",
       "1  NEO versus Ethereum: Why NEO might be 2018’s s...   \n",
       "2                   The Cryptocurrency Trading Bible   \n",
       "3  Stablecoins: designing a price-stable cryptocu...   \n",
       "4       Chaos vs. Order — The Cryptocurrency Dilemma   \n",
       "\n",
       "                                                Text  Length     Publication  \\\n",
       "0  There s one incredible feature of cryptocurren...   23401  HackerNoon.com   \n",
       "1  OnChainNEO s founders Da HongFei and Erik Zhan...   23972  HackerNoon.com   \n",
       "2  So you want to trade cryptocurrency You ve see...     402  HackerNoon.com   \n",
       "3  A useful currency should be a medium of exchan...   19730  HackerNoon.com   \n",
       "4  Crypto crypto crypto crypto  It s here  It s h...    5324  HackerNoon.com   \n",
       "\n",
       "        Date Language  sentiment_header  readibility_level  \\\n",
       "0 2017-07-31       en           -0.2960               14.3   \n",
       "1 2017-12-06       en            0.4404               11.6   \n",
       "2 2017-07-21       en            0.0000                6.7   \n",
       "3 2018-02-19       en            0.0000               14.3   \n",
       "4 2018-01-28       en           -0.6597               17.7   \n",
       "\n",
       "                                                Rake  Keyword_no  \\\n",
       "0  [(cryptocurrencies, 1.0), (missed, 1.0), (sato...         435   \n",
       "1  [(onchainneo, 1.0), (critical, 1.0), (company,...         380   \n",
       "2  [(don, 1.0), (measly, 1.0), (roi, 1.0), (year,...          12   \n",
       "3  [(currency, 1.0), (medium, 1.0), (exchange, 1....         329   \n",
       "4  [(happening, 1.0), (big, 1.0), (faster, 1.0), ...         112   \n",
       "\n",
       "                                               words  \\\n",
       "0  [cryptocurrencies, missed, satoshi, hidden, hu...   \n",
       "1  [onchainneo, critical, company, partnership, o...   \n",
       "2  [don, measly, roi, year, plain, grandpas, peop...   \n",
       "3  [currency, medium, exchange, unit, account, st...   \n",
       "4  [happening, big, faster, technology, acts, des...   \n",
       "\n",
       "                                         words_short  \n",
       "0  [cryptocurrencies, miss, satoshi, hidden, hurr...  \n",
       "1  [onchainneo, critical, company, partnership, o...  \n",
       "2  [don, measly, roi, year, plain, grandpa, peopl...  \n",
       "3  [currency, medium, exchange, unit, account, st...  \n",
       "4  [happen, big, faster, technology, act, destabi...  "
      ]
     },
     "execution_count": 215,
     "metadata": {},
     "output_type": "execute_result"
    }
   ],
   "source": [
    "test.head(5)"
   ]
  },
  {
   "cell_type": "code",
   "execution_count": 216,
   "metadata": {},
   "outputs": [],
   "source": [
    "test['Minute_read'] = test.apply(LengthTime, axis=1)"
   ]
  },
  {
   "cell_type": "code",
   "execution_count": 217,
   "metadata": {},
   "outputs": [],
   "source": [
    "test['HeaderHasDigits'] = test.Header.apply(lambda x: any([ch.isdigit() for ch in str(x)]))"
   ]
  },
  {
   "cell_type": "code",
   "execution_count": 218,
   "metadata": {},
   "outputs": [],
   "source": [
    "test['PopularPublication'] = test.apply(PopularPublication, axis=1)"
   ]
  },
  {
   "cell_type": "code",
   "execution_count": 219,
   "metadata": {},
   "outputs": [],
   "source": [
    "test['Publication'] = test['Publication'].apply(TransformStrNaN)\n",
    "test['PopularPublication'] = test['PopularPublication'].apply(TransformStrNaN)\n",
    "test['Language'] = test['Language'].apply(TransformStrNaN)"
   ]
  },
  {
   "cell_type": "code",
   "execution_count": 220,
   "metadata": {},
   "outputs": [],
   "source": [
    "enc = OrdinalEncoder()\n",
    "enc.fit(test[[\"Publication\",\"PopularPublication\",\"Language\"]])\n",
    "test[[\"PublicationT\",\"PopularPublicationT\",\"LanguageT\"]] = enc.transform(test[[\"Publication\",\"PopularPublication\",\"Language\"]])"
   ]
  },
  {
   "cell_type": "markdown",
   "metadata": {},
   "source": [
    "## Model Pipeline"
   ]
  },
  {
   "cell_type": "markdown",
   "metadata": {},
   "source": [
    "### Classification"
   ]
  },
  {
   "cell_type": "markdown",
   "metadata": {},
   "source": [
    "#### Neural Network"
   ]
  },
  {
   "cell_type": "code",
   "execution_count": 221,
   "metadata": {},
   "outputs": [],
   "source": [
    "X_train, y_train = df['words_short'], df[['High', 'Low', 'No']]"
   ]
  },
  {
   "cell_type": "code",
   "execution_count": 222,
   "metadata": {},
   "outputs": [],
   "source": [
    "X_test = test['words_short']"
   ]
  },
  {
   "cell_type": "code",
   "execution_count": 223,
   "metadata": {},
   "outputs": [],
   "source": [
    "tokenizer_obj = Tokenizer(len(vocablist1), oov_token=1)\n",
    "tokenizer_obj.fit_on_texts(X_train) "
   ]
  },
  {
   "cell_type": "code",
   "execution_count": 224,
   "metadata": {},
   "outputs": [],
   "source": [
    "tr_int = tokenizer_obj.texts_to_sequences(X_train)"
   ]
  },
  {
   "cell_type": "code",
   "execution_count": 225,
   "metadata": {},
   "outputs": [],
   "source": [
    "MAX_ARTICLE_LENGTH = 44\n",
    "\n",
    "tr_int_pad = pad_sequences(tr_int, MAX_ARTICLE_LENGTH)"
   ]
  },
  {
   "cell_type": "code",
   "execution_count": 226,
   "metadata": {},
   "outputs": [],
   "source": [
    "test_int = tokenizer_obj.texts_to_sequences(X_test)"
   ]
  },
  {
   "cell_type": "code",
   "execution_count": 227,
   "metadata": {},
   "outputs": [],
   "source": [
    "test_int_pad = pad_sequences(test_int, MAX_ARTICLE_LENGTH)"
   ]
  },
  {
   "cell_type": "code",
   "execution_count": 228,
   "metadata": {},
   "outputs": [
    {
     "name": "stdout",
     "output_type": "stream",
     "text": [
      "Created embedding matrix of shape (94281, 50)\n",
      "Encountered 20758 out-of-vocabulary words.\n"
     ]
    }
   ],
   "source": [
    "glove_weights, _ = get_embedding_matrix(tokenizer_obj, glove_index, len(vocablist1))"
   ]
  },
  {
   "cell_type": "code",
   "execution_count": 229,
   "metadata": {},
   "outputs": [
    {
     "name": "stdout",
     "output_type": "stream",
     "text": [
      "Model: \"sequential_1\"\n",
      "_________________________________________________________________\n",
      "Layer (type)                 Output Shape              Param #   \n",
      "=================================================================\n",
      "embedding_1 (Embedding)      (None, 44, 50)            4714050   \n",
      "_________________________________________________________________\n",
      "gru_1 (GRU)                  (None, 64)                22272     \n",
      "_________________________________________________________________\n",
      "dense_2 (Dense)              (None, 64)                4160      \n",
      "_________________________________________________________________\n",
      "dense_3 (Dense)              (None, 3)                 195       \n",
      "=================================================================\n",
      "Total params: 4,740,677\n",
      "Trainable params: 4,740,677\n",
      "Non-trainable params: 0\n",
      "_________________________________________________________________\n"
     ]
    }
   ],
   "source": [
    "embedding_layer=Embedding(input_dim=len(vocablist1), \n",
    "                          output_dim=50, \n",
    "                          input_length=44,\n",
    "                          embeddings_initializer=Constant(glove_weights), #weights to start with, and not touch during training\n",
    "                          trainable=True\n",
    "                         )\n",
    "nn_model=Sequential()                        \n",
    "nn_model.add(embedding_layer)\n",
    "nn_model.add(GRU(64, activation='relu'))\n",
    "nn_model.add(Dense(64, activation='sigmoid'))\n",
    "nn_model.add(Dense(3, activation='softmax'))\n",
    "nn_model.compile(loss='categorical_crossentropy', optimizer=\"adam\", metrics=['AUC'])\n",
    "nn_model.summary()"
   ]
  },
  {
   "cell_type": "code",
   "execution_count": 230,
   "metadata": {},
   "outputs": [
    {
     "name": "stdout",
     "output_type": "stream",
     "text": [
      "Epoch 1/10\n",
      "726/726 [==============================] - 64s 88ms/step - loss: 0.9774 - auc: 0.7024 - val_loss: 1.1807 - val_auc: 0.5746\n",
      "Epoch 2/10\n",
      "726/726 [==============================] - 65s 89ms/step - loss: 0.9293 - auc: 0.7405 - val_loss: 1.1287 - val_auc: 0.6104\n",
      "Epoch 3/10\n",
      "726/726 [==============================] - 64s 89ms/step - loss: 0.8398 - auc: 0.7972 - val_loss: 1.1186 - val_auc: 0.6353\n",
      "Epoch 4/10\n",
      "726/726 [==============================] - 66s 90ms/step - loss: 0.6919 - auc: 0.8672 - val_loss: 1.3080 - val_auc: 0.6069\n",
      "Epoch 5/10\n",
      "726/726 [==============================] - 66s 91ms/step - loss: 0.5506 - auc: 0.9175 - val_loss: 1.4109 - val_auc: 0.6115\n",
      "Epoch 6/10\n",
      "726/726 [==============================] - 64s 88ms/step - loss: 0.4318 - auc: 0.9497 - val_loss: 1.6287 - val_auc: 0.6032\n",
      "Epoch 7/10\n",
      "726/726 [==============================] - 64s 88ms/step - loss: 0.3380 - auc: 0.9691 - val_loss: 2.0061 - val_auc: 0.5912\n",
      "Epoch 8/10\n",
      "726/726 [==============================] - 64s 89ms/step - loss: 0.2636 - auc: 0.9810 - val_loss: 2.2890 - val_auc: 0.5876\n",
      "Epoch 9/10\n",
      "726/726 [==============================] - 66s 91ms/step - loss: 0.2047 - auc: 0.9883 - val_loss: 2.6929 - val_auc: 0.5722\n",
      "Epoch 10/10\n",
      "726/726 [==============================] - 65s 89ms/step - loss: 0.1580 - auc: 0.9927 - val_loss: 3.0584 - val_auc: 0.5644\n"
     ]
    }
   ],
   "source": [
    "nn_model_story = nn_model.fit(tr_int_pad, y_train,  batch_size=64, epochs=10, validation_split=0.3)"
   ]
  },
  {
   "cell_type": "code",
   "execution_count": 231,
   "metadata": {},
   "outputs": [],
   "source": [
    "nn_preds = nn_model.predict(test_int_pad)"
   ]
  },
  {
   "cell_type": "markdown",
   "metadata": {},
   "source": [
    "#### XGBoost Classifier"
   ]
  },
  {
   "cell_type": "code",
   "execution_count": 232,
   "metadata": {},
   "outputs": [],
   "source": [
    "X_train, y_train = df[['Responses', 'sentiment_header', 'readibility_level', \n",
    "'Minute_read', 'PublicationT']], df[['Clap_level']]"
   ]
  },
  {
   "cell_type": "code",
   "execution_count": 233,
   "metadata": {},
   "outputs": [],
   "source": [
    "X_test = test[['Responses', 'sentiment_header', 'readibility_level', \n",
    "'Minute_read', 'PublicationT']]"
   ]
  },
  {
   "cell_type": "code",
   "execution_count": 234,
   "metadata": {},
   "outputs": [
    {
     "name": "stderr",
     "output_type": "stream",
     "text": [
      "c:\\users\\alex work\\pycharmprojects\\adams\\venv2\\lib\\site-packages\\sklearn\\utils\\validation.py:72: DataConversionWarning: A column-vector y was passed when a 1d array was expected. Please change the shape of y to (n_samples, ), for example using ravel().\n",
      "  return f(**kwargs)\n"
     ]
    }
   ],
   "source": [
    "xgb_model = xgb.XGBClassifier(n_estimators=150)\n",
    "xgb_model.fit(X_train, y_train)\n",
    "xgb_preds = xgb_model.predict_proba(X_test)"
   ]
  },
  {
   "cell_type": "code",
   "execution_count": 235,
   "metadata": {},
   "outputs": [
    {
     "data": {
      "text/plain": [
       "<AxesSubplot:title={'center':'Feature importance'}, xlabel='F score', ylabel='Features'>"
      ]
     },
     "execution_count": 235,
     "metadata": {},
     "output_type": "execute_result"
    },
    {
     "data": {
      "image/png": "[encoded data removed]",
      "text/plain": [
       "<Figure size 432x288 with 1 Axes>"
      ]
     },
     "metadata": {
      "needs_background": "light"
     },
     "output_type": "display_data"
    }
   ],
   "source": [
    "xgb.plot_importance(xgb_model)"
   ]
  },
  {
   "cell_type": "markdown",
   "metadata": {},
   "source": [
    "#### Ensemble Learner"
   ]
  },
  {
   "cell_type": "markdown",
   "metadata": {},
   "source": [
    "Using pre-trained meta learner from validation above."
   ]
  },
  {
   "cell_type": "code",
   "execution_count": 236,
   "metadata": {},
   "outputs": [],
   "source": [
    "ensemble_preds = ensemble.predict((xgb_preds, nn_preds))"
   ]
  },
  {
   "cell_type": "code",
   "execution_count": 237,
   "metadata": {},
   "outputs": [
    {
     "data": {
      "text/plain": [
       "array(['High', 'High', 'High', 'High', 'High', 'High', 'High', 'High',\n",
       "       'High', 'High', 'Low', 'Low', 'High', 'High', 'Low', 'High', 'No',\n",
       "       'Low', 'High', 'High', 'Low', 'Low', 'High', 'High', 'High',\n",
       "       'High', 'High', 'High', 'Low', 'High', 'High', 'Low', 'High',\n",
       "       'High', 'High', 'High', 'High', 'High', 'High', 'High', 'High',\n",
       "       'High', 'High', 'High', 'Low', 'High', 'No', 'No', 'Low', 'High',\n",
       "       'Low', 'High', 'No', 'Low', 'High', 'Low', 'High', 'High', 'High',\n",
       "       'Low', 'High', 'High', 'Low', 'Low', 'Low', 'Low', 'No', 'High',\n",
       "       'Low', 'High', 'High', 'Low', 'Low', 'No', 'No', 'Low', 'High',\n",
       "       'High', 'Low', 'High', 'High', 'High', 'No', 'High', 'Low', 'High',\n",
       "       'Low', 'High', 'Low', 'High', 'Low', 'No', 'No', 'Low', 'High',\n",
       "       'Low', 'Low', 'High', 'Low', 'High', 'High', 'High', 'No', 'Low',\n",
       "       'High', 'No', 'Low', 'Low', 'Low', 'Low', 'High', 'Low', 'Low',\n",
       "       'Low', 'High', 'Low', 'Low', 'Low', 'Low', 'No', 'No', 'High',\n",
       "       'Low', 'High', 'High', 'Low', 'High', 'No', 'Low', 'Low', 'Low',\n",
       "       'Low', 'Low', 'Low', 'Low', 'Low', 'No', 'High', 'No', 'Low',\n",
       "       'Low', 'High', 'High', 'High', 'Low', 'Low', 'No', 'High', 'High',\n",
       "       'Low', 'Low', 'Low', 'Low', 'Low', 'Low', 'Low', 'Low', 'High',\n",
       "       'Low', 'High', 'High', 'Low', 'Low', 'Low', 'No', 'High', 'Low',\n",
       "       'High', 'No', 'No', 'No', 'Low', 'High', 'Low', 'Low', 'High',\n",
       "       'High', 'No', 'Low', 'Low', 'Low', 'High', 'High', 'Low', 'High',\n",
       "       'Low', 'Low', 'Low', 'No', 'No', 'Low', 'No', 'High', 'Low', 'Low',\n",
       "       'Low', 'Low', 'High', 'Low', 'No', 'Low', 'Low', 'Low', 'Low',\n",
       "       'Low', 'No', 'Low', 'No', 'No', 'Low', 'No', 'Low', 'Low', 'Low',\n",
       "       'Low', 'No', 'Low', 'Low', 'Low', 'Low', 'Low', 'Low', 'No', 'Low',\n",
       "       'No', 'Low', 'Low', 'No', 'Low', 'Low', 'Low', 'Low', 'Low', 'Low',\n",
       "       'High', 'High', 'High', 'High', 'High', 'High', 'High', 'High',\n",
       "       'High', 'Low', 'High', 'High', 'High', 'High', 'No', 'Low', 'Low',\n",
       "       'Low', 'High', 'High', 'High', 'Low', 'High', 'Low', 'High', 'Low',\n",
       "       'Low', 'High', 'High', 'High', 'High', 'High', 'High', 'High',\n",
       "       'High', 'High', 'High', 'High', 'High', 'High', 'High', 'High',\n",
       "       'High', 'High', 'High', 'High', 'High', 'High', 'High', 'Low',\n",
       "       'High', 'High', 'High', 'High', 'High', 'High', 'High', 'Low',\n",
       "       'Low', 'Low', 'Low', 'High', 'High', 'Low', 'High', 'High', 'High',\n",
       "       'High', 'High', 'Low', 'High', 'High', 'No', 'High', 'High',\n",
       "       'High', 'High', 'High', 'High', 'High', 'Low', 'High', 'Low',\n",
       "       'High', 'Low', 'High', 'High', 'Low', 'Low', 'High', 'High', 'Low',\n",
       "       'Low', 'Low', 'High', 'High', 'High', 'High', 'High', 'Low',\n",
       "       'High', 'High', 'Low', 'High', 'High', 'High', 'High', 'High',\n",
       "       'High', 'High', 'High', 'High', 'High', 'High', 'High', 'High',\n",
       "       'High', 'High', 'High', 'High', 'High', 'High', 'High', 'High',\n",
       "       'High', 'High', 'High', 'High', 'High', 'High', 'High', 'High',\n",
       "       'High', 'Low', 'Low', 'High', 'High', 'High', 'High', 'High',\n",
       "       'High', 'High', 'Low', 'High', 'No', 'High', 'High', 'High',\n",
       "       'High', 'High', 'High', 'High', 'High', 'High', 'High', 'Low',\n",
       "       'High', 'High', 'High', 'High', 'High', 'Low', 'Low', 'Low', 'Low',\n",
       "       'High', 'High', 'Low', 'High', 'High', 'Low', 'High', 'High',\n",
       "       'High', 'High', 'High', 'High', 'High', 'High', 'High', 'Low',\n",
       "       'High', 'Low', 'High', 'Low', 'High', 'High', 'Low', 'Low', 'High',\n",
       "       'High', 'Low', 'Low', 'Low', 'High', 'High', 'High', 'High', 'Low',\n",
       "       'High', 'Low', 'High', 'Low', 'High', 'High', 'High', 'High',\n",
       "       'High', 'Low', 'Low', 'Low', 'Low', 'High', 'High', 'High', 'Low',\n",
       "       'Low', 'Low', 'Low', 'Low', 'Low', 'Low', 'Low', 'Low', 'High',\n",
       "       'High', 'High', 'High', 'Low', 'Low', 'Low', 'High', 'Low', 'High',\n",
       "       'Low', 'Low', 'Low', 'Low', 'Low', 'Low', 'High', 'Low', 'High',\n",
       "       'High', 'High', 'Low', 'No', 'High', 'High', 'High', 'High',\n",
       "       'High', 'High', 'High', 'High', 'High', 'High', 'High', 'High',\n",
       "       'High', 'High', 'High', 'High', 'High', 'High', 'High', 'High',\n",
       "       'High', 'High', 'High', 'High', 'High', 'High', 'High', 'High',\n",
       "       'High', 'High', 'High', 'High', 'High'], dtype=object)"
      ]
     },
     "execution_count": 237,
     "metadata": {},
     "output_type": "execute_result"
    }
   ],
   "source": [
    "ensemble_preds"
   ]
  },
  {
   "cell_type": "markdown",
   "metadata": {},
   "source": [
    "### Regression"
   ]
  },
  {
   "cell_type": "markdown",
   "metadata": {},
   "source": [
    "#### Data Separation"
   ]
  },
  {
   "cell_type": "code",
   "execution_count": 238,
   "metadata": {},
   "outputs": [],
   "source": [
    "X_train = df[['Responses', 'sentiment_header', 'readibility_level', 'Keyword_no', 'HeaderHasDigits', 'Minute_read', 'PublicationT', 'PopularPublicationT', 'LanguageT',  'Clap_level']]\n",
    "y_train = df[['Clap_level', 'Claps']]"
   ]
  },
  {
   "cell_type": "code",
   "execution_count": 239,
   "metadata": {},
   "outputs": [],
   "source": [
    "X_train_0 = X_train[X_train['Clap_level'] == 'No']\n",
    "X_train_L = X_train[X_train['Clap_level'] == 'Low']\n",
    "X_train_H = X_train[X_train['Clap_level'] == 'High']\n",
    "\n",
    "y_train_0 = y_train[y_train['Clap_level'] == 'No']\n",
    "y_train_L = y_train[y_train['Clap_level'] == 'Low']\n",
    "y_train_H = y_train[y_train['Clap_level'] == 'High']"
   ]
  },
  {
   "cell_type": "code",
   "execution_count": 240,
   "metadata": {},
   "outputs": [],
   "source": [
    "X_train_0 = X_train_0.drop(columns=['Clap_level'])\n",
    "X_train_L = X_train_L.drop(columns=['Clap_level', 'HeaderHasDigits', 'PopularPublicationT', 'LanguageT'])\n",
    "X_train_H = X_train_H.drop(columns=['Clap_level'])\n",
    "\n",
    "y_train_0 = y_train_0.drop(columns=['Clap_level'])\n",
    "y_train_L = y_train_L.drop(columns=['Clap_level'])\n",
    "y_train_H = y_train_H.drop(columns=['Clap_level'])"
   ]
  },
  {
   "cell_type": "code",
   "execution_count": 241,
   "metadata": {},
   "outputs": [],
   "source": [
    "X_test = test[['Responses', 'sentiment_header', 'readibility_level', 'Keyword_no', 'HeaderHasDigits', 'Minute_read', 'PublicationT', 'PopularPublicationT', 'LanguageT']]"
   ]
  },
  {
   "cell_type": "code",
   "execution_count": 242,
   "metadata": {},
   "outputs": [
    {
     "name": "stderr",
     "output_type": "stream",
     "text": [
      "<ipython-input-242-ebbdda8fe4d8>:1: SettingWithCopyWarning: \n",
      "A value is trying to be set on a copy of a slice from a DataFrame.\n",
      "Try using .loc[row_indexer,col_indexer] = value instead\n",
      "\n",
      "See the caveats in the documentation: https://pandas.pydata.org/pandas-docs/stable/user_guide/indexing.html#returning-a-view-versus-a-copy\n",
      "  X_test['Clap_level'] = ensemble_preds\n"
     ]
    }
   ],
   "source": [
    "X_test['Clap_level'] = ensemble_preds"
   ]
  },
  {
   "cell_type": "code",
   "execution_count": 243,
   "metadata": {},
   "outputs": [],
   "source": [
    "X_test_0 = X_test[X_test['Clap_level'] == 'No']\n",
    "X_test_L = X_test[X_test['Clap_level'] == 'Low']\n",
    "X_test_H = X_test[X_test['Clap_level'] == 'High']"
   ]
  },
  {
   "cell_type": "code",
   "execution_count": 244,
   "metadata": {},
   "outputs": [],
   "source": [
    "X_test_0 = X_test_0.drop(columns=['Clap_level'])\n",
    "X_test_L = X_test_L.drop(columns=['Clap_level', 'HeaderHasDigits', 'PopularPublicationT', 'LanguageT'])\n",
    "X_test_H = X_test_H.drop(columns=['Clap_level'])"
   ]
  },
  {
   "cell_type": "markdown",
   "metadata": {},
   "source": [
    "#### Assign values to Clap Level: No"
   ]
  },
  {
   "cell_type": "code",
   "execution_count": 245,
   "metadata": {},
   "outputs": [],
   "source": [
    "X_test_0['Claps'] = 0"
   ]
  },
  {
   "cell_type": "code",
   "execution_count": 246,
   "metadata": {},
   "outputs": [
    {
     "data": {
      "text/html": [
       "<div>\n",
       "<style scoped>\n",
       "    .dataframe tbody tr th:only-of-type {\n",
       "        vertical-align: middle;\n",
       "    }\n",
       "\n",
       "    .dataframe tbody tr th {\n",
       "        vertical-align: top;\n",
       "    }\n",
       "\n",
       "    .dataframe thead th {\n",
       "        text-align: right;\n",
       "    }\n",
       "</style>\n",
       "<table border=\"1\" class=\"dataframe\">\n",
       "  <thead>\n",
       "    <tr style=\"text-align: right;\">\n",
       "      <th></th>\n",
       "      <th>Responses</th>\n",
       "      <th>sentiment_header</th>\n",
       "      <th>readibility_level</th>\n",
       "      <th>Keyword_no</th>\n",
       "      <th>HeaderHasDigits</th>\n",
       "      <th>Minute_read</th>\n",
       "      <th>PublicationT</th>\n",
       "      <th>PopularPublicationT</th>\n",
       "      <th>LanguageT</th>\n",
       "      <th>Claps</th>\n",
       "    </tr>\n",
       "  </thead>\n",
       "  <tbody>\n",
       "    <tr>\n",
       "      <th>16</th>\n",
       "      <td>0</td>\n",
       "      <td>0.0000</td>\n",
       "      <td>41.0</td>\n",
       "      <td>53</td>\n",
       "      <td>False</td>\n",
       "      <td>2</td>\n",
       "      <td>13.0</td>\n",
       "      <td>0.0</td>\n",
       "      <td>0.0</td>\n",
       "      <td>0</td>\n",
       "    </tr>\n",
       "    <tr>\n",
       "      <th>46</th>\n",
       "      <td>7</td>\n",
       "      <td>0.0000</td>\n",
       "      <td>10.8</td>\n",
       "      <td>18</td>\n",
       "      <td>True</td>\n",
       "      <td>0</td>\n",
       "      <td>10.0</td>\n",
       "      <td>0.0</td>\n",
       "      <td>0.0</td>\n",
       "      <td>0</td>\n",
       "    </tr>\n",
       "    <tr>\n",
       "      <th>47</th>\n",
       "      <td>10</td>\n",
       "      <td>0.0000</td>\n",
       "      <td>10.8</td>\n",
       "      <td>11</td>\n",
       "      <td>False</td>\n",
       "      <td>0</td>\n",
       "      <td>62.0</td>\n",
       "      <td>0.0</td>\n",
       "      <td>0.0</td>\n",
       "      <td>0</td>\n",
       "    </tr>\n",
       "    <tr>\n",
       "      <th>52</th>\n",
       "      <td>0</td>\n",
       "      <td>-0.2960</td>\n",
       "      <td>5.5</td>\n",
       "      <td>9</td>\n",
       "      <td>False</td>\n",
       "      <td>0</td>\n",
       "      <td>39.0</td>\n",
       "      <td>0.0</td>\n",
       "      <td>0.0</td>\n",
       "      <td>0</td>\n",
       "    </tr>\n",
       "    <tr>\n",
       "      <th>66</th>\n",
       "      <td>0</td>\n",
       "      <td>0.4215</td>\n",
       "      <td>15.5</td>\n",
       "      <td>25</td>\n",
       "      <td>False</td>\n",
       "      <td>1</td>\n",
       "      <td>64.0</td>\n",
       "      <td>0.0</td>\n",
       "      <td>0.0</td>\n",
       "      <td>0</td>\n",
       "    </tr>\n",
       "    <tr>\n",
       "      <th>73</th>\n",
       "      <td>0</td>\n",
       "      <td>0.0000</td>\n",
       "      <td>20.6</td>\n",
       "      <td>14</td>\n",
       "      <td>False</td>\n",
       "      <td>0</td>\n",
       "      <td>64.0</td>\n",
       "      <td>0.0</td>\n",
       "      <td>0.0</td>\n",
       "      <td>0</td>\n",
       "    </tr>\n",
       "    <tr>\n",
       "      <th>74</th>\n",
       "      <td>10</td>\n",
       "      <td>-0.4767</td>\n",
       "      <td>20.4</td>\n",
       "      <td>14</td>\n",
       "      <td>False</td>\n",
       "      <td>0</td>\n",
       "      <td>42.0</td>\n",
       "      <td>0.0</td>\n",
       "      <td>0.0</td>\n",
       "      <td>0</td>\n",
       "    </tr>\n",
       "    <tr>\n",
       "      <th>82</th>\n",
       "      <td>0</td>\n",
       "      <td>0.0000</td>\n",
       "      <td>26.5</td>\n",
       "      <td>21</td>\n",
       "      <td>False</td>\n",
       "      <td>1</td>\n",
       "      <td>64.0</td>\n",
       "      <td>0.0</td>\n",
       "      <td>0.0</td>\n",
       "      <td>0</td>\n",
       "    </tr>\n",
       "    <tr>\n",
       "      <th>91</th>\n",
       "      <td>0</td>\n",
       "      <td>0.4215</td>\n",
       "      <td>25.3</td>\n",
       "      <td>44</td>\n",
       "      <td>True</td>\n",
       "      <td>1</td>\n",
       "      <td>64.0</td>\n",
       "      <td>0.0</td>\n",
       "      <td>0.0</td>\n",
       "      <td>0</td>\n",
       "    </tr>\n",
       "    <tr>\n",
       "      <th>92</th>\n",
       "      <td>0</td>\n",
       "      <td>0.7351</td>\n",
       "      <td>8.6</td>\n",
       "      <td>110</td>\n",
       "      <td>False</td>\n",
       "      <td>3</td>\n",
       "      <td>78.0</td>\n",
       "      <td>0.0</td>\n",
       "      <td>0.0</td>\n",
       "      <td>0</td>\n",
       "    </tr>\n",
       "    <tr>\n",
       "      <th>102</th>\n",
       "      <td>0</td>\n",
       "      <td>-0.4019</td>\n",
       "      <td>7.2</td>\n",
       "      <td>9</td>\n",
       "      <td>False</td>\n",
       "      <td>0</td>\n",
       "      <td>39.0</td>\n",
       "      <td>0.0</td>\n",
       "      <td>0.0</td>\n",
       "      <td>0</td>\n",
       "    </tr>\n",
       "    <tr>\n",
       "      <th>105</th>\n",
       "      <td>8</td>\n",
       "      <td>-0.3875</td>\n",
       "      <td>9.6</td>\n",
       "      <td>11</td>\n",
       "      <td>False</td>\n",
       "      <td>0</td>\n",
       "      <td>0.0</td>\n",
       "      <td>0.0</td>\n",
       "      <td>0.0</td>\n",
       "      <td>0</td>\n",
       "    </tr>\n",
       "    <tr>\n",
       "      <th>119</th>\n",
       "      <td>0</td>\n",
       "      <td>0.0000</td>\n",
       "      <td>17.7</td>\n",
       "      <td>7</td>\n",
       "      <td>True</td>\n",
       "      <td>0</td>\n",
       "      <td>64.0</td>\n",
       "      <td>0.0</td>\n",
       "      <td>0.0</td>\n",
       "      <td>0</td>\n",
       "    </tr>\n",
       "    <tr>\n",
       "      <th>120</th>\n",
       "      <td>0</td>\n",
       "      <td>0.0000</td>\n",
       "      <td>27.2</td>\n",
       "      <td>42</td>\n",
       "      <td>True</td>\n",
       "      <td>1</td>\n",
       "      <td>64.0</td>\n",
       "      <td>0.0</td>\n",
       "      <td>0.0</td>\n",
       "      <td>0</td>\n",
       "    </tr>\n",
       "    <tr>\n",
       "      <th>127</th>\n",
       "      <td>0</td>\n",
       "      <td>0.1280</td>\n",
       "      <td>17.7</td>\n",
       "      <td>60</td>\n",
       "      <td>False</td>\n",
       "      <td>1</td>\n",
       "      <td>64.0</td>\n",
       "      <td>0.0</td>\n",
       "      <td>0.0</td>\n",
       "      <td>0</td>\n",
       "    </tr>\n",
       "    <tr>\n",
       "      <th>136</th>\n",
       "      <td>0</td>\n",
       "      <td>0.0000</td>\n",
       "      <td>16.2</td>\n",
       "      <td>20</td>\n",
       "      <td>False</td>\n",
       "      <td>0</td>\n",
       "      <td>64.0</td>\n",
       "      <td>0.0</td>\n",
       "      <td>0.0</td>\n",
       "      <td>0</td>\n",
       "    </tr>\n",
       "    <tr>\n",
       "      <th>138</th>\n",
       "      <td>9</td>\n",
       "      <td>0.0000</td>\n",
       "      <td>9.1</td>\n",
       "      <td>9</td>\n",
       "      <td>False</td>\n",
       "      <td>0</td>\n",
       "      <td>42.0</td>\n",
       "      <td>0.0</td>\n",
       "      <td>0.0</td>\n",
       "      <td>0</td>\n",
       "    </tr>\n",
       "    <tr>\n",
       "      <th>146</th>\n",
       "      <td>0</td>\n",
       "      <td>0.0000</td>\n",
       "      <td>14.8</td>\n",
       "      <td>64</td>\n",
       "      <td>False</td>\n",
       "      <td>2</td>\n",
       "      <td>44.0</td>\n",
       "      <td>0.0</td>\n",
       "      <td>0.0</td>\n",
       "      <td>0</td>\n",
       "    </tr>\n",
       "    <tr>\n",
       "      <th>164</th>\n",
       "      <td>0</td>\n",
       "      <td>0.0000</td>\n",
       "      <td>33.5</td>\n",
       "      <td>29</td>\n",
       "      <td>False</td>\n",
       "      <td>1</td>\n",
       "      <td>64.0</td>\n",
       "      <td>0.0</td>\n",
       "      <td>0.0</td>\n",
       "      <td>0</td>\n",
       "    </tr>\n",
       "    <tr>\n",
       "      <th>168</th>\n",
       "      <td>0</td>\n",
       "      <td>0.0000</td>\n",
       "      <td>18.3</td>\n",
       "      <td>73</td>\n",
       "      <td>False</td>\n",
       "      <td>2</td>\n",
       "      <td>54.0</td>\n",
       "      <td>0.0</td>\n",
       "      <td>0.0</td>\n",
       "      <td>0</td>\n",
       "    </tr>\n",
       "    <tr>\n",
       "      <th>169</th>\n",
       "      <td>0</td>\n",
       "      <td>0.0000</td>\n",
       "      <td>18.1</td>\n",
       "      <td>41</td>\n",
       "      <td>True</td>\n",
       "      <td>1</td>\n",
       "      <td>78.0</td>\n",
       "      <td>0.0</td>\n",
       "      <td>0.0</td>\n",
       "      <td>0</td>\n",
       "    </tr>\n",
       "    <tr>\n",
       "      <th>170</th>\n",
       "      <td>0</td>\n",
       "      <td>0.0000</td>\n",
       "      <td>18.0</td>\n",
       "      <td>17</td>\n",
       "      <td>True</td>\n",
       "      <td>0</td>\n",
       "      <td>64.0</td>\n",
       "      <td>0.0</td>\n",
       "      <td>0.0</td>\n",
       "      <td>0</td>\n",
       "    </tr>\n",
       "    <tr>\n",
       "      <th>177</th>\n",
       "      <td>1</td>\n",
       "      <td>0.6486</td>\n",
       "      <td>13.9</td>\n",
       "      <td>103</td>\n",
       "      <td>True</td>\n",
       "      <td>3</td>\n",
       "      <td>78.0</td>\n",
       "      <td>0.0</td>\n",
       "      <td>0.0</td>\n",
       "      <td>0</td>\n",
       "    </tr>\n",
       "    <tr>\n",
       "      <th>188</th>\n",
       "      <td>0</td>\n",
       "      <td>0.6369</td>\n",
       "      <td>7.2</td>\n",
       "      <td>7</td>\n",
       "      <td>False</td>\n",
       "      <td>0</td>\n",
       "      <td>0.0</td>\n",
       "      <td>0.0</td>\n",
       "      <td>0.0</td>\n",
       "      <td>0</td>\n",
       "    </tr>\n",
       "    <tr>\n",
       "      <th>189</th>\n",
       "      <td>9</td>\n",
       "      <td>0.8074</td>\n",
       "      <td>11.5</td>\n",
       "      <td>7</td>\n",
       "      <td>False</td>\n",
       "      <td>0</td>\n",
       "      <td>42.0</td>\n",
       "      <td>0.0</td>\n",
       "      <td>0.0</td>\n",
       "      <td>0</td>\n",
       "    </tr>\n",
       "    <tr>\n",
       "      <th>191</th>\n",
       "      <td>0</td>\n",
       "      <td>0.0000</td>\n",
       "      <td>29.1</td>\n",
       "      <td>29</td>\n",
       "      <td>False</td>\n",
       "      <td>1</td>\n",
       "      <td>48.0</td>\n",
       "      <td>0.0</td>\n",
       "      <td>0.0</td>\n",
       "      <td>0</td>\n",
       "    </tr>\n",
       "    <tr>\n",
       "      <th>199</th>\n",
       "      <td>0</td>\n",
       "      <td>-0.2500</td>\n",
       "      <td>16.3</td>\n",
       "      <td>25</td>\n",
       "      <td>True</td>\n",
       "      <td>0</td>\n",
       "      <td>39.0</td>\n",
       "      <td>0.0</td>\n",
       "      <td>0.0</td>\n",
       "      <td>0</td>\n",
       "    </tr>\n",
       "    <tr>\n",
       "      <th>205</th>\n",
       "      <td>0</td>\n",
       "      <td>-0.4588</td>\n",
       "      <td>14.1</td>\n",
       "      <td>77</td>\n",
       "      <td>True</td>\n",
       "      <td>3</td>\n",
       "      <td>57.0</td>\n",
       "      <td>0.0</td>\n",
       "      <td>0.0</td>\n",
       "      <td>0</td>\n",
       "    </tr>\n",
       "    <tr>\n",
       "      <th>207</th>\n",
       "      <td>0</td>\n",
       "      <td>0.0000</td>\n",
       "      <td>20.2</td>\n",
       "      <td>94</td>\n",
       "      <td>False</td>\n",
       "      <td>3</td>\n",
       "      <td>20.0</td>\n",
       "      <td>0.0</td>\n",
       "      <td>0.0</td>\n",
       "      <td>0</td>\n",
       "    </tr>\n",
       "    <tr>\n",
       "      <th>208</th>\n",
       "      <td>0</td>\n",
       "      <td>0.0000</td>\n",
       "      <td>20.7</td>\n",
       "      <td>36</td>\n",
       "      <td>True</td>\n",
       "      <td>1</td>\n",
       "      <td>39.0</td>\n",
       "      <td>0.0</td>\n",
       "      <td>0.0</td>\n",
       "      <td>0</td>\n",
       "    </tr>\n",
       "    <tr>\n",
       "      <th>210</th>\n",
       "      <td>1</td>\n",
       "      <td>0.0000</td>\n",
       "      <td>7.6</td>\n",
       "      <td>9</td>\n",
       "      <td>False</td>\n",
       "      <td>0</td>\n",
       "      <td>42.0</td>\n",
       "      <td>0.0</td>\n",
       "      <td>0.0</td>\n",
       "      <td>0</td>\n",
       "    </tr>\n",
       "    <tr>\n",
       "      <th>215</th>\n",
       "      <td>0</td>\n",
       "      <td>0.0258</td>\n",
       "      <td>22.5</td>\n",
       "      <td>28</td>\n",
       "      <td>False</td>\n",
       "      <td>1</td>\n",
       "      <td>64.0</td>\n",
       "      <td>0.0</td>\n",
       "      <td>0.0</td>\n",
       "      <td>0</td>\n",
       "    </tr>\n",
       "    <tr>\n",
       "      <th>222</th>\n",
       "      <td>0</td>\n",
       "      <td>-0.6113</td>\n",
       "      <td>4.6</td>\n",
       "      <td>9</td>\n",
       "      <td>True</td>\n",
       "      <td>0</td>\n",
       "      <td>39.0</td>\n",
       "      <td>0.0</td>\n",
       "      <td>0.0</td>\n",
       "      <td>0</td>\n",
       "    </tr>\n",
       "    <tr>\n",
       "      <th>224</th>\n",
       "      <td>0</td>\n",
       "      <td>-0.6037</td>\n",
       "      <td>22.8</td>\n",
       "      <td>13</td>\n",
       "      <td>False</td>\n",
       "      <td>0</td>\n",
       "      <td>6.0</td>\n",
       "      <td>0.0</td>\n",
       "      <td>0.0</td>\n",
       "      <td>0</td>\n",
       "    </tr>\n",
       "    <tr>\n",
       "      <th>227</th>\n",
       "      <td>0</td>\n",
       "      <td>-0.5267</td>\n",
       "      <td>21.7</td>\n",
       "      <td>22</td>\n",
       "      <td>True</td>\n",
       "      <td>0</td>\n",
       "      <td>94.0</td>\n",
       "      <td>0.0</td>\n",
       "      <td>0.0</td>\n",
       "      <td>0</td>\n",
       "    </tr>\n",
       "    <tr>\n",
       "      <th>248</th>\n",
       "      <td>12</td>\n",
       "      <td>-0.3612</td>\n",
       "      <td>10.8</td>\n",
       "      <td>11</td>\n",
       "      <td>False</td>\n",
       "      <td>0</td>\n",
       "      <td>19.0</td>\n",
       "      <td>0.0</td>\n",
       "      <td>0.0</td>\n",
       "      <td>0</td>\n",
       "    </tr>\n",
       "    <tr>\n",
       "      <th>306</th>\n",
       "      <td>0</td>\n",
       "      <td>-0.5664</td>\n",
       "      <td>6.9</td>\n",
       "      <td>8</td>\n",
       "      <td>False</td>\n",
       "      <td>0</td>\n",
       "      <td>80.0</td>\n",
       "      <td>0.0</td>\n",
       "      <td>0.0</td>\n",
       "      <td>0</td>\n",
       "    </tr>\n",
       "    <tr>\n",
       "      <th>378</th>\n",
       "      <td>0</td>\n",
       "      <td>-0.5664</td>\n",
       "      <td>6.9</td>\n",
       "      <td>8</td>\n",
       "      <td>False</td>\n",
       "      <td>0</td>\n",
       "      <td>80.0</td>\n",
       "      <td>0.0</td>\n",
       "      <td>0.0</td>\n",
       "      <td>0</td>\n",
       "    </tr>\n",
       "    <tr>\n",
       "      <th>480</th>\n",
       "      <td>0</td>\n",
       "      <td>0.2500</td>\n",
       "      <td>11.8</td>\n",
       "      <td>177</td>\n",
       "      <td>False</td>\n",
       "      <td>6</td>\n",
       "      <td>80.0</td>\n",
       "      <td>0.0</td>\n",
       "      <td>0.0</td>\n",
       "      <td>0</td>\n",
       "    </tr>\n",
       "  </tbody>\n",
       "</table>\n",
       "</div>"
      ],
      "text/plain": [
       "     Responses  sentiment_header  readibility_level  Keyword_no  \\\n",
       "16           0            0.0000               41.0          53   \n",
       "46           7            0.0000               10.8          18   \n",
       "47          10            0.0000               10.8          11   \n",
       "52           0           -0.2960                5.5           9   \n",
       "66           0            0.4215               15.5          25   \n",
       "73           0            0.0000               20.6          14   \n",
       "74          10           -0.4767               20.4          14   \n",
       "82           0            0.0000               26.5          21   \n",
       "91           0            0.4215               25.3          44   \n",
       "92           0            0.7351                8.6         110   \n",
       "102          0           -0.4019                7.2           9   \n",
       "105          8           -0.3875                9.6          11   \n",
       "119          0            0.0000               17.7           7   \n",
       "120          0            0.0000               27.2          42   \n",
       "127          0            0.1280               17.7          60   \n",
       "136          0            0.0000               16.2          20   \n",
       "138          9            0.0000                9.1           9   \n",
       "146          0            0.0000               14.8          64   \n",
       "164          0            0.0000               33.5          29   \n",
       "168          0            0.0000               18.3          73   \n",
       "169          0            0.0000               18.1          41   \n",
       "170          0            0.0000               18.0          17   \n",
       "177          1            0.6486               13.9         103   \n",
       "188          0            0.6369                7.2           7   \n",
       "189          9            0.8074               11.5           7   \n",
       "191          0            0.0000               29.1          29   \n",
       "199          0           -0.2500               16.3          25   \n",
       "205          0           -0.4588               14.1          77   \n",
       "207          0            0.0000               20.2          94   \n",
       "208          0            0.0000               20.7          36   \n",
       "210          1            0.0000                7.6           9   \n",
       "215          0            0.0258               22.5          28   \n",
       "222          0           -0.6113                4.6           9   \n",
       "224          0           -0.6037               22.8          13   \n",
       "227          0           -0.5267               21.7          22   \n",
       "248         12           -0.3612               10.8          11   \n",
       "306          0           -0.5664                6.9           8   \n",
       "378          0           -0.5664                6.9           8   \n",
       "480          0            0.2500               11.8         177   \n",
       "\n",
       "     HeaderHasDigits  Minute_read  PublicationT  PopularPublicationT  \\\n",
       "16             False            2          13.0                  0.0   \n",
       "46              True            0          10.0                  0.0   \n",
       "47             False            0          62.0                  0.0   \n",
       "52             False            0          39.0                  0.0   \n",
       "66             False            1          64.0                  0.0   \n",
       "73             False            0          64.0                  0.0   \n",
       "74             False            0          42.0                  0.0   \n",
       "82             False            1          64.0                  0.0   \n",
       "91              True            1          64.0                  0.0   \n",
       "92             False            3          78.0                  0.0   \n",
       "102            False            0          39.0                  0.0   \n",
       "105            False            0           0.0                  0.0   \n",
       "119             True            0          64.0                  0.0   \n",
       "120             True            1          64.0                  0.0   \n",
       "127            False            1          64.0                  0.0   \n",
       "136            False            0          64.0                  0.0   \n",
       "138            False            0          42.0                  0.0   \n",
       "146            False            2          44.0                  0.0   \n",
       "164            False            1          64.0                  0.0   \n",
       "168            False            2          54.0                  0.0   \n",
       "169             True            1          78.0                  0.0   \n",
       "170             True            0          64.0                  0.0   \n",
       "177             True            3          78.0                  0.0   \n",
       "188            False            0           0.0                  0.0   \n",
       "189            False            0          42.0                  0.0   \n",
       "191            False            1          48.0                  0.0   \n",
       "199             True            0          39.0                  0.0   \n",
       "205             True            3          57.0                  0.0   \n",
       "207            False            3          20.0                  0.0   \n",
       "208             True            1          39.0                  0.0   \n",
       "210            False            0          42.0                  0.0   \n",
       "215            False            1          64.0                  0.0   \n",
       "222             True            0          39.0                  0.0   \n",
       "224            False            0           6.0                  0.0   \n",
       "227             True            0          94.0                  0.0   \n",
       "248            False            0          19.0                  0.0   \n",
       "306            False            0          80.0                  0.0   \n",
       "378            False            0          80.0                  0.0   \n",
       "480            False            6          80.0                  0.0   \n",
       "\n",
       "     LanguageT  Claps  \n",
       "16         0.0      0  \n",
       "46         0.0      0  \n",
       "47         0.0      0  \n",
       "52         0.0      0  \n",
       "66         0.0      0  \n",
       "73         0.0      0  \n",
       "74         0.0      0  \n",
       "82         0.0      0  \n",
       "91         0.0      0  \n",
       "92         0.0      0  \n",
       "102        0.0      0  \n",
       "105        0.0      0  \n",
       "119        0.0      0  \n",
       "120        0.0      0  \n",
       "127        0.0      0  \n",
       "136        0.0      0  \n",
       "138        0.0      0  \n",
       "146        0.0      0  \n",
       "164        0.0      0  \n",
       "168        0.0      0  \n",
       "169        0.0      0  \n",
       "170        0.0      0  \n",
       "177        0.0      0  \n",
       "188        0.0      0  \n",
       "189        0.0      0  \n",
       "191        0.0      0  \n",
       "199        0.0      0  \n",
       "205        0.0      0  \n",
       "207        0.0      0  \n",
       "208        0.0      0  \n",
       "210        0.0      0  \n",
       "215        0.0      0  \n",
       "222        0.0      0  \n",
       "224        0.0      0  \n",
       "227        0.0      0  \n",
       "248        0.0      0  \n",
       "306        0.0      0  \n",
       "378        0.0      0  \n",
       "480        0.0      0  "
      ]
     },
     "execution_count": 246,
     "metadata": {},
     "output_type": "execute_result"
    }
   ],
   "source": [
    "X_test_0"
   ]
  },
  {
   "cell_type": "markdown",
   "metadata": {},
   "source": [
    "#### XGBoost for Clap Level: Low"
   ]
  },
  {
   "cell_type": "code",
   "execution_count": 247,
   "metadata": {},
   "outputs": [],
   "source": [
    "xgbr_model = xgb.XGBRegressor(learning_rate=0.1, max_depth=5, n_estimators=100)\n",
    "xgbr_preds = xgbr_model.fit(X_train_L, y_train_L).predict(X_test_L)"
   ]
  },
  {
   "cell_type": "code",
   "execution_count": 248,
   "metadata": {},
   "outputs": [
    {
     "data": {
      "text/plain": [
       "array([30.34575 , 32.396053, 31.874054, 55.668194, 41.774685, 32.960484,\n",
       "       40.377106, 42.311398,  9.505881, 25.510654, 33.45407 , 59.93758 ,\n",
       "       36.0402  , 34.555855, 42.075012, 32.264664, 25.861362, 35.760773,\n",
       "       25.696352, 32.834373, 40.67344 , 53.334976,  8.299854, 30.330841,\n",
       "       30.017063, 39.35396 , 36.14089 , 42.462994, 50.795067, 38.35947 ,\n",
       "       17.973946, 33.691284, 36.375843, 23.867094, 29.5     , 33.55897 ,\n",
       "       25.350866, 31.97977 , 19.45606 , 40.87969 , 38.46601 , 32.9942  ,\n",
       "       31.277601, 29.995083, 38.88813 , 38.57038 , 47.03969 , 35.837254,\n",
       "       41.355885, 38.611473, 34.724155, 29.861134, 44.918694, 42.01214 ,\n",
       "       37.42565 , 14.829746, 26.90905 , 39.5186  , 41.059917, 17.12661 ,\n",
       "       22.72707 , 24.992735, 20.178719, 31.267502,  9.800645, 15.277982,\n",
       "       20.374445, 13.847465, 30.298391, 27.277096, 27.589655, 32.56258 ,\n",
       "       48.917828, 37.356815, 13.847465, 20.290585, 28.208384, 39.014923,\n",
       "       16.502394, 44.083355, 40.736435, 18.023155, 14.424461, 34.311028,\n",
       "       19.665869, 16.286098, 40.557022, 12.089824, 17.479708, 31.130577,\n",
       "       32.9942  , 29.17523 , 44.04968 , 33.812008, 17.310694, 40.286556,\n",
       "       29.707842, 18.826515,  8.952903, 21.028055, 47.75739 , 26.943108,\n",
       "       28.923738, 36.313156, 33.383293, 40.997017, 21.646254, 23.85358 ,\n",
       "       19.174463, 17.310694, 19.735355, 17.973946, 44.490307, 47.11656 ,\n",
       "       12.878043, 39.034832, 15.814649, 38.430786, 41.79701 , 31.551502,\n",
       "       31.911991, 30.39644 , 42.81673 , 37.339535, 32.355675, 48.241207,\n",
       "       33.27462 , 47.06894 , 52.445797, 42.701893, 34.263584, 35.417843,\n",
       "       32.86496 , 47.06894 , 29.606396, 51.592865, 46.108654, 48.6799  ,\n",
       "       51.563396, 29.240114, 31.911991, 30.39644 , 42.81673 , 37.339535,\n",
       "       32.355675, 48.241207, 33.27462 , 47.06894 , 52.445797, 42.701893,\n",
       "       34.263584, 35.417843, 32.86496 , 47.06894 , 29.606396, 46.395412,\n",
       "        5.272886,  7.083331, 17.339993, 17.339993, 29.3973  , 37.188007,\n",
       "       21.004393, 45.458736, 34.73061 , 27.476925, 40.626827, 32.69626 ,\n",
       "       28.109335, 35.14027 , 42.726963, 43.75572 , 34.944336, 16.307209,\n",
       "       30.741585, 39.402782, 45.270008, 31.30238 , 48.260418, 38.96158 ,\n",
       "       40.14266 , 33.45407 , 19.00877 ], dtype=float32)"
      ]
     },
     "execution_count": 248,
     "metadata": {},
     "output_type": "execute_result"
    }
   ],
   "source": [
    "xgbr_preds"
   ]
  },
  {
   "cell_type": "code",
   "execution_count": 249,
   "metadata": {},
   "outputs": [],
   "source": [
    "X_test_L['Claps'] = xgbr_preds"
   ]
  },
  {
   "cell_type": "markdown",
   "metadata": {},
   "source": [
    "#### MLP Regressor for Clap Level: High"
   ]
  },
  {
   "cell_type": "code",
   "execution_count": 250,
   "metadata": {},
   "outputs": [
    {
     "name": "stderr",
     "output_type": "stream",
     "text": [
      "c:\\users\\alex work\\pycharmprojects\\adams\\venv2\\lib\\site-packages\\sklearn\\utils\\validation.py:72: DataConversionWarning: A column-vector y was passed when a 1d array was expected. Please change the shape of y to (n_samples, ), for example using ravel().\n",
      "  return f(**kwargs)\n"
     ]
    }
   ],
   "source": [
    "mlp_model = MLPRegressor()\n",
    "mlp_preds = mlp_model.fit(X_train_H, y_train_H).predict(X_test_H)"
   ]
  },
  {
   "cell_type": "code",
   "execution_count": 251,
   "metadata": {},
   "outputs": [],
   "source": [
    "X_test_H['Claps'] = mlp_preds"
   ]
  },
  {
   "cell_type": "markdown",
   "metadata": {},
   "source": [
    "#### Concatenate test dataframes"
   ]
  },
  {
   "cell_type": "code",
   "execution_count": 252,
   "metadata": {},
   "outputs": [],
   "source": [
    "result = pd.concat([X_test_0, X_test_L, X_test_H], sort=True)"
   ]
  },
  {
   "cell_type": "code",
   "execution_count": 253,
   "metadata": {},
   "outputs": [
    {
     "data": {
      "text/html": [
       "<div>\n",
       "<style scoped>\n",
       "    .dataframe tbody tr th:only-of-type {\n",
       "        vertical-align: middle;\n",
       "    }\n",
       "\n",
       "    .dataframe tbody tr th {\n",
       "        vertical-align: top;\n",
       "    }\n",
       "\n",
       "    .dataframe thead th {\n",
       "        text-align: right;\n",
       "    }\n",
       "</style>\n",
       "<table border=\"1\" class=\"dataframe\">\n",
       "  <thead>\n",
       "    <tr style=\"text-align: right;\">\n",
       "      <th></th>\n",
       "      <th>Claps</th>\n",
       "      <th>HeaderHasDigits</th>\n",
       "      <th>Keyword_no</th>\n",
       "      <th>LanguageT</th>\n",
       "      <th>Minute_read</th>\n",
       "      <th>PopularPublicationT</th>\n",
       "      <th>PublicationT</th>\n",
       "      <th>Responses</th>\n",
       "      <th>readibility_level</th>\n",
       "      <th>sentiment_header</th>\n",
       "    </tr>\n",
       "  </thead>\n",
       "  <tbody>\n",
       "    <tr>\n",
       "      <th>16</th>\n",
       "      <td>0.000000</td>\n",
       "      <td>False</td>\n",
       "      <td>53</td>\n",
       "      <td>0.0</td>\n",
       "      <td>2</td>\n",
       "      <td>0.0</td>\n",
       "      <td>13.0</td>\n",
       "      <td>0</td>\n",
       "      <td>41.0</td>\n",
       "      <td>0.0000</td>\n",
       "    </tr>\n",
       "    <tr>\n",
       "      <th>46</th>\n",
       "      <td>0.000000</td>\n",
       "      <td>True</td>\n",
       "      <td>18</td>\n",
       "      <td>0.0</td>\n",
       "      <td>0</td>\n",
       "      <td>0.0</td>\n",
       "      <td>10.0</td>\n",
       "      <td>7</td>\n",
       "      <td>10.8</td>\n",
       "      <td>0.0000</td>\n",
       "    </tr>\n",
       "    <tr>\n",
       "      <th>47</th>\n",
       "      <td>0.000000</td>\n",
       "      <td>False</td>\n",
       "      <td>11</td>\n",
       "      <td>0.0</td>\n",
       "      <td>0</td>\n",
       "      <td>0.0</td>\n",
       "      <td>62.0</td>\n",
       "      <td>10</td>\n",
       "      <td>10.8</td>\n",
       "      <td>0.0000</td>\n",
       "    </tr>\n",
       "    <tr>\n",
       "      <th>52</th>\n",
       "      <td>0.000000</td>\n",
       "      <td>False</td>\n",
       "      <td>9</td>\n",
       "      <td>0.0</td>\n",
       "      <td>0</td>\n",
       "      <td>0.0</td>\n",
       "      <td>39.0</td>\n",
       "      <td>0</td>\n",
       "      <td>5.5</td>\n",
       "      <td>-0.2960</td>\n",
       "    </tr>\n",
       "    <tr>\n",
       "      <th>66</th>\n",
       "      <td>0.000000</td>\n",
       "      <td>False</td>\n",
       "      <td>25</td>\n",
       "      <td>0.0</td>\n",
       "      <td>1</td>\n",
       "      <td>0.0</td>\n",
       "      <td>64.0</td>\n",
       "      <td>0</td>\n",
       "      <td>15.5</td>\n",
       "      <td>0.4215</td>\n",
       "    </tr>\n",
       "    <tr>\n",
       "      <th>...</th>\n",
       "      <td>...</td>\n",
       "      <td>...</td>\n",
       "      <td>...</td>\n",
       "      <td>...</td>\n",
       "      <td>...</td>\n",
       "      <td>...</td>\n",
       "      <td>...</td>\n",
       "      <td>...</td>\n",
       "      <td>...</td>\n",
       "      <td>...</td>\n",
       "    </tr>\n",
       "    <tr>\n",
       "      <th>509</th>\n",
       "      <td>17515.132524</td>\n",
       "      <td>True</td>\n",
       "      <td>217</td>\n",
       "      <td>0.0</td>\n",
       "      <td>7</td>\n",
       "      <td>0.0</td>\n",
       "      <td>61.0</td>\n",
       "      <td>181</td>\n",
       "      <td>7.2</td>\n",
       "      <td>-0.6369</td>\n",
       "    </tr>\n",
       "    <tr>\n",
       "      <th>510</th>\n",
       "      <td>3778.513202</td>\n",
       "      <td>False</td>\n",
       "      <td>111</td>\n",
       "      <td>0.0</td>\n",
       "      <td>4</td>\n",
       "      <td>0.0</td>\n",
       "      <td>39.0</td>\n",
       "      <td>24</td>\n",
       "      <td>11.7</td>\n",
       "      <td>0.4019</td>\n",
       "    </tr>\n",
       "    <tr>\n",
       "      <th>511</th>\n",
       "      <td>2082.321915</td>\n",
       "      <td>True</td>\n",
       "      <td>10</td>\n",
       "      <td>0.0</td>\n",
       "      <td>0</td>\n",
       "      <td>0.0</td>\n",
       "      <td>39.0</td>\n",
       "      <td>24</td>\n",
       "      <td>8.0</td>\n",
       "      <td>0.0000</td>\n",
       "    </tr>\n",
       "    <tr>\n",
       "      <th>512</th>\n",
       "      <td>13573.356547</td>\n",
       "      <td>False</td>\n",
       "      <td>281</td>\n",
       "      <td>0.0</td>\n",
       "      <td>11</td>\n",
       "      <td>0.0</td>\n",
       "      <td>8.0</td>\n",
       "      <td>116</td>\n",
       "      <td>9.6</td>\n",
       "      <td>0.0000</td>\n",
       "    </tr>\n",
       "    <tr>\n",
       "      <th>513</th>\n",
       "      <td>5500.400035</td>\n",
       "      <td>False</td>\n",
       "      <td>224</td>\n",
       "      <td>0.0</td>\n",
       "      <td>7</td>\n",
       "      <td>0.0</td>\n",
       "      <td>66.0</td>\n",
       "      <td>34</td>\n",
       "      <td>5.8</td>\n",
       "      <td>0.0000</td>\n",
       "    </tr>\n",
       "  </tbody>\n",
       "</table>\n",
       "<p>514 rows × 10 columns</p>\n",
       "</div>"
      ],
      "text/plain": [
       "            Claps HeaderHasDigits  Keyword_no  LanguageT  Minute_read  \\\n",
       "16       0.000000           False          53        0.0            2   \n",
       "46       0.000000            True          18        0.0            0   \n",
       "47       0.000000           False          11        0.0            0   \n",
       "52       0.000000           False           9        0.0            0   \n",
       "66       0.000000           False          25        0.0            1   \n",
       "..            ...             ...         ...        ...          ...   \n",
       "509  17515.132524            True         217        0.0            7   \n",
       "510   3778.513202           False         111        0.0            4   \n",
       "511   2082.321915            True          10        0.0            0   \n",
       "512  13573.356547           False         281        0.0           11   \n",
       "513   5500.400035           False         224        0.0            7   \n",
       "\n",
       "     PopularPublicationT  PublicationT  Responses  readibility_level  \\\n",
       "16                   0.0          13.0          0               41.0   \n",
       "46                   0.0          10.0          7               10.8   \n",
       "47                   0.0          62.0         10               10.8   \n",
       "52                   0.0          39.0          0                5.5   \n",
       "66                   0.0          64.0          0               15.5   \n",
       "..                   ...           ...        ...                ...   \n",
       "509                  0.0          61.0        181                7.2   \n",
       "510                  0.0          39.0         24               11.7   \n",
       "511                  0.0          39.0         24                8.0   \n",
       "512                  0.0           8.0        116                9.6   \n",
       "513                  0.0          66.0         34                5.8   \n",
       "\n",
       "     sentiment_header  \n",
       "16             0.0000  \n",
       "46             0.0000  \n",
       "47             0.0000  \n",
       "52            -0.2960  \n",
       "66             0.4215  \n",
       "..                ...  \n",
       "509           -0.6369  \n",
       "510            0.4019  \n",
       "511            0.0000  \n",
       "512            0.0000  \n",
       "513            0.0000  \n",
       "\n",
       "[514 rows x 10 columns]"
      ]
     },
     "execution_count": 253,
     "metadata": {},
     "output_type": "execute_result"
    }
   ],
   "source": [
    "result"
   ]
  },
  {
   "cell_type": "code",
   "execution_count": 254,
   "metadata": {},
   "outputs": [],
   "source": [
    "result = result.sort_index()"
   ]
  },
  {
   "cell_type": "code",
   "execution_count": 255,
   "metadata": {},
   "outputs": [],
   "source": [
    "result = result[['Claps']]"
   ]
  },
  {
   "cell_type": "code",
   "execution_count": 256,
   "metadata": {},
   "outputs": [],
   "source": [
    "result['index'] = test[['index']]"
   ]
  },
  {
   "cell_type": "code",
   "execution_count": 257,
   "metadata": {},
   "outputs": [
    {
     "data": {
      "text/html": [
       "<div>\n",
       "<style scoped>\n",
       "    .dataframe tbody tr th:only-of-type {\n",
       "        vertical-align: middle;\n",
       "    }\n",
       "\n",
       "    .dataframe tbody tr th {\n",
       "        vertical-align: top;\n",
       "    }\n",
       "\n",
       "    .dataframe thead th {\n",
       "        text-align: right;\n",
       "    }\n",
       "</style>\n",
       "<table border=\"1\" class=\"dataframe\">\n",
       "  <thead>\n",
       "    <tr style=\"text-align: right;\">\n",
       "      <th></th>\n",
       "      <th>Claps</th>\n",
       "      <th>index</th>\n",
       "    </tr>\n",
       "  </thead>\n",
       "  <tbody>\n",
       "    <tr>\n",
       "      <th>0</th>\n",
       "      <td>54858.761574</td>\n",
       "      <td>0</td>\n",
       "    </tr>\n",
       "    <tr>\n",
       "      <th>1</th>\n",
       "      <td>18417.817409</td>\n",
       "      <td>1</td>\n",
       "    </tr>\n",
       "    <tr>\n",
       "      <th>2</th>\n",
       "      <td>13468.082416</td>\n",
       "      <td>2</td>\n",
       "    </tr>\n",
       "    <tr>\n",
       "      <th>3</th>\n",
       "      <td>11026.857327</td>\n",
       "      <td>5</td>\n",
       "    </tr>\n",
       "    <tr>\n",
       "      <th>4</th>\n",
       "      <td>3025.882621</td>\n",
       "      <td>7</td>\n",
       "    </tr>\n",
       "    <tr>\n",
       "      <th>...</th>\n",
       "      <td>...</td>\n",
       "      <td>...</td>\n",
       "    </tr>\n",
       "    <tr>\n",
       "      <th>509</th>\n",
       "      <td>17515.132524</td>\n",
       "      <td>598</td>\n",
       "    </tr>\n",
       "    <tr>\n",
       "      <th>510</th>\n",
       "      <td>3778.513202</td>\n",
       "      <td>599</td>\n",
       "    </tr>\n",
       "    <tr>\n",
       "      <th>511</th>\n",
       "      <td>2082.321915</td>\n",
       "      <td>600</td>\n",
       "    </tr>\n",
       "    <tr>\n",
       "      <th>512</th>\n",
       "      <td>13573.356547</td>\n",
       "      <td>601</td>\n",
       "    </tr>\n",
       "    <tr>\n",
       "      <th>513</th>\n",
       "      <td>5500.400035</td>\n",
       "      <td>602</td>\n",
       "    </tr>\n",
       "  </tbody>\n",
       "</table>\n",
       "<p>514 rows × 2 columns</p>\n",
       "</div>"
      ],
      "text/plain": [
       "            Claps  index\n",
       "0    54858.761574      0\n",
       "1    18417.817409      1\n",
       "2    13468.082416      2\n",
       "3    11026.857327      5\n",
       "4     3025.882621      7\n",
       "..            ...    ...\n",
       "509  17515.132524    598\n",
       "510   3778.513202    599\n",
       "511   2082.321915    600\n",
       "512  13573.356547    601\n",
       "513   5500.400035    602\n",
       "\n",
       "[514 rows x 2 columns]"
      ]
     },
     "execution_count": 257,
     "metadata": {},
     "output_type": "execute_result"
    }
   ],
   "source": [
    "result"
   ]
  },
  {
   "cell_type": "code",
   "execution_count": 259,
   "metadata": {},
   "outputs": [],
   "source": [
    "result[['index', 'Claps']].to_csv('submission.csv', index=False, header=True)"
   ]
  },
  {
   "cell_type": "markdown",
   "metadata": {},
   "source": [
    "## 4. Final Remarks"
   ]
  },
  {
   "cell_type": "markdown",
   "metadata": {},
   "source": [
    "We hope this notebooks gives an overview of a difficult case of engineering NLP in attempt to predict a measurement of interaction level on online articles. We thank you for your time."
   ]
  }
 ],
 "metadata": {
  "accelerator": "TPU",
  "colab": {
   "collapsed_sections": [],
   "name": "Copy of ADAMSclean.ipynb",
   "provenance": []
  },
  "kernelspec": {
   "display_name": "Python 3",
   "language": "python",
   "name": "python3"
  },
  "language_info": {
   "codemirror_mode": {
    "name": "ipython",
    "version": 3
   },
   "file_extension": ".py",
   "mimetype": "text/x-python",
   "name": "python",
   "nbconvert_exporter": "python",
   "pygments_lexer": "ipython3",
   "version": "3.8.5"
  }
 },
 "nbformat": 4,
 "nbformat_minor": 1
}
